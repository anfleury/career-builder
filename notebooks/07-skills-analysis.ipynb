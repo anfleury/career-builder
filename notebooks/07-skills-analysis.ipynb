{
 "cells": [
  {
   "cell_type": "code",
   "execution_count": 1,
   "metadata": {},
   "outputs": [
    {
     "name": "stderr",
     "output_type": "stream",
     "text": [
      "/Users/amanda/.virtualenvs/insight/lib/python3.7/site-packages/fuzzywuzzy/fuzz.py:11: UserWarning: Using slow pure-python SequenceMatcher. Install python-Levenshtein to remove this warning\n",
      "  warnings.warn('Using slow pure-python SequenceMatcher. Install python-Levenshtein to remove this warning')\n"
     ]
    }
   ],
   "source": [
    "import pandas as pd\n",
    "import numpy as np\n",
    "import os, re, ast\n",
    "from fuzzywuzzy import process"
   ]
  },
  {
   "cell_type": "code",
   "execution_count": 2,
   "metadata": {},
   "outputs": [],
   "source": [
    "def convert_to_list(df,columns):\n",
    "\n",
    "    df.fillna('', inplace=True)\n",
    "    \n",
    "    for col in columns:\n",
    "        if isinstance(df[col][0], str):\n",
    "            df[col] = [ast.literal_eval(s) for s in df[col]]\n",
    "        \n",
    "    return df"
   ]
  },
  {
   "cell_type": "code",
   "execution_count": 3,
   "metadata": {},
   "outputs": [],
   "source": [
    "def find_edu_skills(job_df,skills_df,education):\n",
    "\n",
    "    education_jobs = job_df.loc[job_df['education_groups'] == education]\n",
    "    merged_df = pd.merge(left=education_jobs, \n",
    "                         right=skills_df, \n",
    "                         how='left', \n",
    "                         left_on='link', \n",
    "                         right_on='link')\n",
    "    \n",
    "    merged_df_unique = merged_df.drop_duplicates(subset=['link'])\n",
    "    \n",
    "    skills_expanded = merged_df_unique[['link',\n",
    "                                        'degree',\n",
    "                                        'education_groups',\n",
    "                                        'top_jobs',\n",
    "                                        'job_percent',\n",
    "                                        'skills']].explode('skills')\n",
    "    \n",
    "    skills_dict = skills_expanded['skills'].value_counts().to_dict()\n",
    "    \n",
    "    # Remove skills from the list where the count is less than 2 as they're probably not strongly associated with the educaiton\n",
    "    skill_values = {key:val for key, val in skills_dict.items() if val > 2}\n",
    "    \n",
    "    return skill_values"
   ]
  },
  {
   "cell_type": "code",
   "execution_count": 4,
   "metadata": {},
   "outputs": [],
   "source": [
    "def find_job_skills(job_lookup,skills_df,job):\n",
    "    \n",
    "    job_link = job_lookup.loc[job_lookup['top_jobs'] == job.lower()]\n",
    "    \n",
    "    merged_df = pd.merge(left=job_link, \n",
    "                         right=skills_df, \n",
    "                         how='left', \n",
    "                         left_on='link', \n",
    "                         right_on='link')\n",
    "    \n",
    "    \n",
    "    merged_df_unique = merged_df.drop_duplicates(subset=['link'])\n",
    "    \n",
    "    skills_expanded = merged_df_unique[['link',\n",
    "                                        'top_jobs',\n",
    "                                        'skills']].explode('skills')\n",
    "    \n",
    "    job_skill_values = skills_expanded['skills'].value_counts().to_dict()\n",
    "    \n",
    "    return job_skill_values"
   ]
  },
  {
   "cell_type": "code",
   "execution_count": 14,
   "metadata": {},
   "outputs": [],
   "source": [
    "data_path = '/Users/amanda/Documents/Projects/insight/data'\n",
    "\n",
    "# Load education and occupation details\n",
    "\n",
    "overview = pd.read_csv(os.path.join(data_path,'processed','noc-overview.csv'))\n",
    "description = pd.read_csv(os.path.join(data_path,'processed','job-description.csv'))\n",
    "regulation = pd.read_csv(os.path.join(data_path,'processed','job-regulation.csv'))\n",
    "skills = pd.read_csv(os.path.join(data_path,'processed','job-skills.csv'))\n",
    "\n",
    "job_name_df = pd.read_csv(os.path.join(data_path,'processed','education-to-job.csv'))\n"
   ]
  },
  {
   "cell_type": "code",
   "execution_count": 15,
   "metadata": {},
   "outputs": [],
   "source": [
    "# Convert dataframe columns back to lists where necessary\n",
    "overview_df = overview\n",
    "description_df = convert_to_list(description,['duties','titles'])\n",
    "regulation_df = regulation\n",
    "skills_df = convert_to_list(skills,['expertise','skills','knowledge'])"
   ]
  },
  {
   "cell_type": "code",
   "execution_count": 16,
   "metadata": {},
   "outputs": [
    {
     "data": {
      "text/html": [
       "<div>\n",
       "<style scoped>\n",
       "    .dataframe tbody tr th:only-of-type {\n",
       "        vertical-align: middle;\n",
       "    }\n",
       "\n",
       "    .dataframe tbody tr th {\n",
       "        vertical-align: top;\n",
       "    }\n",
       "\n",
       "    .dataframe thead th {\n",
       "        text-align: right;\n",
       "    }\n",
       "</style>\n",
       "<table border=\"1\" class=\"dataframe\">\n",
       "  <thead>\n",
       "    <tr style=\"text-align: right;\">\n",
       "      <th></th>\n",
       "      <th>noc_link</th>\n",
       "      <th>noc_code</th>\n",
       "      <th>job_group</th>\n",
       "      <th>description</th>\n",
       "      <th>alt_titles</th>\n",
       "    </tr>\n",
       "  </thead>\n",
       "  <tbody>\n",
       "    <tr>\n",
       "      <th>0</th>\n",
       "      <td>/Structure/NocProfile/d86ebb9a0ef646f6ad0ef3d5...</td>\n",
       "      <td>11</td>\n",
       "      <td>Legislators</td>\n",
       "      <td>Legislators participate in the activities of a...</td>\n",
       "      <td>['Aboriginal band chief', 'Aboriginal band cou...</td>\n",
       "    </tr>\n",
       "    <tr>\n",
       "      <th>1</th>\n",
       "      <td>/Structure/NocProfile/4196c76219ed4408a4defee3...</td>\n",
       "      <td>12</td>\n",
       "      <td>Senior government managers and officials</td>\n",
       "      <td>Senior government managers and officials plan,...</td>\n",
       "      <td>['Ambassador', 'Assistant chief statistician -...</td>\n",
       "    </tr>\n",
       "    <tr>\n",
       "      <th>2</th>\n",
       "      <td>/Structure/NocProfile/b835b460af1c4473ae874d47...</td>\n",
       "      <td>13</td>\n",
       "      <td>Senior managers - financial, communications ...</td>\n",
       "      <td>Senior managers in financial, communications a...</td>\n",
       "      <td>['Advertising agency president', 'Assistant ex...</td>\n",
       "    </tr>\n",
       "    <tr>\n",
       "      <th>3</th>\n",
       "      <td>/Structure/NocProfile/89394570529f4d049825a3b8...</td>\n",
       "      <td>14</td>\n",
       "      <td>Senior managers - health, education, social ...</td>\n",
       "      <td>Senior managers in health, education, social a...</td>\n",
       "      <td>['Academic association president', 'Academic b...</td>\n",
       "    </tr>\n",
       "    <tr>\n",
       "      <th>4</th>\n",
       "      <td>/Structure/NocProfile/82496d82a4ce49569191a014...</td>\n",
       "      <td>15</td>\n",
       "      <td>Senior managers - trade, broadcasting and ot...</td>\n",
       "      <td>Senior managers in trade, broadcasting and oth...</td>\n",
       "      <td>['Broadcasting corporation president', 'Casino...</td>\n",
       "    </tr>\n",
       "    <tr>\n",
       "      <th>...</th>\n",
       "      <td>...</td>\n",
       "      <td>...</td>\n",
       "      <td>...</td>\n",
       "      <td>...</td>\n",
       "      <td>...</td>\n",
       "    </tr>\n",
       "    <tr>\n",
       "      <th>495</th>\n",
       "      <td>/Structure/NocProfile/40ee46039438487abc199210...</td>\n",
       "      <td>9615</td>\n",
       "      <td>Labourers in rubber and plastic products man...</td>\n",
       "      <td>Labourers in rubber and plastic products manuf...</td>\n",
       "      <td>['Airbag extractor - rubber products manufactu...</td>\n",
       "    </tr>\n",
       "    <tr>\n",
       "      <th>496</th>\n",
       "      <td>/Structure/NocProfile/40deef98f71a419baff819d4...</td>\n",
       "      <td>9616</td>\n",
       "      <td>Labourers in textile processing</td>\n",
       "      <td>Labourers in textile processing perform a vari...</td>\n",
       "      <td>['Bale checker - textile processing', 'Battery...</td>\n",
       "    </tr>\n",
       "    <tr>\n",
       "      <th>497</th>\n",
       "      <td>/Structure/NocProfile/6ca6bc6727814e549571f23c...</td>\n",
       "      <td>9617</td>\n",
       "      <td>Labourers in food and beverage processing</td>\n",
       "      <td>Labourers in food and beverage processing perf...</td>\n",
       "      <td>['Animal feed sack filler', 'Bagger - food and...</td>\n",
       "    </tr>\n",
       "    <tr>\n",
       "      <th>498</th>\n",
       "      <td>/Structure/NocProfile/607616f9d24a4a0e993763b5...</td>\n",
       "      <td>9618</td>\n",
       "      <td>Labourers in fish and seafood processing</td>\n",
       "      <td>Labourers in fish and seafood processing perfo...</td>\n",
       "      <td>['Cannery labourer', 'Cannery labourer - fish ...</td>\n",
       "    </tr>\n",
       "    <tr>\n",
       "      <th>499</th>\n",
       "      <td>/Structure/NocProfile/34a0d675201942bf8beead92...</td>\n",
       "      <td>9619</td>\n",
       "      <td>Other labourers in processing, manufacturing...</td>\n",
       "      <td>Other labourers in processing, manufacturing a...</td>\n",
       "      <td>['Abrasive sheets inspector', 'Acid bottler', ...</td>\n",
       "    </tr>\n",
       "  </tbody>\n",
       "</table>\n",
       "<p>500 rows × 5 columns</p>\n",
       "</div>"
      ],
      "text/plain": [
       "                                              noc_link  noc_code  \\\n",
       "0    /Structure/NocProfile/d86ebb9a0ef646f6ad0ef3d5...        11   \n",
       "1    /Structure/NocProfile/4196c76219ed4408a4defee3...        12   \n",
       "2    /Structure/NocProfile/b835b460af1c4473ae874d47...        13   \n",
       "3    /Structure/NocProfile/89394570529f4d049825a3b8...        14   \n",
       "4    /Structure/NocProfile/82496d82a4ce49569191a014...        15   \n",
       "..                                                 ...       ...   \n",
       "495  /Structure/NocProfile/40ee46039438487abc199210...      9615   \n",
       "496  /Structure/NocProfile/40deef98f71a419baff819d4...      9616   \n",
       "497  /Structure/NocProfile/6ca6bc6727814e549571f23c...      9617   \n",
       "498  /Structure/NocProfile/607616f9d24a4a0e993763b5...      9618   \n",
       "499  /Structure/NocProfile/34a0d675201942bf8beead92...      9619   \n",
       "\n",
       "                                             job_group  \\\n",
       "0                                          Legislators   \n",
       "1             Senior government managers and officials   \n",
       "2      Senior managers - financial, communications ...   \n",
       "3      Senior managers - health, education, social ...   \n",
       "4      Senior managers - trade, broadcasting and ot...   \n",
       "..                                                 ...   \n",
       "495    Labourers in rubber and plastic products man...   \n",
       "496                    Labourers in textile processing   \n",
       "497          Labourers in food and beverage processing   \n",
       "498           Labourers in fish and seafood processing   \n",
       "499    Other labourers in processing, manufacturing...   \n",
       "\n",
       "                                           description  \\\n",
       "0    Legislators participate in the activities of a...   \n",
       "1    Senior government managers and officials plan,...   \n",
       "2    Senior managers in financial, communications a...   \n",
       "3    Senior managers in health, education, social a...   \n",
       "4    Senior managers in trade, broadcasting and oth...   \n",
       "..                                                 ...   \n",
       "495  Labourers in rubber and plastic products manuf...   \n",
       "496  Labourers in textile processing perform a vari...   \n",
       "497  Labourers in food and beverage processing perf...   \n",
       "498  Labourers in fish and seafood processing perfo...   \n",
       "499  Other labourers in processing, manufacturing a...   \n",
       "\n",
       "                                            alt_titles  \n",
       "0    ['Aboriginal band chief', 'Aboriginal band cou...  \n",
       "1    ['Ambassador', 'Assistant chief statistician -...  \n",
       "2    ['Advertising agency president', 'Assistant ex...  \n",
       "3    ['Academic association president', 'Academic b...  \n",
       "4    ['Broadcasting corporation president', 'Casino...  \n",
       "..                                                 ...  \n",
       "495  ['Airbag extractor - rubber products manufactu...  \n",
       "496  ['Bale checker - textile processing', 'Battery...  \n",
       "497  ['Animal feed sack filler', 'Bagger - food and...  \n",
       "498  ['Cannery labourer', 'Cannery labourer - fish ...  \n",
       "499  ['Abrasive sheets inspector', 'Acid bottler', ...  \n",
       "\n",
       "[500 rows x 5 columns]"
      ]
     },
     "execution_count": 16,
     "metadata": {},
     "output_type": "execute_result"
    }
   ],
   "source": [
    "overview_df"
   ]
  },
  {
   "cell_type": "code",
   "execution_count": 7,
   "metadata": {},
   "outputs": [
    {
     "ename": "KeyError",
     "evalue": "\"['noc'] not in index\"",
     "output_type": "error",
     "traceback": [
      "\u001b[0;31m---------------------------------------------------------------------------\u001b[0m",
      "\u001b[0;31mKeyError\u001b[0m                                  Traceback (most recent call last)",
      "\u001b[0;32m<ipython-input-7-ebf5211fabd4>\u001b[0m in \u001b[0;36m<module>\u001b[0;34m\u001b[0m\n\u001b[1;32m      1\u001b[0m \u001b[0;31m# Create a simple key for job title to link\u001b[0m\u001b[0;34m\u001b[0m\u001b[0;34m\u001b[0m\u001b[0;34m\u001b[0m\u001b[0m\n\u001b[0;32m----> 2\u001b[0;31m \u001b[0mjob_lookup\u001b[0m \u001b[0;34m=\u001b[0m \u001b[0mjob_name_df\u001b[0m\u001b[0;34m[\u001b[0m\u001b[0;34m[\u001b[0m\u001b[0;34m'top_jobs'\u001b[0m\u001b[0;34m,\u001b[0m\u001b[0;34m'noc'\u001b[0m\u001b[0;34m]\u001b[0m\u001b[0;34m]\u001b[0m\u001b[0;34m.\u001b[0m\u001b[0mdrop_duplicates\u001b[0m\u001b[0;34m(\u001b[0m\u001b[0;34m)\u001b[0m\u001b[0;34m\u001b[0m\u001b[0;34m\u001b[0m\u001b[0m\n\u001b[0m\u001b[1;32m      3\u001b[0m \u001b[0mjob_lookup\u001b[0m\u001b[0;34m[\u001b[0m\u001b[0;34m'top_jobs'\u001b[0m\u001b[0;34m]\u001b[0m \u001b[0;34m=\u001b[0m \u001b[0mjob_lookup\u001b[0m\u001b[0;34m[\u001b[0m\u001b[0;34m'top_jobs'\u001b[0m\u001b[0;34m]\u001b[0m\u001b[0;34m.\u001b[0m\u001b[0mstr\u001b[0m\u001b[0;34m.\u001b[0m\u001b[0mlower\u001b[0m\u001b[0;34m(\u001b[0m\u001b[0;34m)\u001b[0m\u001b[0;34m\u001b[0m\u001b[0;34m\u001b[0m\u001b[0m\n",
      "\u001b[0;32m~/.virtualenvs/insight/lib/python3.7/site-packages/pandas/core/frame.py\u001b[0m in \u001b[0;36m__getitem__\u001b[0;34m(self, key)\u001b[0m\n\u001b[1;32m   2804\u001b[0m             \u001b[0;32mif\u001b[0m \u001b[0mis_iterator\u001b[0m\u001b[0;34m(\u001b[0m\u001b[0mkey\u001b[0m\u001b[0;34m)\u001b[0m\u001b[0;34m:\u001b[0m\u001b[0;34m\u001b[0m\u001b[0;34m\u001b[0m\u001b[0m\n\u001b[1;32m   2805\u001b[0m                 \u001b[0mkey\u001b[0m \u001b[0;34m=\u001b[0m \u001b[0mlist\u001b[0m\u001b[0;34m(\u001b[0m\u001b[0mkey\u001b[0m\u001b[0;34m)\u001b[0m\u001b[0;34m\u001b[0m\u001b[0;34m\u001b[0m\u001b[0m\n\u001b[0;32m-> 2806\u001b[0;31m             \u001b[0mindexer\u001b[0m \u001b[0;34m=\u001b[0m \u001b[0mself\u001b[0m\u001b[0;34m.\u001b[0m\u001b[0mloc\u001b[0m\u001b[0;34m.\u001b[0m\u001b[0m_get_listlike_indexer\u001b[0m\u001b[0;34m(\u001b[0m\u001b[0mkey\u001b[0m\u001b[0;34m,\u001b[0m \u001b[0maxis\u001b[0m\u001b[0;34m=\u001b[0m\u001b[0;36m1\u001b[0m\u001b[0;34m,\u001b[0m \u001b[0mraise_missing\u001b[0m\u001b[0;34m=\u001b[0m\u001b[0;32mTrue\u001b[0m\u001b[0;34m)\u001b[0m\u001b[0;34m[\u001b[0m\u001b[0;36m1\u001b[0m\u001b[0;34m]\u001b[0m\u001b[0;34m\u001b[0m\u001b[0;34m\u001b[0m\u001b[0m\n\u001b[0m\u001b[1;32m   2807\u001b[0m \u001b[0;34m\u001b[0m\u001b[0m\n\u001b[1;32m   2808\u001b[0m         \u001b[0;31m# take() does not accept boolean indexers\u001b[0m\u001b[0;34m\u001b[0m\u001b[0;34m\u001b[0m\u001b[0;34m\u001b[0m\u001b[0m\n",
      "\u001b[0;32m~/.virtualenvs/insight/lib/python3.7/site-packages/pandas/core/indexing.py\u001b[0m in \u001b[0;36m_get_listlike_indexer\u001b[0;34m(self, key, axis, raise_missing)\u001b[0m\n\u001b[1;32m   1551\u001b[0m \u001b[0;34m\u001b[0m\u001b[0m\n\u001b[1;32m   1552\u001b[0m         self._validate_read_indexer(\n\u001b[0;32m-> 1553\u001b[0;31m             \u001b[0mkeyarr\u001b[0m\u001b[0;34m,\u001b[0m \u001b[0mindexer\u001b[0m\u001b[0;34m,\u001b[0m \u001b[0mo\u001b[0m\u001b[0;34m.\u001b[0m\u001b[0m_get_axis_number\u001b[0m\u001b[0;34m(\u001b[0m\u001b[0maxis\u001b[0m\u001b[0;34m)\u001b[0m\u001b[0;34m,\u001b[0m \u001b[0mraise_missing\u001b[0m\u001b[0;34m=\u001b[0m\u001b[0mraise_missing\u001b[0m\u001b[0;34m\u001b[0m\u001b[0;34m\u001b[0m\u001b[0m\n\u001b[0m\u001b[1;32m   1554\u001b[0m         )\n\u001b[1;32m   1555\u001b[0m         \u001b[0;32mreturn\u001b[0m \u001b[0mkeyarr\u001b[0m\u001b[0;34m,\u001b[0m \u001b[0mindexer\u001b[0m\u001b[0;34m\u001b[0m\u001b[0;34m\u001b[0m\u001b[0m\n",
      "\u001b[0;32m~/.virtualenvs/insight/lib/python3.7/site-packages/pandas/core/indexing.py\u001b[0m in \u001b[0;36m_validate_read_indexer\u001b[0;34m(self, key, indexer, axis, raise_missing)\u001b[0m\n\u001b[1;32m   1644\u001b[0m             \u001b[0;32mif\u001b[0m \u001b[0;32mnot\u001b[0m \u001b[0;34m(\u001b[0m\u001b[0mself\u001b[0m\u001b[0;34m.\u001b[0m\u001b[0mname\u001b[0m \u001b[0;34m==\u001b[0m \u001b[0;34m\"loc\"\u001b[0m \u001b[0;32mand\u001b[0m \u001b[0;32mnot\u001b[0m \u001b[0mraise_missing\u001b[0m\u001b[0;34m)\u001b[0m\u001b[0;34m:\u001b[0m\u001b[0;34m\u001b[0m\u001b[0;34m\u001b[0m\u001b[0m\n\u001b[1;32m   1645\u001b[0m                 \u001b[0mnot_found\u001b[0m \u001b[0;34m=\u001b[0m \u001b[0mlist\u001b[0m\u001b[0;34m(\u001b[0m\u001b[0mset\u001b[0m\u001b[0;34m(\u001b[0m\u001b[0mkey\u001b[0m\u001b[0;34m)\u001b[0m \u001b[0;34m-\u001b[0m \u001b[0mset\u001b[0m\u001b[0;34m(\u001b[0m\u001b[0max\u001b[0m\u001b[0;34m)\u001b[0m\u001b[0;34m)\u001b[0m\u001b[0;34m\u001b[0m\u001b[0;34m\u001b[0m\u001b[0m\n\u001b[0;32m-> 1646\u001b[0;31m                 \u001b[0;32mraise\u001b[0m \u001b[0mKeyError\u001b[0m\u001b[0;34m(\u001b[0m\u001b[0;34mf\"{not_found} not in index\"\u001b[0m\u001b[0;34m)\u001b[0m\u001b[0;34m\u001b[0m\u001b[0;34m\u001b[0m\u001b[0m\n\u001b[0m\u001b[1;32m   1647\u001b[0m \u001b[0;34m\u001b[0m\u001b[0m\n\u001b[1;32m   1648\u001b[0m             \u001b[0;31m# we skip the warning on Categorical/Interval\u001b[0m\u001b[0;34m\u001b[0m\u001b[0;34m\u001b[0m\u001b[0;34m\u001b[0m\u001b[0m\n",
      "\u001b[0;31mKeyError\u001b[0m: \"['noc'] not in index\""
     ]
    }
   ],
   "source": [
    "# Create a simple key for job title to link\n",
    "merged_df = pd.merge(left=job_link, \n",
    "                     right=skills_df, \n",
    "                     how='left', \n",
    "                     left_on='link', \n",
    "                     right_on='link')\n",
    "\n",
    "top_job_lookup = job_name_df[['top_jobs','noc']].drop_duplicates()\n",
    "top_job_lookup['top_jobs'] = job_lookup['top_jobs'].str.lower()"
   ]
  },
  {
   "cell_type": "code",
   "execution_count": 28,
   "metadata": {},
   "outputs": [
    {
     "data": {
      "text/plain": [
       "{'Information Handling : Managing Information',\n",
       " 'Management : Allocating and Controlling Resources'}"
      ]
     },
     "execution_count": 28,
     "metadata": {},
     "output_type": "execute_result"
    }
   ],
   "source": [
    "# Get skills associated with the given education and compare to new job\n",
    "\n",
    "degree = 'Civil engineering and related studies'\n",
    "alt_job = 'Administrative officers'\n",
    "\n",
    "edu_skill_dict = find_edu_skills(job_name_df,skills_df,degree)\n",
    "job_skill_dict = find_job_skills(job_lookup,skills_df,alt_job)\n",
    "\n",
    "edu_skill_sort = sorted(list(edu_skill_dict.keys()))\n",
    "job_skill_sort = sorted(list(job_skill_dict.keys()))\n",
    "\n",
    "matching_skills = [key for key in edu_skill_dict.keys() & job_skill_dict.keys()]\n",
    "new_skills = set(job_skill_dict.keys()) - set(edu_skill_dict.keys())\n",
    "\n",
    "new_skills"
   ]
  },
  {
   "cell_type": "code",
   "execution_count": 29,
   "metadata": {},
   "outputs": [
    {
     "data": {
      "text/plain": [
       "['Analysis : Analyzing Information',\n",
       " 'Analysis : Planning',\n",
       " 'Analysis : Projecting Outcomes',\n",
       " 'Information Handling : Managing Information',\n",
       " 'Management : Allocating and Controlling Resources',\n",
       " 'Management : Co-ordinating and Organizing',\n",
       " 'Management : Supervising']"
      ]
     },
     "execution_count": 29,
     "metadata": {},
     "output_type": "execute_result"
    }
   ],
   "source": [
    "job_skill_sort"
   ]
  },
  {
   "cell_type": "code",
   "execution_count": 30,
   "metadata": {},
   "outputs": [],
   "source": [
    "def get_description(job_lookup,df,job):\n",
    "\n",
    "    job_link = job_lookup['link'].loc[job_lookup['top_jobs'] == job.lower()]\n",
    "\n",
    "    merged_df = pd.merge(left=job_link, \n",
    "                         right=df, \n",
    "                         how='left', \n",
    "                         left_on='link', \n",
    "                         right_on='link')\n",
    "    \n",
    "    \n",
    "    description = merged_df['description'][0]\n",
    "    \n",
    "    return description"
   ]
  },
  {
   "cell_type": "code",
   "execution_count": 31,
   "metadata": {},
   "outputs": [
    {
     "data": {
      "text/plain": [
       "'Administrative officers oversee and implement administrative procedures, establish work priorities, conduct analyses of administrative operations and co-ordinate acquisition of administrative services such as office space, supplies and security services. They are employed throughout the public and private sectors. Administrative officers who are supervisors are included in this unit group.'"
      ]
     },
     "execution_count": 31,
     "metadata": {},
     "output_type": "execute_result"
    }
   ],
   "source": [
    "get_description(job_lookup, description_df,'Administrative officers')"
   ]
  },
  {
   "cell_type": "code",
   "execution_count": 32,
   "metadata": {},
   "outputs": [
    {
     "data": {
      "text/plain": [
       "0       Accounting\n",
       "1       Accounting\n",
       "2       Accounting\n",
       "3       Accounting\n",
       "4       Accounting\n",
       "           ...    \n",
       "1940     Sociology\n",
       "1941     Sociology\n",
       "1942     Sociology\n",
       "1943     Sociology\n",
       "1944     Sociology\n",
       "Name: education_groups, Length: 1945, dtype: object"
      ]
     },
     "execution_count": 32,
     "metadata": {},
     "output_type": "execute_result"
    }
   ],
   "source": [
    "job_name_df['education_groups']"
   ]
  },
  {
   "cell_type": "code",
   "execution_count": 33,
   "metadata": {},
   "outputs": [
    {
     "name": "stdout",
     "output_type": "stream",
     "text": [
      "<class 'list'>\n"
     ]
    },
    {
     "data": {
      "text/plain": [
       "['Other social sciences',\n",
       " 'Social sciences',\n",
       " 'Mental and Social Health Services and Allied Professions',\n",
       " 'Public administration and other social service professions',\n",
       " 'Social work',\n",
       " 'Sociology']"
      ]
     },
     "execution_count": 33,
     "metadata": {},
     "output_type": "execute_result"
    }
   ],
   "source": [
    "q = 'soc'\n",
    "\n",
    "job_names = list(job_name_df['education_groups'].unique())\n",
    "\n",
    "print(type(job_names))\n",
    "query = [s for s in job_names if q.lower() in s.lower()]\n",
    "query"
   ]
  },
  {
   "cell_type": "code",
   "execution_count": 40,
   "metadata": {},
   "outputs": [],
   "source": [
    "def find_closest_match(usr_input,name_list):\n",
    "\n",
    "    highest = process.extract(usr_input,name_list)[0:3]\n",
    "    top3matches = [x[0] for x in highest]\n",
    "\n",
    "    return top3matches"
   ]
  },
  {
   "cell_type": "code",
   "execution_count": 42,
   "metadata": {},
   "outputs": [
    {
     "data": {
      "text/plain": [
       "['Mechanical Engineering Related Technologies/Technicians',\n",
       " 'Other engineering related fields',\n",
       " 'Electrical and Electronic Engineering Technologies/Technicians']"
      ]
     },
     "execution_count": 42,
     "metadata": {},
     "output_type": "execute_result"
    }
   ],
   "source": [
    "edu_names = list(job_name_df['education_groups'].unique())\n",
    "close_match = find_closest_match('enginering',edu_names)\n",
    "close_match"
   ]
  },
  {
   "cell_type": "code",
   "execution_count": null,
   "metadata": {},
   "outputs": [],
   "source": []
  }
 ],
 "metadata": {
  "kernelspec": {
   "display_name": "insight",
   "language": "python",
   "name": "insight"
  },
  "language_info": {
   "codemirror_mode": {
    "name": "ipython",
    "version": 3
   },
   "file_extension": ".py",
   "mimetype": "text/x-python",
   "name": "python",
   "nbconvert_exporter": "python",
   "pygments_lexer": "ipython3",
   "version": "3.7.3"
  }
 },
 "nbformat": 4,
 "nbformat_minor": 4
}
