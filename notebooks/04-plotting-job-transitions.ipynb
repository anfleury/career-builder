{
 "cells": [
  {
   "cell_type": "code",
   "execution_count": 1,
   "metadata": {},
   "outputs": [],
   "source": [
    "import os\n",
    "import re\n",
    "import psycopg2\n",
    "import requests\n",
    "import json, urllib\n",
    "import pandas as pd\n",
    "import numpy as np\n",
    "import plotly.graph_objects as go"
   ]
  },
  {
   "cell_type": "code",
   "execution_count": 23,
   "metadata": {},
   "outputs": [],
   "source": [
    "def back_to_list(df, col):\n",
    "    \"\"\"Convert columns in df back to lists from strings (this happens when saving to csv)\n",
    "    \"\"\"\n",
    "    \n",
    "    df[col] = [s.strip(\"'[\") for s in df[col]]\n",
    "    df[col] = [s.strip(\"]'\") for s in df[col]]\n",
    "    df[col] = [s.split(\"', '\") for s in df[col]]\n",
    "    \n",
    "    return df[col]"
   ]
  },
  {
   "cell_type": "code",
   "execution_count": 2,
   "metadata": {},
   "outputs": [],
   "source": [
    "# Load education and occupation details\n",
    "\n",
    "jobs_df = pd.read_csv('/Users/amanda/Documents/Projects/insight/data/processed/jobbank-fields.csv')\n",
    "details_df = pd.read_csv('/Users/amanda/Documents/Projects/insight/data/processed/jobbank-details.csv')\n",
    "job_name_df = pd.read_csv('/Users/amanda/Documents/Projects/insight/data/processed/education-to-job.csv')\n"
   ]
  },
  {
   "cell_type": "markdown",
   "metadata": {},
   "source": [
    "# Clean and organize skills information"
   ]
  },
  {
   "cell_type": "code",
   "execution_count": 25,
   "metadata": {},
   "outputs": [],
   "source": [
    "jobs_df['description'].str.split('found under ')\n",
    "edu_categories = [s.split('found under ')[1] for s in jobs_df['description']]\n",
    "edu_categories = [s.strip('.') for s in edu_categories]\n",
    "jobs_df['education-groups'] = edu_categories\n",
    "\n",
    "jobs_df['top-jobs'] = back_to_list(jobs_df, 'top-jobs')\n",
    "jobs_df['top-job-links'] = back_to_list(jobs_df, 'top-job-links')\n",
    "jobs_df['job-percent'] = back_to_list(jobs_df, 'job-percent')\n",
    "\n",
    "education_df = jobs_df[['degree','education-groups','top-jobs','job-percent']].drop_duplicates(subset =['education-groups','degree']) "
   ]
  },
  {
   "cell_type": "code",
   "execution_count": 26,
   "metadata": {},
   "outputs": [],
   "source": [
    "details_df['requirements'] = back_to_list(details_df, 'requirements')\n",
    "details_df['skills'] = back_to_list(details_df, 'skills')"
   ]
  },
  {
   "cell_type": "code",
   "execution_count": null,
   "metadata": {},
   "outputs": [],
   "source": []
  },
  {
   "cell_type": "markdown",
   "metadata": {},
   "source": [
    "# Build dataframe for Sankey diagram"
   ]
  },
  {
   "cell_type": "code",
   "execution_count": 5,
   "metadata": {},
   "outputs": [],
   "source": [
    "job_name_df = pd.read_csv('/Users/amanda/Documents/Projects/insight/data/processed/education-to-job.csv')\n",
    "\n",
    "#job_name_df['identifier'] = job_name_df['education-groups'].str.cat(job_name_df['degree'],sep=\" : \")\n",
    "\n",
    "#job_name_df['job-percent'].fillna('', inplace=True)\n",
    "\n",
    "#job_name_df['job-percent'] = [s.strip('%') for s in job_name_df['job-percent']]\n",
    "#job_name_df['job-percent'] = pd.to_numeric(job_name_df['job-percent'], errors='coerce')"
   ]
  },
  {
   "cell_type": "code",
   "execution_count": 6,
   "metadata": {},
   "outputs": [
    {
     "data": {
      "text/html": [
       "<div>\n",
       "<style scoped>\n",
       "    .dataframe tbody tr th:only-of-type {\n",
       "        vertical-align: middle;\n",
       "    }\n",
       "\n",
       "    .dataframe tbody tr th {\n",
       "        vertical-align: top;\n",
       "    }\n",
       "\n",
       "    .dataframe thead th {\n",
       "        text-align: right;\n",
       "    }\n",
       "</style>\n",
       "<table border=\"1\" class=\"dataframe\">\n",
       "  <thead>\n",
       "    <tr style=\"text-align: right;\">\n",
       "      <th></th>\n",
       "      <th>degree</th>\n",
       "      <th>education-groups</th>\n",
       "      <th>top-jobs</th>\n",
       "      <th>job-percent</th>\n",
       "      <th>top-job-links</th>\n",
       "      <th>identifier</th>\n",
       "    </tr>\n",
       "  </thead>\n",
       "  <tbody>\n",
       "    <tr>\n",
       "      <th>0</th>\n",
       "      <td>College/CEGEP</td>\n",
       "      <td>Accounting</td>\n",
       "      <td>Accounting and related clerks</td>\n",
       "      <td>11.99</td>\n",
       "      <td>/marketreport/summary-occupation/14122/ca;jses...</td>\n",
       "      <td>Accounting : College/CEGEP</td>\n",
       "    </tr>\n",
       "    <tr>\n",
       "      <th>1</th>\n",
       "      <td>College/CEGEP</td>\n",
       "      <td>Accounting</td>\n",
       "      <td>Financial auditors and accountants</td>\n",
       "      <td>11.23</td>\n",
       "      <td>/marketreport/summary-occupation/131/ca;jsessi...</td>\n",
       "      <td>Accounting : College/CEGEP</td>\n",
       "    </tr>\n",
       "    <tr>\n",
       "      <th>2</th>\n",
       "      <td>College/CEGEP</td>\n",
       "      <td>Accounting</td>\n",
       "      <td>Accounting technicians and bookkeepers</td>\n",
       "      <td>10.46</td>\n",
       "      <td>/marketreport/summary-occupation/24500/ca;jses...</td>\n",
       "      <td>Accounting : College/CEGEP</td>\n",
       "    </tr>\n",
       "    <tr>\n",
       "      <th>3</th>\n",
       "      <td>College/CEGEP</td>\n",
       "      <td>Accounting</td>\n",
       "      <td>Administrative officers</td>\n",
       "      <td>3.92</td>\n",
       "      <td>/marketreport/summary-occupation/12462/ca;jses...</td>\n",
       "      <td>Accounting : College/CEGEP</td>\n",
       "    </tr>\n",
       "    <tr>\n",
       "      <th>4</th>\n",
       "      <td>College/CEGEP</td>\n",
       "      <td>Accounting</td>\n",
       "      <td>Retail salespersons</td>\n",
       "      <td>3.25</td>\n",
       "      <td>/marketreport/summary-occupation/20599/ca;jses...</td>\n",
       "      <td>Accounting : College/CEGEP</td>\n",
       "    </tr>\n",
       "    <tr>\n",
       "      <th>...</th>\n",
       "      <td>...</td>\n",
       "      <td>...</td>\n",
       "      <td>...</td>\n",
       "      <td>...</td>\n",
       "      <td>...</td>\n",
       "      <td>...</td>\n",
       "    </tr>\n",
       "    <tr>\n",
       "      <th>1940</th>\n",
       "      <td>Master's degree</td>\n",
       "      <td>Sociology</td>\n",
       "      <td>Administrative officers</td>\n",
       "      <td>2.63</td>\n",
       "      <td>/marketreport/summary-occupation/12462/ca;jses...</td>\n",
       "      <td>Sociology : Master's degree</td>\n",
       "    </tr>\n",
       "    <tr>\n",
       "      <th>1941</th>\n",
       "      <td>Master's degree</td>\n",
       "      <td>Sociology</td>\n",
       "      <td>Social and community service workers</td>\n",
       "      <td>2.63</td>\n",
       "      <td>/marketreport/summary-occupation/5112/ca;jsess...</td>\n",
       "      <td>Sociology : Master's degree</td>\n",
       "    </tr>\n",
       "    <tr>\n",
       "      <th>1942</th>\n",
       "      <td>Master's degree</td>\n",
       "      <td>Sociology</td>\n",
       "      <td>Business development officers and marketing re...</td>\n",
       "      <td>2.63</td>\n",
       "      <td>/marketreport/summary-occupation/3916/ca;jsess...</td>\n",
       "      <td>Sociology : Master's degree</td>\n",
       "    </tr>\n",
       "    <tr>\n",
       "      <th>1943</th>\n",
       "      <td>Master's degree</td>\n",
       "      <td>Sociology</td>\n",
       "      <td>University professors and lecturers</td>\n",
       "      <td>1.97</td>\n",
       "      <td>/marketreport/summary-occupation/4707/ca;jsess...</td>\n",
       "      <td>Sociology : Master's degree</td>\n",
       "    </tr>\n",
       "    <tr>\n",
       "      <th>1944</th>\n",
       "      <td>Master's degree</td>\n",
       "      <td>Sociology</td>\n",
       "      <td>Secondary school teachers</td>\n",
       "      <td>1.97</td>\n",
       "      <td>/marketreport/summary-occupation/15904/ca;jses...</td>\n",
       "      <td>Sociology : Master's degree</td>\n",
       "    </tr>\n",
       "  </tbody>\n",
       "</table>\n",
       "<p>1945 rows × 6 columns</p>\n",
       "</div>"
      ],
      "text/plain": [
       "               degree education-groups  \\\n",
       "0       College/CEGEP       Accounting   \n",
       "1       College/CEGEP       Accounting   \n",
       "2       College/CEGEP       Accounting   \n",
       "3       College/CEGEP       Accounting   \n",
       "4       College/CEGEP       Accounting   \n",
       "...               ...              ...   \n",
       "1940  Master's degree        Sociology   \n",
       "1941  Master's degree        Sociology   \n",
       "1942  Master's degree        Sociology   \n",
       "1943  Master's degree        Sociology   \n",
       "1944  Master's degree        Sociology   \n",
       "\n",
       "                                               top-jobs  job-percent  \\\n",
       "0                         Accounting and related clerks        11.99   \n",
       "1                    Financial auditors and accountants        11.23   \n",
       "2                Accounting technicians and bookkeepers        10.46   \n",
       "3                               Administrative officers         3.92   \n",
       "4                                   Retail salespersons         3.25   \n",
       "...                                                 ...          ...   \n",
       "1940                            Administrative officers         2.63   \n",
       "1941               Social and community service workers         2.63   \n",
       "1942  Business development officers and marketing re...         2.63   \n",
       "1943                University professors and lecturers         1.97   \n",
       "1944                          Secondary school teachers         1.97   \n",
       "\n",
       "                                          top-job-links  \\\n",
       "0     /marketreport/summary-occupation/14122/ca;jses...   \n",
       "1     /marketreport/summary-occupation/131/ca;jsessi...   \n",
       "2     /marketreport/summary-occupation/24500/ca;jses...   \n",
       "3     /marketreport/summary-occupation/12462/ca;jses...   \n",
       "4     /marketreport/summary-occupation/20599/ca;jses...   \n",
       "...                                                 ...   \n",
       "1940  /marketreport/summary-occupation/12462/ca;jses...   \n",
       "1941  /marketreport/summary-occupation/5112/ca;jsess...   \n",
       "1942  /marketreport/summary-occupation/3916/ca;jsess...   \n",
       "1943  /marketreport/summary-occupation/4707/ca;jsess...   \n",
       "1944  /marketreport/summary-occupation/15904/ca;jses...   \n",
       "\n",
       "                       identifier  \n",
       "0      Accounting : College/CEGEP  \n",
       "1      Accounting : College/CEGEP  \n",
       "2      Accounting : College/CEGEP  \n",
       "3      Accounting : College/CEGEP  \n",
       "4      Accounting : College/CEGEP  \n",
       "...                           ...  \n",
       "1940  Sociology : Master's degree  \n",
       "1941  Sociology : Master's degree  \n",
       "1942  Sociology : Master's degree  \n",
       "1943  Sociology : Master's degree  \n",
       "1944  Sociology : Master's degree  \n",
       "\n",
       "[1945 rows x 6 columns]"
      ]
     },
     "execution_count": 6,
     "metadata": {},
     "output_type": "execute_result"
    }
   ],
   "source": [
    "job_name_df"
   ]
  },
  {
   "cell_type": "code",
   "execution_count": 29,
   "metadata": {},
   "outputs": [],
   "source": [
    "def build_sankey(df, degree):\n",
    "\n",
    "    data = df.where(df['education-groups']==degree).dropna()\n",
    "    \n",
    "    \n",
    "\n",
    "    data_trace = dict(type='sankey',\n",
    "                      domain = dict(x =  [0,1],y =  [0,1]),\n",
    "                      orientation = \"h\",\n",
    "                      valueformat = \".0f\",\n",
    "                      node = dict(pad = 10,\n",
    "                                  thickness = 30,\n",
    "                                  line = dict(color = \"black\",width = 0),\n",
    "                                  label =  [\"A1\", \"A2\", \"B1\", \"B2\", \"C1\", \"C2\"],\n",
    "                                  #color = scottish_df['Color']\n",
    "                                 ),\n",
    "                      link = dict(source = [0, 1, 0, 2, 3, 3],\n",
    "                                  target = [2, 3, 3, 4, 4, 5],\n",
    "                                  value = [8, 4, 2, 8, 4, 2],\n",
    "                                  #color = scottish_df['Link Color'].dropna(axis=0, how='any'),\n",
    "                                 )\n",
    "                     )\n",
    "\n",
    "    layout =  dict(title = \"Title\",\n",
    "                   height = 772,\n",
    "                   font = dict(size = 10),\n",
    "                  )\n",
    "\n",
    "    fig = go.Figure(data=[data_trace], layout=layout)\n",
    "\n",
    "    return fig"
   ]
  },
  {
   "cell_type": "code",
   "execution_count": 12,
   "metadata": {},
   "outputs": [],
   "source": [
    "def build_sankey(df, degree):\n",
    "\n",
    "    data = df.where(df['education-groups']==degree).dropna()\n",
    "    \n",
    "    all_nodes = data['identifier'].values.tolist() + data['top-jobs'].values.tolist()\n",
    "    source_indices = [all_nodes.index(identifier) for identifier in data['identifier']]\n",
    "    target_indices = [all_nodes.index(top_job) for top_job in data['top-jobs']]\n",
    "\n",
    "    fig = go.Figure(data=[go.Sankey\n",
    "                          (node = dict(pad = 15,\n",
    "                                       thickness = 20,\n",
    "                                       line = dict(color = \"black\", \n",
    "                                                   width = 0),\n",
    "                                       label = all_nodes,\n",
    "                           ),\n",
    "                           link = dict(source = source_indices, # indices correspond to labels, eg A1, A2, A2, B1, ...\n",
    "                                       target = target_indices,\n",
    "                                       value = data['job-percent']*100)\n",
    "                          )\n",
    "                         ]\n",
    "                   )\n",
    "\n",
    "    fig.update_layout(title_text=\"Basic Sankey Diagram\", font_size=10)\n",
    "    fig.show()\n",
    "    \n",
    "    return data\n",
    "    "
   ]
  },
  {
   "cell_type": "code",
   "execution_count": 13,
   "metadata": {
    "scrolled": false
   },
   "outputs": [
    {
     "data": {
      "application/vnd.plotly.v1+json": {
       "config": {
        "plotlyServerURL": "https://plot.ly"
       },
       "data": [
        {
         "link": {
          "source": [
           0,
           0,
           0,
           0,
           0,
           0,
           0,
           0,
           0,
           0,
           10,
           10,
           10,
           10,
           10,
           10,
           10,
           10,
           10,
           10,
           20,
           20,
           20,
           20,
           20,
           20,
           20,
           20,
           20,
           20
          ],
          "target": [
           30,
           31,
           32,
           33,
           34,
           35,
           36,
           37,
           38,
           39,
           31,
           41,
           30,
           43,
           32,
           45,
           33,
           47,
           48,
           34,
           31,
           43,
           30,
           45,
           41,
           55,
           32,
           57,
           58,
           59
          ],
          "value": [
           1199,
           1123,
           1046,
           392,
           325,
           306,
           263,
           252.99999999999997,
           248,
           204.99999999999997,
           4695,
           735,
           705,
           544,
           366,
           241,
           129,
           119,
           119,
           102,
           5091,
           1182,
           545,
           364,
           341,
           159,
           159,
           136,
           113.99999999999999,
           113.99999999999999
          ]
         },
         "node": {
          "label": [
           "Accounting : College/CEGEP",
           "Accounting : College/CEGEP",
           "Accounting : College/CEGEP",
           "Accounting : College/CEGEP",
           "Accounting : College/CEGEP",
           "Accounting : College/CEGEP",
           "Accounting : College/CEGEP",
           "Accounting : College/CEGEP",
           "Accounting : College/CEGEP",
           "Accounting : College/CEGEP",
           "Accounting : Bachelor's degree",
           "Accounting : Bachelor's degree",
           "Accounting : Bachelor's degree",
           "Accounting : Bachelor's degree",
           "Accounting : Bachelor's degree",
           "Accounting : Bachelor's degree",
           "Accounting : Bachelor's degree",
           "Accounting : Bachelor's degree",
           "Accounting : Bachelor's degree",
           "Accounting : Bachelor's degree",
           "Accounting : Master's degree",
           "Accounting : Master's degree",
           "Accounting : Master's degree",
           "Accounting : Master's degree",
           "Accounting : Master's degree",
           "Accounting : Master's degree",
           "Accounting : Master's degree",
           "Accounting : Master's degree",
           "Accounting : Master's degree",
           "Accounting : Master's degree",
           "Accounting and related clerks",
           "Financial auditors and accountants",
           "Accounting technicians and bookkeepers",
           "Administrative officers",
           "Retail salespersons",
           "Administrative assistants",
           "Retail and wholesale trade managers",
           "General office support workers",
           "Other customer and information services representatives",
           "Customer services representatives - financial institutions",
           "Financial auditors and accountants",
           "Financial and investment analysts",
           "Accounting and related clerks",
           "Financial managers",
           "Accounting technicians and bookkeepers",
           "Other financial officers",
           "Administrative officers",
           "Professional occupations in business management consulting",
           "Financial sales representatives",
           "Retail salespersons",
           "Financial auditors and accountants",
           "Financial managers",
           "Accounting and related clerks",
           "Other financial officers",
           "Financial and investment analysts",
           "Senior managers - financial, communications and other business services",
           "Accounting technicians and bookkeepers",
           "Banking, credit and other investment managers",
           "Insurance, real estate and financial brokerage managers",
           "University professors and lecturers"
          ],
          "line": {
           "color": "black",
           "width": 0
          },
          "pad": 15,
          "thickness": 20
         },
         "type": "sankey"
        }
       ],
       "layout": {
        "font": {
         "size": 10
        },
        "template": {
         "data": {
          "bar": [
           {
            "error_x": {
             "color": "#2a3f5f"
            },
            "error_y": {
             "color": "#2a3f5f"
            },
            "marker": {
             "line": {
              "color": "#E5ECF6",
              "width": 0.5
             }
            },
            "type": "bar"
           }
          ],
          "barpolar": [
           {
            "marker": {
             "line": {
              "color": "#E5ECF6",
              "width": 0.5
             }
            },
            "type": "barpolar"
           }
          ],
          "carpet": [
           {
            "aaxis": {
             "endlinecolor": "#2a3f5f",
             "gridcolor": "white",
             "linecolor": "white",
             "minorgridcolor": "white",
             "startlinecolor": "#2a3f5f"
            },
            "baxis": {
             "endlinecolor": "#2a3f5f",
             "gridcolor": "white",
             "linecolor": "white",
             "minorgridcolor": "white",
             "startlinecolor": "#2a3f5f"
            },
            "type": "carpet"
           }
          ],
          "choropleth": [
           {
            "colorbar": {
             "outlinewidth": 0,
             "ticks": ""
            },
            "type": "choropleth"
           }
          ],
          "contour": [
           {
            "colorbar": {
             "outlinewidth": 0,
             "ticks": ""
            },
            "colorscale": [
             [
              0,
              "#0d0887"
             ],
             [
              0.1111111111111111,
              "#46039f"
             ],
             [
              0.2222222222222222,
              "#7201a8"
             ],
             [
              0.3333333333333333,
              "#9c179e"
             ],
             [
              0.4444444444444444,
              "#bd3786"
             ],
             [
              0.5555555555555556,
              "#d8576b"
             ],
             [
              0.6666666666666666,
              "#ed7953"
             ],
             [
              0.7777777777777778,
              "#fb9f3a"
             ],
             [
              0.8888888888888888,
              "#fdca26"
             ],
             [
              1,
              "#f0f921"
             ]
            ],
            "type": "contour"
           }
          ],
          "contourcarpet": [
           {
            "colorbar": {
             "outlinewidth": 0,
             "ticks": ""
            },
            "type": "contourcarpet"
           }
          ],
          "heatmap": [
           {
            "colorbar": {
             "outlinewidth": 0,
             "ticks": ""
            },
            "colorscale": [
             [
              0,
              "#0d0887"
             ],
             [
              0.1111111111111111,
              "#46039f"
             ],
             [
              0.2222222222222222,
              "#7201a8"
             ],
             [
              0.3333333333333333,
              "#9c179e"
             ],
             [
              0.4444444444444444,
              "#bd3786"
             ],
             [
              0.5555555555555556,
              "#d8576b"
             ],
             [
              0.6666666666666666,
              "#ed7953"
             ],
             [
              0.7777777777777778,
              "#fb9f3a"
             ],
             [
              0.8888888888888888,
              "#fdca26"
             ],
             [
              1,
              "#f0f921"
             ]
            ],
            "type": "heatmap"
           }
          ],
          "heatmapgl": [
           {
            "colorbar": {
             "outlinewidth": 0,
             "ticks": ""
            },
            "colorscale": [
             [
              0,
              "#0d0887"
             ],
             [
              0.1111111111111111,
              "#46039f"
             ],
             [
              0.2222222222222222,
              "#7201a8"
             ],
             [
              0.3333333333333333,
              "#9c179e"
             ],
             [
              0.4444444444444444,
              "#bd3786"
             ],
             [
              0.5555555555555556,
              "#d8576b"
             ],
             [
              0.6666666666666666,
              "#ed7953"
             ],
             [
              0.7777777777777778,
              "#fb9f3a"
             ],
             [
              0.8888888888888888,
              "#fdca26"
             ],
             [
              1,
              "#f0f921"
             ]
            ],
            "type": "heatmapgl"
           }
          ],
          "histogram": [
           {
            "marker": {
             "colorbar": {
              "outlinewidth": 0,
              "ticks": ""
             }
            },
            "type": "histogram"
           }
          ],
          "histogram2d": [
           {
            "colorbar": {
             "outlinewidth": 0,
             "ticks": ""
            },
            "colorscale": [
             [
              0,
              "#0d0887"
             ],
             [
              0.1111111111111111,
              "#46039f"
             ],
             [
              0.2222222222222222,
              "#7201a8"
             ],
             [
              0.3333333333333333,
              "#9c179e"
             ],
             [
              0.4444444444444444,
              "#bd3786"
             ],
             [
              0.5555555555555556,
              "#d8576b"
             ],
             [
              0.6666666666666666,
              "#ed7953"
             ],
             [
              0.7777777777777778,
              "#fb9f3a"
             ],
             [
              0.8888888888888888,
              "#fdca26"
             ],
             [
              1,
              "#f0f921"
             ]
            ],
            "type": "histogram2d"
           }
          ],
          "histogram2dcontour": [
           {
            "colorbar": {
             "outlinewidth": 0,
             "ticks": ""
            },
            "colorscale": [
             [
              0,
              "#0d0887"
             ],
             [
              0.1111111111111111,
              "#46039f"
             ],
             [
              0.2222222222222222,
              "#7201a8"
             ],
             [
              0.3333333333333333,
              "#9c179e"
             ],
             [
              0.4444444444444444,
              "#bd3786"
             ],
             [
              0.5555555555555556,
              "#d8576b"
             ],
             [
              0.6666666666666666,
              "#ed7953"
             ],
             [
              0.7777777777777778,
              "#fb9f3a"
             ],
             [
              0.8888888888888888,
              "#fdca26"
             ],
             [
              1,
              "#f0f921"
             ]
            ],
            "type": "histogram2dcontour"
           }
          ],
          "mesh3d": [
           {
            "colorbar": {
             "outlinewidth": 0,
             "ticks": ""
            },
            "type": "mesh3d"
           }
          ],
          "parcoords": [
           {
            "line": {
             "colorbar": {
              "outlinewidth": 0,
              "ticks": ""
             }
            },
            "type": "parcoords"
           }
          ],
          "pie": [
           {
            "automargin": true,
            "type": "pie"
           }
          ],
          "scatter": [
           {
            "marker": {
             "colorbar": {
              "outlinewidth": 0,
              "ticks": ""
             }
            },
            "type": "scatter"
           }
          ],
          "scatter3d": [
           {
            "line": {
             "colorbar": {
              "outlinewidth": 0,
              "ticks": ""
             }
            },
            "marker": {
             "colorbar": {
              "outlinewidth": 0,
              "ticks": ""
             }
            },
            "type": "scatter3d"
           }
          ],
          "scattercarpet": [
           {
            "marker": {
             "colorbar": {
              "outlinewidth": 0,
              "ticks": ""
             }
            },
            "type": "scattercarpet"
           }
          ],
          "scattergeo": [
           {
            "marker": {
             "colorbar": {
              "outlinewidth": 0,
              "ticks": ""
             }
            },
            "type": "scattergeo"
           }
          ],
          "scattergl": [
           {
            "marker": {
             "colorbar": {
              "outlinewidth": 0,
              "ticks": ""
             }
            },
            "type": "scattergl"
           }
          ],
          "scattermapbox": [
           {
            "marker": {
             "colorbar": {
              "outlinewidth": 0,
              "ticks": ""
             }
            },
            "type": "scattermapbox"
           }
          ],
          "scatterpolar": [
           {
            "marker": {
             "colorbar": {
              "outlinewidth": 0,
              "ticks": ""
             }
            },
            "type": "scatterpolar"
           }
          ],
          "scatterpolargl": [
           {
            "marker": {
             "colorbar": {
              "outlinewidth": 0,
              "ticks": ""
             }
            },
            "type": "scatterpolargl"
           }
          ],
          "scatterternary": [
           {
            "marker": {
             "colorbar": {
              "outlinewidth": 0,
              "ticks": ""
             }
            },
            "type": "scatterternary"
           }
          ],
          "surface": [
           {
            "colorbar": {
             "outlinewidth": 0,
             "ticks": ""
            },
            "colorscale": [
             [
              0,
              "#0d0887"
             ],
             [
              0.1111111111111111,
              "#46039f"
             ],
             [
              0.2222222222222222,
              "#7201a8"
             ],
             [
              0.3333333333333333,
              "#9c179e"
             ],
             [
              0.4444444444444444,
              "#bd3786"
             ],
             [
              0.5555555555555556,
              "#d8576b"
             ],
             [
              0.6666666666666666,
              "#ed7953"
             ],
             [
              0.7777777777777778,
              "#fb9f3a"
             ],
             [
              0.8888888888888888,
              "#fdca26"
             ],
             [
              1,
              "#f0f921"
             ]
            ],
            "type": "surface"
           }
          ],
          "table": [
           {
            "cells": {
             "fill": {
              "color": "#EBF0F8"
             },
             "line": {
              "color": "white"
             }
            },
            "header": {
             "fill": {
              "color": "#C8D4E3"
             },
             "line": {
              "color": "white"
             }
            },
            "type": "table"
           }
          ]
         },
         "layout": {
          "annotationdefaults": {
           "arrowcolor": "#2a3f5f",
           "arrowhead": 0,
           "arrowwidth": 1
          },
          "coloraxis": {
           "colorbar": {
            "outlinewidth": 0,
            "ticks": ""
           }
          },
          "colorscale": {
           "diverging": [
            [
             0,
             "#8e0152"
            ],
            [
             0.1,
             "#c51b7d"
            ],
            [
             0.2,
             "#de77ae"
            ],
            [
             0.3,
             "#f1b6da"
            ],
            [
             0.4,
             "#fde0ef"
            ],
            [
             0.5,
             "#f7f7f7"
            ],
            [
             0.6,
             "#e6f5d0"
            ],
            [
             0.7,
             "#b8e186"
            ],
            [
             0.8,
             "#7fbc41"
            ],
            [
             0.9,
             "#4d9221"
            ],
            [
             1,
             "#276419"
            ]
           ],
           "sequential": [
            [
             0,
             "#0d0887"
            ],
            [
             0.1111111111111111,
             "#46039f"
            ],
            [
             0.2222222222222222,
             "#7201a8"
            ],
            [
             0.3333333333333333,
             "#9c179e"
            ],
            [
             0.4444444444444444,
             "#bd3786"
            ],
            [
             0.5555555555555556,
             "#d8576b"
            ],
            [
             0.6666666666666666,
             "#ed7953"
            ],
            [
             0.7777777777777778,
             "#fb9f3a"
            ],
            [
             0.8888888888888888,
             "#fdca26"
            ],
            [
             1,
             "#f0f921"
            ]
           ],
           "sequentialminus": [
            [
             0,
             "#0d0887"
            ],
            [
             0.1111111111111111,
             "#46039f"
            ],
            [
             0.2222222222222222,
             "#7201a8"
            ],
            [
             0.3333333333333333,
             "#9c179e"
            ],
            [
             0.4444444444444444,
             "#bd3786"
            ],
            [
             0.5555555555555556,
             "#d8576b"
            ],
            [
             0.6666666666666666,
             "#ed7953"
            ],
            [
             0.7777777777777778,
             "#fb9f3a"
            ],
            [
             0.8888888888888888,
             "#fdca26"
            ],
            [
             1,
             "#f0f921"
            ]
           ]
          },
          "colorway": [
           "#636efa",
           "#EF553B",
           "#00cc96",
           "#ab63fa",
           "#FFA15A",
           "#19d3f3",
           "#FF6692",
           "#B6E880",
           "#FF97FF",
           "#FECB52"
          ],
          "font": {
           "color": "#2a3f5f"
          },
          "geo": {
           "bgcolor": "white",
           "lakecolor": "white",
           "landcolor": "#E5ECF6",
           "showlakes": true,
           "showland": true,
           "subunitcolor": "white"
          },
          "hoverlabel": {
           "align": "left"
          },
          "hovermode": "closest",
          "mapbox": {
           "style": "light"
          },
          "paper_bgcolor": "white",
          "plot_bgcolor": "#E5ECF6",
          "polar": {
           "angularaxis": {
            "gridcolor": "white",
            "linecolor": "white",
            "ticks": ""
           },
           "bgcolor": "#E5ECF6",
           "radialaxis": {
            "gridcolor": "white",
            "linecolor": "white",
            "ticks": ""
           }
          },
          "scene": {
           "xaxis": {
            "backgroundcolor": "#E5ECF6",
            "gridcolor": "white",
            "gridwidth": 2,
            "linecolor": "white",
            "showbackground": true,
            "ticks": "",
            "zerolinecolor": "white"
           },
           "yaxis": {
            "backgroundcolor": "#E5ECF6",
            "gridcolor": "white",
            "gridwidth": 2,
            "linecolor": "white",
            "showbackground": true,
            "ticks": "",
            "zerolinecolor": "white"
           },
           "zaxis": {
            "backgroundcolor": "#E5ECF6",
            "gridcolor": "white",
            "gridwidth": 2,
            "linecolor": "white",
            "showbackground": true,
            "ticks": "",
            "zerolinecolor": "white"
           }
          },
          "shapedefaults": {
           "line": {
            "color": "#2a3f5f"
           }
          },
          "ternary": {
           "aaxis": {
            "gridcolor": "white",
            "linecolor": "white",
            "ticks": ""
           },
           "baxis": {
            "gridcolor": "white",
            "linecolor": "white",
            "ticks": ""
           },
           "bgcolor": "#E5ECF6",
           "caxis": {
            "gridcolor": "white",
            "linecolor": "white",
            "ticks": ""
           }
          },
          "title": {
           "x": 0.05
          },
          "xaxis": {
           "automargin": true,
           "gridcolor": "white",
           "linecolor": "white",
           "ticks": "",
           "title": {
            "standoff": 15
           },
           "zerolinecolor": "white",
           "zerolinewidth": 2
          },
          "yaxis": {
           "automargin": true,
           "gridcolor": "white",
           "linecolor": "white",
           "ticks": "",
           "title": {
            "standoff": 15
           },
           "zerolinecolor": "white",
           "zerolinewidth": 2
          }
         }
        },
        "title": {
         "text": "Basic Sankey Diagram"
        }
       }
      },
      "text/html": [
       "<div>\n",
       "        \n",
       "        \n",
       "            <div id=\"176ce4f2-2845-45a4-983e-2b89d2592118\" class=\"plotly-graph-div\" style=\"height:525px; width:100%;\"></div>\n",
       "            <script type=\"text/javascript\">\n",
       "                require([\"plotly\"], function(Plotly) {\n",
       "                    window.PLOTLYENV=window.PLOTLYENV || {};\n",
       "                    \n",
       "                if (document.getElementById(\"176ce4f2-2845-45a4-983e-2b89d2592118\")) {\n",
       "                    Plotly.newPlot(\n",
       "                        '176ce4f2-2845-45a4-983e-2b89d2592118',\n",
       "                        [{\"link\": {\"source\": [0, 0, 0, 0, 0, 0, 0, 0, 0, 0, 10, 10, 10, 10, 10, 10, 10, 10, 10, 10, 20, 20, 20, 20, 20, 20, 20, 20, 20, 20], \"target\": [30, 31, 32, 33, 34, 35, 36, 37, 38, 39, 31, 41, 30, 43, 32, 45, 33, 47, 48, 34, 31, 43, 30, 45, 41, 55, 32, 57, 58, 59], \"value\": [1199.0, 1123.0, 1046.0, 392.0, 325.0, 306.0, 263.0, 252.99999999999997, 248.0, 204.99999999999997, 4695.0, 735.0, 705.0, 544.0, 366.0, 241.0, 129.0, 119.0, 119.0, 102.0, 5091.0, 1182.0, 545.0, 364.0, 341.0, 159.0, 159.0, 136.0, 113.99999999999999, 113.99999999999999]}, \"node\": {\"label\": [\"Accounting : College/CEGEP\", \"Accounting : College/CEGEP\", \"Accounting : College/CEGEP\", \"Accounting : College/CEGEP\", \"Accounting : College/CEGEP\", \"Accounting : College/CEGEP\", \"Accounting : College/CEGEP\", \"Accounting : College/CEGEP\", \"Accounting : College/CEGEP\", \"Accounting : College/CEGEP\", \"Accounting : Bachelor's degree\", \"Accounting : Bachelor's degree\", \"Accounting : Bachelor's degree\", \"Accounting : Bachelor's degree\", \"Accounting : Bachelor's degree\", \"Accounting : Bachelor's degree\", \"Accounting : Bachelor's degree\", \"Accounting : Bachelor's degree\", \"Accounting : Bachelor's degree\", \"Accounting : Bachelor's degree\", \"Accounting : Master's degree\", \"Accounting : Master's degree\", \"Accounting : Master's degree\", \"Accounting : Master's degree\", \"Accounting : Master's degree\", \"Accounting : Master's degree\", \"Accounting : Master's degree\", \"Accounting : Master's degree\", \"Accounting : Master's degree\", \"Accounting : Master's degree\", \"Accounting and related clerks\", \"Financial auditors and accountants\", \"Accounting technicians and bookkeepers\", \"Administrative officers\", \"Retail salespersons\", \"Administrative assistants\", \"Retail and wholesale trade managers\", \"General office support workers\", \"Other customer and information services representatives\", \"Customer services representatives - financial institutions\", \"Financial auditors and accountants\", \"Financial and investment analysts\", \"Accounting and related clerks\", \"Financial managers\", \"Accounting technicians and bookkeepers\", \"Other financial officers\", \"Administrative officers\", \"Professional occupations in business management consulting\", \"Financial sales representatives\", \"Retail salespersons\", \"Financial auditors and accountants\", \"Financial managers\", \"Accounting and related clerks\", \"Other financial officers\", \"Financial and investment analysts\", \"Senior managers - financial, communications and other business services\", \"Accounting technicians and bookkeepers\", \"Banking, credit and other investment managers\", \"Insurance, real estate and financial brokerage managers\", \"University professors and lecturers\"], \"line\": {\"color\": \"black\", \"width\": 0}, \"pad\": 15, \"thickness\": 20}, \"type\": \"sankey\"}],\n",
       "                        {\"font\": {\"size\": 10}, \"template\": {\"data\": {\"bar\": [{\"error_x\": {\"color\": \"#2a3f5f\"}, \"error_y\": {\"color\": \"#2a3f5f\"}, \"marker\": {\"line\": {\"color\": \"#E5ECF6\", \"width\": 0.5}}, \"type\": \"bar\"}], \"barpolar\": [{\"marker\": {\"line\": {\"color\": \"#E5ECF6\", \"width\": 0.5}}, \"type\": \"barpolar\"}], \"carpet\": [{\"aaxis\": {\"endlinecolor\": \"#2a3f5f\", \"gridcolor\": \"white\", \"linecolor\": \"white\", \"minorgridcolor\": \"white\", \"startlinecolor\": \"#2a3f5f\"}, \"baxis\": {\"endlinecolor\": \"#2a3f5f\", \"gridcolor\": \"white\", \"linecolor\": \"white\", \"minorgridcolor\": \"white\", \"startlinecolor\": \"#2a3f5f\"}, \"type\": \"carpet\"}], \"choropleth\": [{\"colorbar\": {\"outlinewidth\": 0, \"ticks\": \"\"}, \"type\": \"choropleth\"}], \"contour\": [{\"colorbar\": {\"outlinewidth\": 0, \"ticks\": \"\"}, \"colorscale\": [[0.0, \"#0d0887\"], [0.1111111111111111, \"#46039f\"], [0.2222222222222222, \"#7201a8\"], [0.3333333333333333, \"#9c179e\"], [0.4444444444444444, \"#bd3786\"], [0.5555555555555556, \"#d8576b\"], [0.6666666666666666, \"#ed7953\"], [0.7777777777777778, \"#fb9f3a\"], [0.8888888888888888, \"#fdca26\"], [1.0, \"#f0f921\"]], \"type\": \"contour\"}], \"contourcarpet\": [{\"colorbar\": {\"outlinewidth\": 0, \"ticks\": \"\"}, \"type\": \"contourcarpet\"}], \"heatmap\": [{\"colorbar\": {\"outlinewidth\": 0, \"ticks\": \"\"}, \"colorscale\": [[0.0, \"#0d0887\"], [0.1111111111111111, \"#46039f\"], [0.2222222222222222, \"#7201a8\"], [0.3333333333333333, \"#9c179e\"], [0.4444444444444444, \"#bd3786\"], [0.5555555555555556, \"#d8576b\"], [0.6666666666666666, \"#ed7953\"], [0.7777777777777778, \"#fb9f3a\"], [0.8888888888888888, \"#fdca26\"], [1.0, \"#f0f921\"]], \"type\": \"heatmap\"}], \"heatmapgl\": [{\"colorbar\": {\"outlinewidth\": 0, \"ticks\": \"\"}, \"colorscale\": [[0.0, \"#0d0887\"], [0.1111111111111111, \"#46039f\"], [0.2222222222222222, \"#7201a8\"], [0.3333333333333333, \"#9c179e\"], [0.4444444444444444, \"#bd3786\"], [0.5555555555555556, \"#d8576b\"], [0.6666666666666666, \"#ed7953\"], [0.7777777777777778, \"#fb9f3a\"], [0.8888888888888888, \"#fdca26\"], [1.0, \"#f0f921\"]], \"type\": \"heatmapgl\"}], \"histogram\": [{\"marker\": {\"colorbar\": {\"outlinewidth\": 0, \"ticks\": \"\"}}, \"type\": \"histogram\"}], \"histogram2d\": [{\"colorbar\": {\"outlinewidth\": 0, \"ticks\": \"\"}, \"colorscale\": [[0.0, \"#0d0887\"], [0.1111111111111111, \"#46039f\"], [0.2222222222222222, \"#7201a8\"], [0.3333333333333333, \"#9c179e\"], [0.4444444444444444, \"#bd3786\"], [0.5555555555555556, \"#d8576b\"], [0.6666666666666666, \"#ed7953\"], [0.7777777777777778, \"#fb9f3a\"], [0.8888888888888888, \"#fdca26\"], [1.0, \"#f0f921\"]], \"type\": \"histogram2d\"}], \"histogram2dcontour\": [{\"colorbar\": {\"outlinewidth\": 0, \"ticks\": \"\"}, \"colorscale\": [[0.0, \"#0d0887\"], [0.1111111111111111, \"#46039f\"], [0.2222222222222222, \"#7201a8\"], [0.3333333333333333, \"#9c179e\"], [0.4444444444444444, \"#bd3786\"], [0.5555555555555556, \"#d8576b\"], [0.6666666666666666, \"#ed7953\"], [0.7777777777777778, \"#fb9f3a\"], [0.8888888888888888, \"#fdca26\"], [1.0, \"#f0f921\"]], \"type\": \"histogram2dcontour\"}], \"mesh3d\": [{\"colorbar\": {\"outlinewidth\": 0, \"ticks\": \"\"}, \"type\": \"mesh3d\"}], \"parcoords\": [{\"line\": {\"colorbar\": {\"outlinewidth\": 0, \"ticks\": \"\"}}, \"type\": \"parcoords\"}], \"pie\": [{\"automargin\": true, \"type\": \"pie\"}], \"scatter\": [{\"marker\": {\"colorbar\": {\"outlinewidth\": 0, \"ticks\": \"\"}}, \"type\": \"scatter\"}], \"scatter3d\": [{\"line\": {\"colorbar\": {\"outlinewidth\": 0, \"ticks\": \"\"}}, \"marker\": {\"colorbar\": {\"outlinewidth\": 0, \"ticks\": \"\"}}, \"type\": \"scatter3d\"}], \"scattercarpet\": [{\"marker\": {\"colorbar\": {\"outlinewidth\": 0, \"ticks\": \"\"}}, \"type\": \"scattercarpet\"}], \"scattergeo\": [{\"marker\": {\"colorbar\": {\"outlinewidth\": 0, \"ticks\": \"\"}}, \"type\": \"scattergeo\"}], \"scattergl\": [{\"marker\": {\"colorbar\": {\"outlinewidth\": 0, \"ticks\": \"\"}}, \"type\": \"scattergl\"}], \"scattermapbox\": [{\"marker\": {\"colorbar\": {\"outlinewidth\": 0, \"ticks\": \"\"}}, \"type\": \"scattermapbox\"}], \"scatterpolar\": [{\"marker\": {\"colorbar\": {\"outlinewidth\": 0, \"ticks\": \"\"}}, \"type\": \"scatterpolar\"}], \"scatterpolargl\": [{\"marker\": {\"colorbar\": {\"outlinewidth\": 0, \"ticks\": \"\"}}, \"type\": \"scatterpolargl\"}], \"scatterternary\": [{\"marker\": {\"colorbar\": {\"outlinewidth\": 0, \"ticks\": \"\"}}, \"type\": \"scatterternary\"}], \"surface\": [{\"colorbar\": {\"outlinewidth\": 0, \"ticks\": \"\"}, \"colorscale\": [[0.0, \"#0d0887\"], [0.1111111111111111, \"#46039f\"], [0.2222222222222222, \"#7201a8\"], [0.3333333333333333, \"#9c179e\"], [0.4444444444444444, \"#bd3786\"], [0.5555555555555556, \"#d8576b\"], [0.6666666666666666, \"#ed7953\"], [0.7777777777777778, \"#fb9f3a\"], [0.8888888888888888, \"#fdca26\"], [1.0, \"#f0f921\"]], \"type\": \"surface\"}], \"table\": [{\"cells\": {\"fill\": {\"color\": \"#EBF0F8\"}, \"line\": {\"color\": \"white\"}}, \"header\": {\"fill\": {\"color\": \"#C8D4E3\"}, \"line\": {\"color\": \"white\"}}, \"type\": \"table\"}]}, \"layout\": {\"annotationdefaults\": {\"arrowcolor\": \"#2a3f5f\", \"arrowhead\": 0, \"arrowwidth\": 1}, \"coloraxis\": {\"colorbar\": {\"outlinewidth\": 0, \"ticks\": \"\"}}, \"colorscale\": {\"diverging\": [[0, \"#8e0152\"], [0.1, \"#c51b7d\"], [0.2, \"#de77ae\"], [0.3, \"#f1b6da\"], [0.4, \"#fde0ef\"], [0.5, \"#f7f7f7\"], [0.6, \"#e6f5d0\"], [0.7, \"#b8e186\"], [0.8, \"#7fbc41\"], [0.9, \"#4d9221\"], [1, \"#276419\"]], \"sequential\": [[0.0, \"#0d0887\"], [0.1111111111111111, \"#46039f\"], [0.2222222222222222, \"#7201a8\"], [0.3333333333333333, \"#9c179e\"], [0.4444444444444444, \"#bd3786\"], [0.5555555555555556, \"#d8576b\"], [0.6666666666666666, \"#ed7953\"], [0.7777777777777778, \"#fb9f3a\"], [0.8888888888888888, \"#fdca26\"], [1.0, \"#f0f921\"]], \"sequentialminus\": [[0.0, \"#0d0887\"], [0.1111111111111111, \"#46039f\"], [0.2222222222222222, \"#7201a8\"], [0.3333333333333333, \"#9c179e\"], [0.4444444444444444, \"#bd3786\"], [0.5555555555555556, \"#d8576b\"], [0.6666666666666666, \"#ed7953\"], [0.7777777777777778, \"#fb9f3a\"], [0.8888888888888888, \"#fdca26\"], [1.0, \"#f0f921\"]]}, \"colorway\": [\"#636efa\", \"#EF553B\", \"#00cc96\", \"#ab63fa\", \"#FFA15A\", \"#19d3f3\", \"#FF6692\", \"#B6E880\", \"#FF97FF\", \"#FECB52\"], \"font\": {\"color\": \"#2a3f5f\"}, \"geo\": {\"bgcolor\": \"white\", \"lakecolor\": \"white\", \"landcolor\": \"#E5ECF6\", \"showlakes\": true, \"showland\": true, \"subunitcolor\": \"white\"}, \"hoverlabel\": {\"align\": \"left\"}, \"hovermode\": \"closest\", \"mapbox\": {\"style\": \"light\"}, \"paper_bgcolor\": \"white\", \"plot_bgcolor\": \"#E5ECF6\", \"polar\": {\"angularaxis\": {\"gridcolor\": \"white\", \"linecolor\": \"white\", \"ticks\": \"\"}, \"bgcolor\": \"#E5ECF6\", \"radialaxis\": {\"gridcolor\": \"white\", \"linecolor\": \"white\", \"ticks\": \"\"}}, \"scene\": {\"xaxis\": {\"backgroundcolor\": \"#E5ECF6\", \"gridcolor\": \"white\", \"gridwidth\": 2, \"linecolor\": \"white\", \"showbackground\": true, \"ticks\": \"\", \"zerolinecolor\": \"white\"}, \"yaxis\": {\"backgroundcolor\": \"#E5ECF6\", \"gridcolor\": \"white\", \"gridwidth\": 2, \"linecolor\": \"white\", \"showbackground\": true, \"ticks\": \"\", \"zerolinecolor\": \"white\"}, \"zaxis\": {\"backgroundcolor\": \"#E5ECF6\", \"gridcolor\": \"white\", \"gridwidth\": 2, \"linecolor\": \"white\", \"showbackground\": true, \"ticks\": \"\", \"zerolinecolor\": \"white\"}}, \"shapedefaults\": {\"line\": {\"color\": \"#2a3f5f\"}}, \"ternary\": {\"aaxis\": {\"gridcolor\": \"white\", \"linecolor\": \"white\", \"ticks\": \"\"}, \"baxis\": {\"gridcolor\": \"white\", \"linecolor\": \"white\", \"ticks\": \"\"}, \"bgcolor\": \"#E5ECF6\", \"caxis\": {\"gridcolor\": \"white\", \"linecolor\": \"white\", \"ticks\": \"\"}}, \"title\": {\"x\": 0.05}, \"xaxis\": {\"automargin\": true, \"gridcolor\": \"white\", \"linecolor\": \"white\", \"ticks\": \"\", \"title\": {\"standoff\": 15}, \"zerolinecolor\": \"white\", \"zerolinewidth\": 2}, \"yaxis\": {\"automargin\": true, \"gridcolor\": \"white\", \"linecolor\": \"white\", \"ticks\": \"\", \"title\": {\"standoff\": 15}, \"zerolinecolor\": \"white\", \"zerolinewidth\": 2}}}, \"title\": {\"text\": \"Basic Sankey Diagram\"}},\n",
       "                        {\"responsive\": true}\n",
       "                    ).then(function(){\n",
       "                            \n",
       "var gd = document.getElementById('176ce4f2-2845-45a4-983e-2b89d2592118');\n",
       "var x = new MutationObserver(function (mutations, observer) {{\n",
       "        var display = window.getComputedStyle(gd).display;\n",
       "        if (!display || display === 'none') {{\n",
       "            console.log([gd, 'removed!']);\n",
       "            Plotly.purge(gd);\n",
       "            observer.disconnect();\n",
       "        }}\n",
       "}});\n",
       "\n",
       "// Listen for the removal of the full notebook cells\n",
       "var notebookContainer = gd.closest('#notebook-container');\n",
       "if (notebookContainer) {{\n",
       "    x.observe(notebookContainer, {childList: true});\n",
       "}}\n",
       "\n",
       "// Listen for the clearing of the current output cell\n",
       "var outputEl = gd.closest('.output');\n",
       "if (outputEl) {{\n",
       "    x.observe(outputEl, {childList: true});\n",
       "}}\n",
       "\n",
       "                        })\n",
       "                };\n",
       "                });\n",
       "            </script>\n",
       "        </div>"
      ]
     },
     "metadata": {},
     "output_type": "display_data"
    }
   ],
   "source": [
    "data = build_sankey(job_name_df,'Accounting')"
   ]
  },
  {
   "cell_type": "code",
   "execution_count": 82,
   "metadata": {},
   "outputs": [
    {
     "data": {
      "text/html": [
       "<div>\n",
       "<style scoped>\n",
       "    .dataframe tbody tr th:only-of-type {\n",
       "        vertical-align: middle;\n",
       "    }\n",
       "\n",
       "    .dataframe tbody tr th {\n",
       "        vertical-align: top;\n",
       "    }\n",
       "\n",
       "    .dataframe thead th {\n",
       "        text-align: right;\n",
       "    }\n",
       "</style>\n",
       "<table border=\"1\" class=\"dataframe\">\n",
       "  <thead>\n",
       "    <tr style=\"text-align: right;\">\n",
       "      <th></th>\n",
       "      <th>degree</th>\n",
       "      <th>education-groups</th>\n",
       "      <th>top-jobs</th>\n",
       "      <th>job-percent</th>\n",
       "      <th>identifier</th>\n",
       "    </tr>\n",
       "  </thead>\n",
       "  <tbody>\n",
       "    <tr>\n",
       "      <th>0</th>\n",
       "      <td>College/CEGEP</td>\n",
       "      <td>Accounting</td>\n",
       "      <td>Accounting and related clerks</td>\n",
       "      <td>11.99%</td>\n",
       "      <td>Accounting : College/CEGEP</td>\n",
       "    </tr>\n",
       "    <tr>\n",
       "      <th>1</th>\n",
       "      <td>College/CEGEP</td>\n",
       "      <td>Accounting</td>\n",
       "      <td>Financial auditors and accountants</td>\n",
       "      <td>11.23%</td>\n",
       "      <td>Accounting : College/CEGEP</td>\n",
       "    </tr>\n",
       "    <tr>\n",
       "      <th>2</th>\n",
       "      <td>College/CEGEP</td>\n",
       "      <td>Accounting</td>\n",
       "      <td>Accounting technicians and bookkeepers</td>\n",
       "      <td>10.46%</td>\n",
       "      <td>Accounting : College/CEGEP</td>\n",
       "    </tr>\n",
       "    <tr>\n",
       "      <th>3</th>\n",
       "      <td>College/CEGEP</td>\n",
       "      <td>Accounting</td>\n",
       "      <td>Administrative officers</td>\n",
       "      <td>3.92%</td>\n",
       "      <td>Accounting : College/CEGEP</td>\n",
       "    </tr>\n",
       "    <tr>\n",
       "      <th>4</th>\n",
       "      <td>College/CEGEP</td>\n",
       "      <td>Accounting</td>\n",
       "      <td>Retail salespersons</td>\n",
       "      <td>3.25%</td>\n",
       "      <td>Accounting : College/CEGEP</td>\n",
       "    </tr>\n",
       "    <tr>\n",
       "      <th>5</th>\n",
       "      <td>College/CEGEP</td>\n",
       "      <td>Accounting</td>\n",
       "      <td>Administrative assistants</td>\n",
       "      <td>3.06%</td>\n",
       "      <td>Accounting : College/CEGEP</td>\n",
       "    </tr>\n",
       "    <tr>\n",
       "      <th>6</th>\n",
       "      <td>College/CEGEP</td>\n",
       "      <td>Accounting</td>\n",
       "      <td>Retail and wholesale trade managers</td>\n",
       "      <td>2.63%</td>\n",
       "      <td>Accounting : College/CEGEP</td>\n",
       "    </tr>\n",
       "    <tr>\n",
       "      <th>7</th>\n",
       "      <td>College/CEGEP</td>\n",
       "      <td>Accounting</td>\n",
       "      <td>General office support workers</td>\n",
       "      <td>2.53%</td>\n",
       "      <td>Accounting : College/CEGEP</td>\n",
       "    </tr>\n",
       "    <tr>\n",
       "      <th>8</th>\n",
       "      <td>College/CEGEP</td>\n",
       "      <td>Accounting</td>\n",
       "      <td>Other customer and information services repres...</td>\n",
       "      <td>2.48%</td>\n",
       "      <td>Accounting : College/CEGEP</td>\n",
       "    </tr>\n",
       "    <tr>\n",
       "      <th>9</th>\n",
       "      <td>College/CEGEP</td>\n",
       "      <td>Accounting</td>\n",
       "      <td>Customer services representatives - financial ...</td>\n",
       "      <td>2.05%</td>\n",
       "      <td>Accounting : College/CEGEP</td>\n",
       "    </tr>\n",
       "    <tr>\n",
       "      <th>10</th>\n",
       "      <td>Bachelor's degree</td>\n",
       "      <td>Accounting</td>\n",
       "      <td>Financial auditors and accountants</td>\n",
       "      <td>46.95%</td>\n",
       "      <td>Accounting : Bachelor's degree</td>\n",
       "    </tr>\n",
       "    <tr>\n",
       "      <th>11</th>\n",
       "      <td>Bachelor's degree</td>\n",
       "      <td>Accounting</td>\n",
       "      <td>Financial and investment analysts</td>\n",
       "      <td>7.35%</td>\n",
       "      <td>Accounting : Bachelor's degree</td>\n",
       "    </tr>\n",
       "    <tr>\n",
       "      <th>12</th>\n",
       "      <td>Bachelor's degree</td>\n",
       "      <td>Accounting</td>\n",
       "      <td>Accounting and related clerks</td>\n",
       "      <td>7.05%</td>\n",
       "      <td>Accounting : Bachelor's degree</td>\n",
       "    </tr>\n",
       "    <tr>\n",
       "      <th>13</th>\n",
       "      <td>Bachelor's degree</td>\n",
       "      <td>Accounting</td>\n",
       "      <td>Financial managers</td>\n",
       "      <td>5.44%</td>\n",
       "      <td>Accounting : Bachelor's degree</td>\n",
       "    </tr>\n",
       "    <tr>\n",
       "      <th>14</th>\n",
       "      <td>Bachelor's degree</td>\n",
       "      <td>Accounting</td>\n",
       "      <td>Accounting technicians and bookkeepers</td>\n",
       "      <td>3.66%</td>\n",
       "      <td>Accounting : Bachelor's degree</td>\n",
       "    </tr>\n",
       "    <tr>\n",
       "      <th>15</th>\n",
       "      <td>Bachelor's degree</td>\n",
       "      <td>Accounting</td>\n",
       "      <td>Other financial officers</td>\n",
       "      <td>2.41%</td>\n",
       "      <td>Accounting : Bachelor's degree</td>\n",
       "    </tr>\n",
       "    <tr>\n",
       "      <th>16</th>\n",
       "      <td>Bachelor's degree</td>\n",
       "      <td>Accounting</td>\n",
       "      <td>Administrative officers</td>\n",
       "      <td>1.29%</td>\n",
       "      <td>Accounting : Bachelor's degree</td>\n",
       "    </tr>\n",
       "    <tr>\n",
       "      <th>17</th>\n",
       "      <td>Bachelor's degree</td>\n",
       "      <td>Accounting</td>\n",
       "      <td>Professional occupations in business managemen...</td>\n",
       "      <td>1.19%</td>\n",
       "      <td>Accounting : Bachelor's degree</td>\n",
       "    </tr>\n",
       "    <tr>\n",
       "      <th>18</th>\n",
       "      <td>Bachelor's degree</td>\n",
       "      <td>Accounting</td>\n",
       "      <td>Financial sales representatives</td>\n",
       "      <td>1.19%</td>\n",
       "      <td>Accounting : Bachelor's degree</td>\n",
       "    </tr>\n",
       "    <tr>\n",
       "      <th>19</th>\n",
       "      <td>Bachelor's degree</td>\n",
       "      <td>Accounting</td>\n",
       "      <td>Retail salespersons</td>\n",
       "      <td>1.02%</td>\n",
       "      <td>Accounting : Bachelor's degree</td>\n",
       "    </tr>\n",
       "    <tr>\n",
       "      <th>20</th>\n",
       "      <td>Master's degree</td>\n",
       "      <td>Accounting</td>\n",
       "      <td>Financial auditors and accountants</td>\n",
       "      <td>50.91%</td>\n",
       "      <td>Accounting : Master's degree</td>\n",
       "    </tr>\n",
       "    <tr>\n",
       "      <th>21</th>\n",
       "      <td>Master's degree</td>\n",
       "      <td>Accounting</td>\n",
       "      <td>Financial managers</td>\n",
       "      <td>11.82%</td>\n",
       "      <td>Accounting : Master's degree</td>\n",
       "    </tr>\n",
       "    <tr>\n",
       "      <th>22</th>\n",
       "      <td>Master's degree</td>\n",
       "      <td>Accounting</td>\n",
       "      <td>Accounting and related clerks</td>\n",
       "      <td>5.45%</td>\n",
       "      <td>Accounting : Master's degree</td>\n",
       "    </tr>\n",
       "    <tr>\n",
       "      <th>23</th>\n",
       "      <td>Master's degree</td>\n",
       "      <td>Accounting</td>\n",
       "      <td>Other financial officers</td>\n",
       "      <td>3.64%</td>\n",
       "      <td>Accounting : Master's degree</td>\n",
       "    </tr>\n",
       "    <tr>\n",
       "      <th>24</th>\n",
       "      <td>Master's degree</td>\n",
       "      <td>Accounting</td>\n",
       "      <td>Financial and investment analysts</td>\n",
       "      <td>3.41%</td>\n",
       "      <td>Accounting : Master's degree</td>\n",
       "    </tr>\n",
       "    <tr>\n",
       "      <th>25</th>\n",
       "      <td>Master's degree</td>\n",
       "      <td>Accounting</td>\n",
       "      <td>Senior managers - financial, communications an...</td>\n",
       "      <td>1.59%</td>\n",
       "      <td>Accounting : Master's degree</td>\n",
       "    </tr>\n",
       "    <tr>\n",
       "      <th>26</th>\n",
       "      <td>Master's degree</td>\n",
       "      <td>Accounting</td>\n",
       "      <td>Accounting technicians and bookkeepers</td>\n",
       "      <td>1.59%</td>\n",
       "      <td>Accounting : Master's degree</td>\n",
       "    </tr>\n",
       "    <tr>\n",
       "      <th>27</th>\n",
       "      <td>Master's degree</td>\n",
       "      <td>Accounting</td>\n",
       "      <td>Banking, credit and other investment managers</td>\n",
       "      <td>1.36%</td>\n",
       "      <td>Accounting : Master's degree</td>\n",
       "    </tr>\n",
       "    <tr>\n",
       "      <th>28</th>\n",
       "      <td>Master's degree</td>\n",
       "      <td>Accounting</td>\n",
       "      <td>Insurance, real estate and financial brokerage...</td>\n",
       "      <td>1.14%</td>\n",
       "      <td>Accounting : Master's degree</td>\n",
       "    </tr>\n",
       "    <tr>\n",
       "      <th>29</th>\n",
       "      <td>Master's degree</td>\n",
       "      <td>Accounting</td>\n",
       "      <td>University professors and lecturers</td>\n",
       "      <td>1.14%</td>\n",
       "      <td>Accounting : Master's degree</td>\n",
       "    </tr>\n",
       "  </tbody>\n",
       "</table>\n",
       "</div>"
      ],
      "text/plain": [
       "               degree education-groups  \\\n",
       "0       College/CEGEP       Accounting   \n",
       "1       College/CEGEP       Accounting   \n",
       "2       College/CEGEP       Accounting   \n",
       "3       College/CEGEP       Accounting   \n",
       "4       College/CEGEP       Accounting   \n",
       "5       College/CEGEP       Accounting   \n",
       "6       College/CEGEP       Accounting   \n",
       "7       College/CEGEP       Accounting   \n",
       "8       College/CEGEP       Accounting   \n",
       "9       College/CEGEP       Accounting   \n",
       "10  Bachelor's degree       Accounting   \n",
       "11  Bachelor's degree       Accounting   \n",
       "12  Bachelor's degree       Accounting   \n",
       "13  Bachelor's degree       Accounting   \n",
       "14  Bachelor's degree       Accounting   \n",
       "15  Bachelor's degree       Accounting   \n",
       "16  Bachelor's degree       Accounting   \n",
       "17  Bachelor's degree       Accounting   \n",
       "18  Bachelor's degree       Accounting   \n",
       "19  Bachelor's degree       Accounting   \n",
       "20    Master's degree       Accounting   \n",
       "21    Master's degree       Accounting   \n",
       "22    Master's degree       Accounting   \n",
       "23    Master's degree       Accounting   \n",
       "24    Master's degree       Accounting   \n",
       "25    Master's degree       Accounting   \n",
       "26    Master's degree       Accounting   \n",
       "27    Master's degree       Accounting   \n",
       "28    Master's degree       Accounting   \n",
       "29    Master's degree       Accounting   \n",
       "\n",
       "                                             top-jobs job-percent  \\\n",
       "0                       Accounting and related clerks      11.99%   \n",
       "1                  Financial auditors and accountants      11.23%   \n",
       "2              Accounting technicians and bookkeepers      10.46%   \n",
       "3                             Administrative officers       3.92%   \n",
       "4                                 Retail salespersons       3.25%   \n",
       "5                           Administrative assistants       3.06%   \n",
       "6                 Retail and wholesale trade managers       2.63%   \n",
       "7                      General office support workers       2.53%   \n",
       "8   Other customer and information services repres...       2.48%   \n",
       "9   Customer services representatives - financial ...       2.05%   \n",
       "10                 Financial auditors and accountants      46.95%   \n",
       "11                  Financial and investment analysts       7.35%   \n",
       "12                      Accounting and related clerks       7.05%   \n",
       "13                                 Financial managers       5.44%   \n",
       "14             Accounting technicians and bookkeepers       3.66%   \n",
       "15                           Other financial officers       2.41%   \n",
       "16                            Administrative officers       1.29%   \n",
       "17  Professional occupations in business managemen...       1.19%   \n",
       "18                    Financial sales representatives       1.19%   \n",
       "19                                Retail salespersons       1.02%   \n",
       "20                 Financial auditors and accountants      50.91%   \n",
       "21                                 Financial managers      11.82%   \n",
       "22                      Accounting and related clerks       5.45%   \n",
       "23                           Other financial officers       3.64%   \n",
       "24                  Financial and investment analysts       3.41%   \n",
       "25  Senior managers - financial, communications an...       1.59%   \n",
       "26             Accounting technicians and bookkeepers       1.59%   \n",
       "27      Banking, credit and other investment managers       1.36%   \n",
       "28  Insurance, real estate and financial brokerage...       1.14%   \n",
       "29                University professors and lecturers       1.14%   \n",
       "\n",
       "                        identifier  \n",
       "0       Accounting : College/CEGEP  \n",
       "1       Accounting : College/CEGEP  \n",
       "2       Accounting : College/CEGEP  \n",
       "3       Accounting : College/CEGEP  \n",
       "4       Accounting : College/CEGEP  \n",
       "5       Accounting : College/CEGEP  \n",
       "6       Accounting : College/CEGEP  \n",
       "7       Accounting : College/CEGEP  \n",
       "8       Accounting : College/CEGEP  \n",
       "9       Accounting : College/CEGEP  \n",
       "10  Accounting : Bachelor's degree  \n",
       "11  Accounting : Bachelor's degree  \n",
       "12  Accounting : Bachelor's degree  \n",
       "13  Accounting : Bachelor's degree  \n",
       "14  Accounting : Bachelor's degree  \n",
       "15  Accounting : Bachelor's degree  \n",
       "16  Accounting : Bachelor's degree  \n",
       "17  Accounting : Bachelor's degree  \n",
       "18  Accounting : Bachelor's degree  \n",
       "19  Accounting : Bachelor's degree  \n",
       "20    Accounting : Master's degree  \n",
       "21    Accounting : Master's degree  \n",
       "22    Accounting : Master's degree  \n",
       "23    Accounting : Master's degree  \n",
       "24    Accounting : Master's degree  \n",
       "25    Accounting : Master's degree  \n",
       "26    Accounting : Master's degree  \n",
       "27    Accounting : Master's degree  \n",
       "28    Accounting : Master's degree  \n",
       "29    Accounting : Master's degree  "
      ]
     },
     "execution_count": 82,
     "metadata": {},
     "output_type": "execute_result"
    }
   ],
   "source": [
    "job_name_df.where(job_name_df['education-groups']=='Accounting').dropna()"
   ]
  },
  {
   "cell_type": "code",
   "execution_count": 108,
   "metadata": {},
   "outputs": [
    {
     "data": {
      "text/html": [
       "<div>\n",
       "<style scoped>\n",
       "    .dataframe tbody tr th:only-of-type {\n",
       "        vertical-align: middle;\n",
       "    }\n",
       "\n",
       "    .dataframe tbody tr th {\n",
       "        vertical-align: top;\n",
       "    }\n",
       "\n",
       "    .dataframe thead th {\n",
       "        text-align: right;\n",
       "    }\n",
       "</style>\n",
       "<table border=\"1\" class=\"dataframe\">\n",
       "  <thead>\n",
       "    <tr style=\"text-align: right;\">\n",
       "      <th></th>\n",
       "      <th>Measure</th>\n",
       "      <th>Country</th>\n",
       "      <th>Value</th>\n",
       "    </tr>\n",
       "  </thead>\n",
       "  <tbody>\n",
       "    <tr>\n",
       "      <th>0</th>\n",
       "      <td>Arrivals</td>\n",
       "      <td>Afghanistan</td>\n",
       "      <td>1644.0</td>\n",
       "    </tr>\n",
       "    <tr>\n",
       "      <th>1</th>\n",
       "      <td>Arrivals</td>\n",
       "      <td>Africa and the Middle East</td>\n",
       "      <td>149784.0</td>\n",
       "    </tr>\n",
       "    <tr>\n",
       "      <th>2</th>\n",
       "      <td>Arrivals</td>\n",
       "      <td>Albania</td>\n",
       "      <td>178.0</td>\n",
       "    </tr>\n",
       "    <tr>\n",
       "      <th>3</th>\n",
       "      <td>Arrivals</td>\n",
       "      <td>Algeria</td>\n",
       "      <td>143.0</td>\n",
       "    </tr>\n",
       "    <tr>\n",
       "      <th>4</th>\n",
       "      <td>Arrivals</td>\n",
       "      <td>American Samoa</td>\n",
       "      <td>2412.0</td>\n",
       "    </tr>\n",
       "  </tbody>\n",
       "</table>\n",
       "</div>"
      ],
      "text/plain": [
       "    Measure                     Country     Value\n",
       "0  Arrivals                 Afghanistan    1644.0\n",
       "1  Arrivals  Africa and the Middle East  149784.0\n",
       "2  Arrivals                     Albania     178.0\n",
       "3  Arrivals                     Algeria     143.0\n",
       "4  Arrivals              American Samoa    2412.0"
      ]
     },
     "execution_count": 108,
     "metadata": {},
     "output_type": "execute_result"
    }
   ],
   "source": [
    "nz_migration = pd.read_csv(\"~/Downloads/migration_nz.csv\")\n",
    "\n",
    "nz_migration = nz_migration[nz_migration[\"Measure\"]!=\"Net\"]\n",
    "nz_migration = nz_migration[~nz_migration[\"Country\"].isin([\"Not stated\", \"All countries\"])]\n",
    "nz_migration_grouped = nz_migration.groupby(by=[\"Measure\",\"Country\"]).sum()[[\"Value\"]]\n",
    "nz_migration_grouped = nz_migration_grouped.reset_index()\n",
    "nz_migration_grouped.head()"
   ]
  },
  {
   "cell_type": "code",
   "execution_count": 113,
   "metadata": {},
   "outputs": [
    {
     "data": {
      "text/html": [
       "<div>\n",
       "<style scoped>\n",
       "    .dataframe tbody tr th:only-of-type {\n",
       "        vertical-align: middle;\n",
       "    }\n",
       "\n",
       "    .dataframe tbody tr th {\n",
       "        vertical-align: top;\n",
       "    }\n",
       "\n",
       "    .dataframe thead th {\n",
       "        text-align: right;\n",
       "    }\n",
       "</style>\n",
       "<table border=\"1\" class=\"dataframe\">\n",
       "  <thead>\n",
       "    <tr style=\"text-align: right;\">\n",
       "      <th></th>\n",
       "      <th>Measure</th>\n",
       "      <th>Country</th>\n",
       "      <th>Value</th>\n",
       "    </tr>\n",
       "  </thead>\n",
       "  <tbody>\n",
       "    <tr>\n",
       "      <th>1</th>\n",
       "      <td>Arrivals</td>\n",
       "      <td>Africa and the Middle East</td>\n",
       "      <td>149784.0</td>\n",
       "    </tr>\n",
       "    <tr>\n",
       "      <th>5</th>\n",
       "      <td>Arrivals</td>\n",
       "      <td>Americas</td>\n",
       "      <td>267137.0</td>\n",
       "    </tr>\n",
       "    <tr>\n",
       "      <th>14</th>\n",
       "      <td>Arrivals</td>\n",
       "      <td>Asia</td>\n",
       "      <td>795697.0</td>\n",
       "    </tr>\n",
       "    <tr>\n",
       "      <th>15</th>\n",
       "      <td>Arrivals</td>\n",
       "      <td>Australia</td>\n",
       "      <td>1057127.0</td>\n",
       "    </tr>\n",
       "    <tr>\n",
       "      <th>74</th>\n",
       "      <td>Arrivals</td>\n",
       "      <td>Europe</td>\n",
       "      <td>1044693.0</td>\n",
       "    </tr>\n",
       "    <tr>\n",
       "      <th>166</th>\n",
       "      <td>Arrivals</td>\n",
       "      <td>Oceania</td>\n",
       "      <td>1331987.0</td>\n",
       "    </tr>\n",
       "    <tr>\n",
       "      <th>252</th>\n",
       "      <td>Departures</td>\n",
       "      <td>Africa and the Middle East</td>\n",
       "      <td>63555.0</td>\n",
       "    </tr>\n",
       "    <tr>\n",
       "      <th>256</th>\n",
       "      <td>Departures</td>\n",
       "      <td>Americas</td>\n",
       "      <td>245915.0</td>\n",
       "    </tr>\n",
       "    <tr>\n",
       "      <th>265</th>\n",
       "      <td>Departures</td>\n",
       "      <td>Asia</td>\n",
       "      <td>317603.0</td>\n",
       "    </tr>\n",
       "    <tr>\n",
       "      <th>266</th>\n",
       "      <td>Departures</td>\n",
       "      <td>Australia</td>\n",
       "      <td>2325398.0</td>\n",
       "    </tr>\n",
       "    <tr>\n",
       "      <th>325</th>\n",
       "      <td>Departures</td>\n",
       "      <td>Europe</td>\n",
       "      <td>877240.0</td>\n",
       "    </tr>\n",
       "    <tr>\n",
       "      <th>417</th>\n",
       "      <td>Departures</td>\n",
       "      <td>Oceania</td>\n",
       "      <td>2534100.0</td>\n",
       "    </tr>\n",
       "  </tbody>\n",
       "</table>\n",
       "</div>"
      ],
      "text/plain": [
       "        Measure                     Country      Value\n",
       "1      Arrivals  Africa and the Middle East   149784.0\n",
       "5      Arrivals                    Americas   267137.0\n",
       "14     Arrivals                        Asia   795697.0\n",
       "15     Arrivals                   Australia  1057127.0\n",
       "74     Arrivals                      Europe  1044693.0\n",
       "166    Arrivals                     Oceania  1331987.0\n",
       "252  Departures  Africa and the Middle East    63555.0\n",
       "256  Departures                    Americas   245915.0\n",
       "265  Departures                        Asia   317603.0\n",
       "266  Departures                   Australia  2325398.0\n",
       "325  Departures                      Europe   877240.0\n",
       "417  Departures                     Oceania  2534100.0"
      ]
     },
     "execution_count": 113,
     "metadata": {},
     "output_type": "execute_result"
    }
   ],
   "source": [
    "continents = [\"Asia\", \"Australia\",\"Africa and the Middle East\",\"Europe\", \"Americas\", \"Oceania\"]\n",
    "continent_wise_migration = nz_migration_grouped[nz_migration_grouped.Country.isin(continents)]\n",
    "continent_wise_migration"
   ]
  },
  {
   "cell_type": "code",
   "execution_count": 111,
   "metadata": {},
   "outputs": [
    {
     "data": {
      "application/vnd.plotly.v1+json": {
       "config": {
        "plotlyServerURL": "https://plot.ly"
       },
       "data": [
        {
         "link": {
          "source": [
           0,
           0,
           0,
           0,
           0,
           0,
           6,
           6,
           6,
           6,
           6,
           6
          ],
          "target": [
           12,
           13,
           14,
           15,
           16,
           17,
           12,
           13,
           14,
           15,
           16,
           17
          ],
          "value": [
           149784,
           267137,
           795697,
           1057127,
           1044693,
           1331987,
           63555,
           245915,
           317603,
           2325398,
           877240,
           2534100
          ]
         },
         "node": {
          "color": "red",
          "label": [
           "Arrivals",
           "Arrivals",
           "Arrivals",
           "Arrivals",
           "Arrivals",
           "Arrivals",
           "Departures",
           "Departures",
           "Departures",
           "Departures",
           "Departures",
           "Departures",
           "Africa and the Middle East",
           "Americas",
           "Asia",
           "Australia",
           "Europe",
           "Oceania",
           "Africa and the Middle East",
           "Americas",
           "Asia",
           "Australia",
           "Europe",
           "Oceania"
          ]
         },
         "type": "sankey"
        }
       ],
       "layout": {
        "font": {
         "size": 10
        },
        "template": {
         "data": {
          "bar": [
           {
            "error_x": {
             "color": "#2a3f5f"
            },
            "error_y": {
             "color": "#2a3f5f"
            },
            "marker": {
             "line": {
              "color": "#E5ECF6",
              "width": 0.5
             }
            },
            "type": "bar"
           }
          ],
          "barpolar": [
           {
            "marker": {
             "line": {
              "color": "#E5ECF6",
              "width": 0.5
             }
            },
            "type": "barpolar"
           }
          ],
          "carpet": [
           {
            "aaxis": {
             "endlinecolor": "#2a3f5f",
             "gridcolor": "white",
             "linecolor": "white",
             "minorgridcolor": "white",
             "startlinecolor": "#2a3f5f"
            },
            "baxis": {
             "endlinecolor": "#2a3f5f",
             "gridcolor": "white",
             "linecolor": "white",
             "minorgridcolor": "white",
             "startlinecolor": "#2a3f5f"
            },
            "type": "carpet"
           }
          ],
          "choropleth": [
           {
            "colorbar": {
             "outlinewidth": 0,
             "ticks": ""
            },
            "type": "choropleth"
           }
          ],
          "contour": [
           {
            "colorbar": {
             "outlinewidth": 0,
             "ticks": ""
            },
            "colorscale": [
             [
              0,
              "#0d0887"
             ],
             [
              0.1111111111111111,
              "#46039f"
             ],
             [
              0.2222222222222222,
              "#7201a8"
             ],
             [
              0.3333333333333333,
              "#9c179e"
             ],
             [
              0.4444444444444444,
              "#bd3786"
             ],
             [
              0.5555555555555556,
              "#d8576b"
             ],
             [
              0.6666666666666666,
              "#ed7953"
             ],
             [
              0.7777777777777778,
              "#fb9f3a"
             ],
             [
              0.8888888888888888,
              "#fdca26"
             ],
             [
              1,
              "#f0f921"
             ]
            ],
            "type": "contour"
           }
          ],
          "contourcarpet": [
           {
            "colorbar": {
             "outlinewidth": 0,
             "ticks": ""
            },
            "type": "contourcarpet"
           }
          ],
          "heatmap": [
           {
            "colorbar": {
             "outlinewidth": 0,
             "ticks": ""
            },
            "colorscale": [
             [
              0,
              "#0d0887"
             ],
             [
              0.1111111111111111,
              "#46039f"
             ],
             [
              0.2222222222222222,
              "#7201a8"
             ],
             [
              0.3333333333333333,
              "#9c179e"
             ],
             [
              0.4444444444444444,
              "#bd3786"
             ],
             [
              0.5555555555555556,
              "#d8576b"
             ],
             [
              0.6666666666666666,
              "#ed7953"
             ],
             [
              0.7777777777777778,
              "#fb9f3a"
             ],
             [
              0.8888888888888888,
              "#fdca26"
             ],
             [
              1,
              "#f0f921"
             ]
            ],
            "type": "heatmap"
           }
          ],
          "heatmapgl": [
           {
            "colorbar": {
             "outlinewidth": 0,
             "ticks": ""
            },
            "colorscale": [
             [
              0,
              "#0d0887"
             ],
             [
              0.1111111111111111,
              "#46039f"
             ],
             [
              0.2222222222222222,
              "#7201a8"
             ],
             [
              0.3333333333333333,
              "#9c179e"
             ],
             [
              0.4444444444444444,
              "#bd3786"
             ],
             [
              0.5555555555555556,
              "#d8576b"
             ],
             [
              0.6666666666666666,
              "#ed7953"
             ],
             [
              0.7777777777777778,
              "#fb9f3a"
             ],
             [
              0.8888888888888888,
              "#fdca26"
             ],
             [
              1,
              "#f0f921"
             ]
            ],
            "type": "heatmapgl"
           }
          ],
          "histogram": [
           {
            "marker": {
             "colorbar": {
              "outlinewidth": 0,
              "ticks": ""
             }
            },
            "type": "histogram"
           }
          ],
          "histogram2d": [
           {
            "colorbar": {
             "outlinewidth": 0,
             "ticks": ""
            },
            "colorscale": [
             [
              0,
              "#0d0887"
             ],
             [
              0.1111111111111111,
              "#46039f"
             ],
             [
              0.2222222222222222,
              "#7201a8"
             ],
             [
              0.3333333333333333,
              "#9c179e"
             ],
             [
              0.4444444444444444,
              "#bd3786"
             ],
             [
              0.5555555555555556,
              "#d8576b"
             ],
             [
              0.6666666666666666,
              "#ed7953"
             ],
             [
              0.7777777777777778,
              "#fb9f3a"
             ],
             [
              0.8888888888888888,
              "#fdca26"
             ],
             [
              1,
              "#f0f921"
             ]
            ],
            "type": "histogram2d"
           }
          ],
          "histogram2dcontour": [
           {
            "colorbar": {
             "outlinewidth": 0,
             "ticks": ""
            },
            "colorscale": [
             [
              0,
              "#0d0887"
             ],
             [
              0.1111111111111111,
              "#46039f"
             ],
             [
              0.2222222222222222,
              "#7201a8"
             ],
             [
              0.3333333333333333,
              "#9c179e"
             ],
             [
              0.4444444444444444,
              "#bd3786"
             ],
             [
              0.5555555555555556,
              "#d8576b"
             ],
             [
              0.6666666666666666,
              "#ed7953"
             ],
             [
              0.7777777777777778,
              "#fb9f3a"
             ],
             [
              0.8888888888888888,
              "#fdca26"
             ],
             [
              1,
              "#f0f921"
             ]
            ],
            "type": "histogram2dcontour"
           }
          ],
          "mesh3d": [
           {
            "colorbar": {
             "outlinewidth": 0,
             "ticks": ""
            },
            "type": "mesh3d"
           }
          ],
          "parcoords": [
           {
            "line": {
             "colorbar": {
              "outlinewidth": 0,
              "ticks": ""
             }
            },
            "type": "parcoords"
           }
          ],
          "pie": [
           {
            "automargin": true,
            "type": "pie"
           }
          ],
          "scatter": [
           {
            "marker": {
             "colorbar": {
              "outlinewidth": 0,
              "ticks": ""
             }
            },
            "type": "scatter"
           }
          ],
          "scatter3d": [
           {
            "line": {
             "colorbar": {
              "outlinewidth": 0,
              "ticks": ""
             }
            },
            "marker": {
             "colorbar": {
              "outlinewidth": 0,
              "ticks": ""
             }
            },
            "type": "scatter3d"
           }
          ],
          "scattercarpet": [
           {
            "marker": {
             "colorbar": {
              "outlinewidth": 0,
              "ticks": ""
             }
            },
            "type": "scattercarpet"
           }
          ],
          "scattergeo": [
           {
            "marker": {
             "colorbar": {
              "outlinewidth": 0,
              "ticks": ""
             }
            },
            "type": "scattergeo"
           }
          ],
          "scattergl": [
           {
            "marker": {
             "colorbar": {
              "outlinewidth": 0,
              "ticks": ""
             }
            },
            "type": "scattergl"
           }
          ],
          "scattermapbox": [
           {
            "marker": {
             "colorbar": {
              "outlinewidth": 0,
              "ticks": ""
             }
            },
            "type": "scattermapbox"
           }
          ],
          "scatterpolar": [
           {
            "marker": {
             "colorbar": {
              "outlinewidth": 0,
              "ticks": ""
             }
            },
            "type": "scatterpolar"
           }
          ],
          "scatterpolargl": [
           {
            "marker": {
             "colorbar": {
              "outlinewidth": 0,
              "ticks": ""
             }
            },
            "type": "scatterpolargl"
           }
          ],
          "scatterternary": [
           {
            "marker": {
             "colorbar": {
              "outlinewidth": 0,
              "ticks": ""
             }
            },
            "type": "scatterternary"
           }
          ],
          "surface": [
           {
            "colorbar": {
             "outlinewidth": 0,
             "ticks": ""
            },
            "colorscale": [
             [
              0,
              "#0d0887"
             ],
             [
              0.1111111111111111,
              "#46039f"
             ],
             [
              0.2222222222222222,
              "#7201a8"
             ],
             [
              0.3333333333333333,
              "#9c179e"
             ],
             [
              0.4444444444444444,
              "#bd3786"
             ],
             [
              0.5555555555555556,
              "#d8576b"
             ],
             [
              0.6666666666666666,
              "#ed7953"
             ],
             [
              0.7777777777777778,
              "#fb9f3a"
             ],
             [
              0.8888888888888888,
              "#fdca26"
             ],
             [
              1,
              "#f0f921"
             ]
            ],
            "type": "surface"
           }
          ],
          "table": [
           {
            "cells": {
             "fill": {
              "color": "#EBF0F8"
             },
             "line": {
              "color": "white"
             }
            },
            "header": {
             "fill": {
              "color": "#C8D4E3"
             },
             "line": {
              "color": "white"
             }
            },
            "type": "table"
           }
          ]
         },
         "layout": {
          "annotationdefaults": {
           "arrowcolor": "#2a3f5f",
           "arrowhead": 0,
           "arrowwidth": 1
          },
          "coloraxis": {
           "colorbar": {
            "outlinewidth": 0,
            "ticks": ""
           }
          },
          "colorscale": {
           "diverging": [
            [
             0,
             "#8e0152"
            ],
            [
             0.1,
             "#c51b7d"
            ],
            [
             0.2,
             "#de77ae"
            ],
            [
             0.3,
             "#f1b6da"
            ],
            [
             0.4,
             "#fde0ef"
            ],
            [
             0.5,
             "#f7f7f7"
            ],
            [
             0.6,
             "#e6f5d0"
            ],
            [
             0.7,
             "#b8e186"
            ],
            [
             0.8,
             "#7fbc41"
            ],
            [
             0.9,
             "#4d9221"
            ],
            [
             1,
             "#276419"
            ]
           ],
           "sequential": [
            [
             0,
             "#0d0887"
            ],
            [
             0.1111111111111111,
             "#46039f"
            ],
            [
             0.2222222222222222,
             "#7201a8"
            ],
            [
             0.3333333333333333,
             "#9c179e"
            ],
            [
             0.4444444444444444,
             "#bd3786"
            ],
            [
             0.5555555555555556,
             "#d8576b"
            ],
            [
             0.6666666666666666,
             "#ed7953"
            ],
            [
             0.7777777777777778,
             "#fb9f3a"
            ],
            [
             0.8888888888888888,
             "#fdca26"
            ],
            [
             1,
             "#f0f921"
            ]
           ],
           "sequentialminus": [
            [
             0,
             "#0d0887"
            ],
            [
             0.1111111111111111,
             "#46039f"
            ],
            [
             0.2222222222222222,
             "#7201a8"
            ],
            [
             0.3333333333333333,
             "#9c179e"
            ],
            [
             0.4444444444444444,
             "#bd3786"
            ],
            [
             0.5555555555555556,
             "#d8576b"
            ],
            [
             0.6666666666666666,
             "#ed7953"
            ],
            [
             0.7777777777777778,
             "#fb9f3a"
            ],
            [
             0.8888888888888888,
             "#fdca26"
            ],
            [
             1,
             "#f0f921"
            ]
           ]
          },
          "colorway": [
           "#636efa",
           "#EF553B",
           "#00cc96",
           "#ab63fa",
           "#FFA15A",
           "#19d3f3",
           "#FF6692",
           "#B6E880",
           "#FF97FF",
           "#FECB52"
          ],
          "font": {
           "color": "#2a3f5f"
          },
          "geo": {
           "bgcolor": "white",
           "lakecolor": "white",
           "landcolor": "#E5ECF6",
           "showlakes": true,
           "showland": true,
           "subunitcolor": "white"
          },
          "hoverlabel": {
           "align": "left"
          },
          "hovermode": "closest",
          "mapbox": {
           "style": "light"
          },
          "paper_bgcolor": "white",
          "plot_bgcolor": "#E5ECF6",
          "polar": {
           "angularaxis": {
            "gridcolor": "white",
            "linecolor": "white",
            "ticks": ""
           },
           "bgcolor": "#E5ECF6",
           "radialaxis": {
            "gridcolor": "white",
            "linecolor": "white",
            "ticks": ""
           }
          },
          "scene": {
           "xaxis": {
            "backgroundcolor": "#E5ECF6",
            "gridcolor": "white",
            "gridwidth": 2,
            "linecolor": "white",
            "showbackground": true,
            "ticks": "",
            "zerolinecolor": "white"
           },
           "yaxis": {
            "backgroundcolor": "#E5ECF6",
            "gridcolor": "white",
            "gridwidth": 2,
            "linecolor": "white",
            "showbackground": true,
            "ticks": "",
            "zerolinecolor": "white"
           },
           "zaxis": {
            "backgroundcolor": "#E5ECF6",
            "gridcolor": "white",
            "gridwidth": 2,
            "linecolor": "white",
            "showbackground": true,
            "ticks": "",
            "zerolinecolor": "white"
           }
          },
          "shapedefaults": {
           "line": {
            "color": "#2a3f5f"
           }
          },
          "ternary": {
           "aaxis": {
            "gridcolor": "white",
            "linecolor": "white",
            "ticks": ""
           },
           "baxis": {
            "gridcolor": "white",
            "linecolor": "white",
            "ticks": ""
           },
           "bgcolor": "#E5ECF6",
           "caxis": {
            "gridcolor": "white",
            "linecolor": "white",
            "ticks": ""
           }
          },
          "title": {
           "x": 0.05
          },
          "xaxis": {
           "automargin": true,
           "gridcolor": "white",
           "linecolor": "white",
           "ticks": "",
           "title": {
            "standoff": 15
           },
           "zerolinecolor": "white",
           "zerolinewidth": 2
          },
          "yaxis": {
           "automargin": true,
           "gridcolor": "white",
           "linecolor": "white",
           "ticks": "",
           "title": {
            "standoff": 15
           },
           "zerolinecolor": "white",
           "zerolinewidth": 2
          }
         }
        },
        "title": {
         "text": "Population Migration between New Zealand and Other Continents"
        }
       }
      },
      "text/html": [
       "<div>\n",
       "        \n",
       "        \n",
       "            <div id=\"d6429331-1653-427c-9c78-656fc8154238\" class=\"plotly-graph-div\" style=\"height:525px; width:100%;\"></div>\n",
       "            <script type=\"text/javascript\">\n",
       "                require([\"plotly\"], function(Plotly) {\n",
       "                    window.PLOTLYENV=window.PLOTLYENV || {};\n",
       "                    \n",
       "                if (document.getElementById(\"d6429331-1653-427c-9c78-656fc8154238\")) {\n",
       "                    Plotly.newPlot(\n",
       "                        'd6429331-1653-427c-9c78-656fc8154238',\n",
       "                        [{\"link\": {\"source\": [0, 0, 0, 0, 0, 0, 6, 6, 6, 6, 6, 6], \"target\": [12, 13, 14, 15, 16, 17, 12, 13, 14, 15, 16, 17], \"value\": [149784.0, 267137.0, 795697.0, 1057127.0, 1044693.0, 1331987.0, 63555.0, 245915.0, 317603.0, 2325398.0, 877240.0, 2534100.0]}, \"node\": {\"color\": \"red\", \"label\": [\"Arrivals\", \"Arrivals\", \"Arrivals\", \"Arrivals\", \"Arrivals\", \"Arrivals\", \"Departures\", \"Departures\", \"Departures\", \"Departures\", \"Departures\", \"Departures\", \"Africa and the Middle East\", \"Americas\", \"Asia\", \"Australia\", \"Europe\", \"Oceania\", \"Africa and the Middle East\", \"Americas\", \"Asia\", \"Australia\", \"Europe\", \"Oceania\"]}, \"type\": \"sankey\"}],\n",
       "                        {\"font\": {\"size\": 10}, \"template\": {\"data\": {\"bar\": [{\"error_x\": {\"color\": \"#2a3f5f\"}, \"error_y\": {\"color\": \"#2a3f5f\"}, \"marker\": {\"line\": {\"color\": \"#E5ECF6\", \"width\": 0.5}}, \"type\": \"bar\"}], \"barpolar\": [{\"marker\": {\"line\": {\"color\": \"#E5ECF6\", \"width\": 0.5}}, \"type\": \"barpolar\"}], \"carpet\": [{\"aaxis\": {\"endlinecolor\": \"#2a3f5f\", \"gridcolor\": \"white\", \"linecolor\": \"white\", \"minorgridcolor\": \"white\", \"startlinecolor\": \"#2a3f5f\"}, \"baxis\": {\"endlinecolor\": \"#2a3f5f\", \"gridcolor\": \"white\", \"linecolor\": \"white\", \"minorgridcolor\": \"white\", \"startlinecolor\": \"#2a3f5f\"}, \"type\": \"carpet\"}], \"choropleth\": [{\"colorbar\": {\"outlinewidth\": 0, \"ticks\": \"\"}, \"type\": \"choropleth\"}], \"contour\": [{\"colorbar\": {\"outlinewidth\": 0, \"ticks\": \"\"}, \"colorscale\": [[0.0, \"#0d0887\"], [0.1111111111111111, \"#46039f\"], [0.2222222222222222, \"#7201a8\"], [0.3333333333333333, \"#9c179e\"], [0.4444444444444444, \"#bd3786\"], [0.5555555555555556, \"#d8576b\"], [0.6666666666666666, \"#ed7953\"], [0.7777777777777778, \"#fb9f3a\"], [0.8888888888888888, \"#fdca26\"], [1.0, \"#f0f921\"]], \"type\": \"contour\"}], \"contourcarpet\": [{\"colorbar\": {\"outlinewidth\": 0, \"ticks\": \"\"}, \"type\": \"contourcarpet\"}], \"heatmap\": [{\"colorbar\": {\"outlinewidth\": 0, \"ticks\": \"\"}, \"colorscale\": [[0.0, \"#0d0887\"], [0.1111111111111111, \"#46039f\"], [0.2222222222222222, \"#7201a8\"], [0.3333333333333333, \"#9c179e\"], [0.4444444444444444, \"#bd3786\"], [0.5555555555555556, \"#d8576b\"], [0.6666666666666666, \"#ed7953\"], [0.7777777777777778, \"#fb9f3a\"], [0.8888888888888888, \"#fdca26\"], [1.0, \"#f0f921\"]], \"type\": \"heatmap\"}], \"heatmapgl\": [{\"colorbar\": {\"outlinewidth\": 0, \"ticks\": \"\"}, \"colorscale\": [[0.0, \"#0d0887\"], [0.1111111111111111, \"#46039f\"], [0.2222222222222222, \"#7201a8\"], [0.3333333333333333, \"#9c179e\"], [0.4444444444444444, \"#bd3786\"], [0.5555555555555556, \"#d8576b\"], [0.6666666666666666, \"#ed7953\"], [0.7777777777777778, \"#fb9f3a\"], [0.8888888888888888, \"#fdca26\"], [1.0, \"#f0f921\"]], \"type\": \"heatmapgl\"}], \"histogram\": [{\"marker\": {\"colorbar\": {\"outlinewidth\": 0, \"ticks\": \"\"}}, \"type\": \"histogram\"}], \"histogram2d\": [{\"colorbar\": {\"outlinewidth\": 0, \"ticks\": \"\"}, \"colorscale\": [[0.0, \"#0d0887\"], [0.1111111111111111, \"#46039f\"], [0.2222222222222222, \"#7201a8\"], [0.3333333333333333, \"#9c179e\"], [0.4444444444444444, \"#bd3786\"], [0.5555555555555556, \"#d8576b\"], [0.6666666666666666, \"#ed7953\"], [0.7777777777777778, \"#fb9f3a\"], [0.8888888888888888, \"#fdca26\"], [1.0, \"#f0f921\"]], \"type\": \"histogram2d\"}], \"histogram2dcontour\": [{\"colorbar\": {\"outlinewidth\": 0, \"ticks\": \"\"}, \"colorscale\": [[0.0, \"#0d0887\"], [0.1111111111111111, \"#46039f\"], [0.2222222222222222, \"#7201a8\"], [0.3333333333333333, \"#9c179e\"], [0.4444444444444444, \"#bd3786\"], [0.5555555555555556, \"#d8576b\"], [0.6666666666666666, \"#ed7953\"], [0.7777777777777778, \"#fb9f3a\"], [0.8888888888888888, \"#fdca26\"], [1.0, \"#f0f921\"]], \"type\": \"histogram2dcontour\"}], \"mesh3d\": [{\"colorbar\": {\"outlinewidth\": 0, \"ticks\": \"\"}, \"type\": \"mesh3d\"}], \"parcoords\": [{\"line\": {\"colorbar\": {\"outlinewidth\": 0, \"ticks\": \"\"}}, \"type\": \"parcoords\"}], \"pie\": [{\"automargin\": true, \"type\": \"pie\"}], \"scatter\": [{\"marker\": {\"colorbar\": {\"outlinewidth\": 0, \"ticks\": \"\"}}, \"type\": \"scatter\"}], \"scatter3d\": [{\"line\": {\"colorbar\": {\"outlinewidth\": 0, \"ticks\": \"\"}}, \"marker\": {\"colorbar\": {\"outlinewidth\": 0, \"ticks\": \"\"}}, \"type\": \"scatter3d\"}], \"scattercarpet\": [{\"marker\": {\"colorbar\": {\"outlinewidth\": 0, \"ticks\": \"\"}}, \"type\": \"scattercarpet\"}], \"scattergeo\": [{\"marker\": {\"colorbar\": {\"outlinewidth\": 0, \"ticks\": \"\"}}, \"type\": \"scattergeo\"}], \"scattergl\": [{\"marker\": {\"colorbar\": {\"outlinewidth\": 0, \"ticks\": \"\"}}, \"type\": \"scattergl\"}], \"scattermapbox\": [{\"marker\": {\"colorbar\": {\"outlinewidth\": 0, \"ticks\": \"\"}}, \"type\": \"scattermapbox\"}], \"scatterpolar\": [{\"marker\": {\"colorbar\": {\"outlinewidth\": 0, \"ticks\": \"\"}}, \"type\": \"scatterpolar\"}], \"scatterpolargl\": [{\"marker\": {\"colorbar\": {\"outlinewidth\": 0, \"ticks\": \"\"}}, \"type\": \"scatterpolargl\"}], \"scatterternary\": [{\"marker\": {\"colorbar\": {\"outlinewidth\": 0, \"ticks\": \"\"}}, \"type\": \"scatterternary\"}], \"surface\": [{\"colorbar\": {\"outlinewidth\": 0, \"ticks\": \"\"}, \"colorscale\": [[0.0, \"#0d0887\"], [0.1111111111111111, \"#46039f\"], [0.2222222222222222, \"#7201a8\"], [0.3333333333333333, \"#9c179e\"], [0.4444444444444444, \"#bd3786\"], [0.5555555555555556, \"#d8576b\"], [0.6666666666666666, \"#ed7953\"], [0.7777777777777778, \"#fb9f3a\"], [0.8888888888888888, \"#fdca26\"], [1.0, \"#f0f921\"]], \"type\": \"surface\"}], \"table\": [{\"cells\": {\"fill\": {\"color\": \"#EBF0F8\"}, \"line\": {\"color\": \"white\"}}, \"header\": {\"fill\": {\"color\": \"#C8D4E3\"}, \"line\": {\"color\": \"white\"}}, \"type\": \"table\"}]}, \"layout\": {\"annotationdefaults\": {\"arrowcolor\": \"#2a3f5f\", \"arrowhead\": 0, \"arrowwidth\": 1}, \"coloraxis\": {\"colorbar\": {\"outlinewidth\": 0, \"ticks\": \"\"}}, \"colorscale\": {\"diverging\": [[0, \"#8e0152\"], [0.1, \"#c51b7d\"], [0.2, \"#de77ae\"], [0.3, \"#f1b6da\"], [0.4, \"#fde0ef\"], [0.5, \"#f7f7f7\"], [0.6, \"#e6f5d0\"], [0.7, \"#b8e186\"], [0.8, \"#7fbc41\"], [0.9, \"#4d9221\"], [1, \"#276419\"]], \"sequential\": [[0.0, \"#0d0887\"], [0.1111111111111111, \"#46039f\"], [0.2222222222222222, \"#7201a8\"], [0.3333333333333333, \"#9c179e\"], [0.4444444444444444, \"#bd3786\"], [0.5555555555555556, \"#d8576b\"], [0.6666666666666666, \"#ed7953\"], [0.7777777777777778, \"#fb9f3a\"], [0.8888888888888888, \"#fdca26\"], [1.0, \"#f0f921\"]], \"sequentialminus\": [[0.0, \"#0d0887\"], [0.1111111111111111, \"#46039f\"], [0.2222222222222222, \"#7201a8\"], [0.3333333333333333, \"#9c179e\"], [0.4444444444444444, \"#bd3786\"], [0.5555555555555556, \"#d8576b\"], [0.6666666666666666, \"#ed7953\"], [0.7777777777777778, \"#fb9f3a\"], [0.8888888888888888, \"#fdca26\"], [1.0, \"#f0f921\"]]}, \"colorway\": [\"#636efa\", \"#EF553B\", \"#00cc96\", \"#ab63fa\", \"#FFA15A\", \"#19d3f3\", \"#FF6692\", \"#B6E880\", \"#FF97FF\", \"#FECB52\"], \"font\": {\"color\": \"#2a3f5f\"}, \"geo\": {\"bgcolor\": \"white\", \"lakecolor\": \"white\", \"landcolor\": \"#E5ECF6\", \"showlakes\": true, \"showland\": true, \"subunitcolor\": \"white\"}, \"hoverlabel\": {\"align\": \"left\"}, \"hovermode\": \"closest\", \"mapbox\": {\"style\": \"light\"}, \"paper_bgcolor\": \"white\", \"plot_bgcolor\": \"#E5ECF6\", \"polar\": {\"angularaxis\": {\"gridcolor\": \"white\", \"linecolor\": \"white\", \"ticks\": \"\"}, \"bgcolor\": \"#E5ECF6\", \"radialaxis\": {\"gridcolor\": \"white\", \"linecolor\": \"white\", \"ticks\": \"\"}}, \"scene\": {\"xaxis\": {\"backgroundcolor\": \"#E5ECF6\", \"gridcolor\": \"white\", \"gridwidth\": 2, \"linecolor\": \"white\", \"showbackground\": true, \"ticks\": \"\", \"zerolinecolor\": \"white\"}, \"yaxis\": {\"backgroundcolor\": \"#E5ECF6\", \"gridcolor\": \"white\", \"gridwidth\": 2, \"linecolor\": \"white\", \"showbackground\": true, \"ticks\": \"\", \"zerolinecolor\": \"white\"}, \"zaxis\": {\"backgroundcolor\": \"#E5ECF6\", \"gridcolor\": \"white\", \"gridwidth\": 2, \"linecolor\": \"white\", \"showbackground\": true, \"ticks\": \"\", \"zerolinecolor\": \"white\"}}, \"shapedefaults\": {\"line\": {\"color\": \"#2a3f5f\"}}, \"ternary\": {\"aaxis\": {\"gridcolor\": \"white\", \"linecolor\": \"white\", \"ticks\": \"\"}, \"baxis\": {\"gridcolor\": \"white\", \"linecolor\": \"white\", \"ticks\": \"\"}, \"bgcolor\": \"#E5ECF6\", \"caxis\": {\"gridcolor\": \"white\", \"linecolor\": \"white\", \"ticks\": \"\"}}, \"title\": {\"x\": 0.05}, \"xaxis\": {\"automargin\": true, \"gridcolor\": \"white\", \"linecolor\": \"white\", \"ticks\": \"\", \"title\": {\"standoff\": 15}, \"zerolinecolor\": \"white\", \"zerolinewidth\": 2}, \"yaxis\": {\"automargin\": true, \"gridcolor\": \"white\", \"linecolor\": \"white\", \"ticks\": \"\", \"title\": {\"standoff\": 15}, \"zerolinecolor\": \"white\", \"zerolinewidth\": 2}}}, \"title\": {\"text\": \"Population Migration between New Zealand and Other Continents\"}},\n",
       "                        {\"responsive\": true}\n",
       "                    ).then(function(){\n",
       "                            \n",
       "var gd = document.getElementById('d6429331-1653-427c-9c78-656fc8154238');\n",
       "var x = new MutationObserver(function (mutations, observer) {{\n",
       "        var display = window.getComputedStyle(gd).display;\n",
       "        if (!display || display === 'none') {{\n",
       "            console.log([gd, 'removed!']);\n",
       "            Plotly.purge(gd);\n",
       "            observer.disconnect();\n",
       "        }}\n",
       "}});\n",
       "\n",
       "// Listen for the removal of the full notebook cells\n",
       "var notebookContainer = gd.closest('#notebook-container');\n",
       "if (notebookContainer) {{\n",
       "    x.observe(notebookContainer, {childList: true});\n",
       "}}\n",
       "\n",
       "// Listen for the clearing of the current output cell\n",
       "var outputEl = gd.closest('.output');\n",
       "if (outputEl) {{\n",
       "    x.observe(outputEl, {childList: true});\n",
       "}}\n",
       "\n",
       "                        })\n",
       "                };\n",
       "                });\n",
       "            </script>\n",
       "        </div>"
      ]
     },
     "metadata": {},
     "output_type": "display_data"
    }
   ],
   "source": [
    "all_nodes = continent_wise_migration.Measure.values.tolist() + continent_wise_migration.Country.values.tolist()\n",
    "source_indices = [all_nodes.index(measure) for measure in continent_wise_migration.Measure]\n",
    "target_indices = [all_nodes.index(country) for country in continent_wise_migration.Country]\n",
    "\n",
    "fig = go.Figure(data=[go.Sankey(\n",
    "    # Define nodes\n",
    "    node = dict(\n",
    "      label =  all_nodes,\n",
    "      color =  \"red\"\n",
    "    ),\n",
    "\n",
    "    # Add links\n",
    "    link = dict(\n",
    "      source =  source_indices,\n",
    "      target =  target_indices,\n",
    "      value =  continent_wise_migration.Value,\n",
    "))])\n",
    "\n",
    "fig.update_layout(title_text=\"Population Migration between New Zealand and Other Continents\",\n",
    "                  font_size=10)\n",
    "fig.show()"
   ]
  },
  {
   "cell_type": "code",
   "execution_count": 129,
   "metadata": {},
   "outputs": [],
   "source": [
    "rng = pd.date_range('1/1/2011', periods=7500, freq='H')\n",
    "ts = pd.Series(np.random.randn(len(rng)), index=rng)\n",
    "\n",
    "graphs = [\n",
    "    dict(\n",
    "        data=[\n",
    "            dict(\n",
    "                x=[1, 2, 3],\n",
    "                y=[10, 20, 30],\n",
    "                type='scatter'\n",
    "            ),\n",
    "        ],\n",
    "        layout=dict(\n",
    "            title='first graph'\n",
    "        )\n",
    "    ),\n",
    "\n",
    "    dict(\n",
    "        data=[\n",
    "            dict(\n",
    "                x=[1, 3, 5],\n",
    "                y=[10, 50, 30],\n",
    "                type='bar'\n",
    "            ),\n",
    "        ],\n",
    "        layout=dict(\n",
    "            title='second graph'\n",
    "        )\n",
    "    ),\n",
    "\n",
    "    dict(\n",
    "        data=[\n",
    "            dict(\n",
    "                x=ts.index,  # Can use the pandas data structures directly\n",
    "                y=ts\n",
    "            )\n",
    "        ]\n",
    "    )\n",
    "]\n",
    "\n"
   ]
  },
  {
   "cell_type": "code",
   "execution_count": 130,
   "metadata": {},
   "outputs": [
    {
     "data": {
      "text/plain": [
       "[{'data': [{'x': [1, 2, 3], 'y': [10, 20, 30], 'type': 'scatter'}],\n",
       "  'layout': {'title': 'first graph'}},\n",
       " {'data': [{'x': [1, 3, 5], 'y': [10, 50, 30], 'type': 'bar'}],\n",
       "  'layout': {'title': 'second graph'}},\n",
       " {'data': [{'x': DatetimeIndex(['2011-01-01 00:00:00', '2011-01-01 01:00:00',\n",
       "                   '2011-01-01 02:00:00', '2011-01-01 03:00:00',\n",
       "                   '2011-01-01 04:00:00', '2011-01-01 05:00:00',\n",
       "                   '2011-01-01 06:00:00', '2011-01-01 07:00:00',\n",
       "                   '2011-01-01 08:00:00', '2011-01-01 09:00:00',\n",
       "                   ...\n",
       "                   '2011-11-09 02:00:00', '2011-11-09 03:00:00',\n",
       "                   '2011-11-09 04:00:00', '2011-11-09 05:00:00',\n",
       "                   '2011-11-09 06:00:00', '2011-11-09 07:00:00',\n",
       "                   '2011-11-09 08:00:00', '2011-11-09 09:00:00',\n",
       "                   '2011-11-09 10:00:00', '2011-11-09 11:00:00'],\n",
       "                  dtype='datetime64[ns]', length=7500, freq='H'),\n",
       "    'y': 2011-01-01 00:00:00   -1.349285\n",
       "    2011-01-01 01:00:00   -1.180681\n",
       "    2011-01-01 02:00:00    0.273152\n",
       "    2011-01-01 03:00:00   -0.280280\n",
       "    2011-01-01 04:00:00   -1.437790\n",
       "                             ...   \n",
       "    2011-11-09 07:00:00    1.215074\n",
       "    2011-11-09 08:00:00   -0.136986\n",
       "    2011-11-09 09:00:00    0.428868\n",
       "    2011-11-09 10:00:00   -0.391676\n",
       "    2011-11-09 11:00:00   -0.983475\n",
       "    Freq: H, Length: 7500, dtype: float64}]}]"
      ]
     },
     "execution_count": 130,
     "metadata": {},
     "output_type": "execute_result"
    }
   ],
   "source": [
    "graphs"
   ]
  },
  {
   "cell_type": "code",
   "execution_count": 7,
   "metadata": {},
   "outputs": [],
   "source": [
    "job_name_df.to_csv('/Users/amanda/Documents/Projects/insight/data/processed/education-to-job.csv', index=False)"
   ]
  },
  {
   "cell_type": "code",
   "execution_count": null,
   "metadata": {},
   "outputs": [],
   "source": []
  }
 ],
 "metadata": {
  "kernelspec": {
   "display_name": "insight",
   "language": "python",
   "name": "insight"
  },
  "language_info": {
   "codemirror_mode": {
    "name": "ipython",
    "version": 3
   },
   "file_extension": ".py",
   "mimetype": "text/x-python",
   "name": "python",
   "nbconvert_exporter": "python",
   "pygments_lexer": "ipython3",
   "version": "3.7.3"
  }
 },
 "nbformat": 4,
 "nbformat_minor": 4
}
