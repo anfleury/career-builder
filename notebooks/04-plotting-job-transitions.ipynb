{
 "cells": [
  {
   "cell_type": "code",
   "execution_count": 15,
   "metadata": {},
   "outputs": [],
   "source": [
    "import os\n",
    "import re\n",
    "import psycopg2\n",
    "import requests\n",
    "import json, urllib\n",
    "import pandas as pd\n",
    "import numpy as np\n",
    "import plotly\n",
    "import plotly.graph_objects as go"
   ]
  },
  {
   "cell_type": "code",
   "execution_count": 2,
   "metadata": {},
   "outputs": [],
   "source": [
    "def back_to_list(df, col):\n",
    "    \"\"\"Convert columns in df back to lists from strings (this happens when saving to csv)\n",
    "    \"\"\"\n",
    "    \n",
    "    df[col] = [s.strip(\"'[\") for s in df[col]]\n",
    "    df[col] = [s.strip(\"]'\") for s in df[col]]\n",
    "    df[col] = [s.split(\"', '\") for s in df[col]]\n",
    "    \n",
    "    return df[col]"
   ]
  },
  {
   "cell_type": "code",
   "execution_count": 3,
   "metadata": {},
   "outputs": [],
   "source": [
    "# Load education and occupation details\n",
    "\n",
    "jobs_df = pd.read_csv('/Users/amanda/Documents/Projects/insight/data/processed/jobbank-fields.csv')\n",
    "details_df = pd.read_csv('/Users/amanda/Documents/Projects/insight/data/processed/jobbank-details.csv')\n",
    "job_name_df = pd.read_csv('/Users/amanda/Documents/Projects/insight/data/processed/education-to-job.csv')\n"
   ]
  },
  {
   "cell_type": "markdown",
   "metadata": {},
   "source": [
    "# Clean and organize skills information"
   ]
  },
  {
   "cell_type": "code",
   "execution_count": 5,
   "metadata": {},
   "outputs": [],
   "source": [
    "jobs_df['description'].str.split('found under ')\n",
    "edu_categories = [s.split('found under ')[1] for s in jobs_df['description']]\n",
    "edu_categories = [s.strip('.') for s in edu_categories]\n",
    "jobs_df['education_groups'] = edu_categories\n",
    "\n",
    "jobs_df['top_jobs'] = back_to_list(jobs_df, 'top_jobs')\n",
    "jobs_df['top_job_links'] = back_to_list(jobs_df, 'top_job_links')\n",
    "jobs_df['job_percent'] = back_to_list(jobs_df, 'job_percent')\n",
    "\n",
    "education_df = jobs_df[['degree','education_groups','top_jobs','job_percent']].drop_duplicates(subset =['education_groups','degree']) \n"
   ]
  },
  {
   "cell_type": "code",
   "execution_count": 6,
   "metadata": {},
   "outputs": [],
   "source": [
    "details_df['requirements'] = back_to_list(details_df, 'requirements')\n",
    "details_df['skills'] = back_to_list(details_df, 'skills')"
   ]
  },
  {
   "cell_type": "code",
   "execution_count": null,
   "metadata": {},
   "outputs": [],
   "source": []
  },
  {
   "cell_type": "markdown",
   "metadata": {},
   "source": [
    "# Build dataframe for Sankey diagram"
   ]
  },
  {
   "cell_type": "code",
   "execution_count": 7,
   "metadata": {},
   "outputs": [],
   "source": [
    "job_name_df = pd.read_csv('/Users/amanda/Documents/Projects/insight/data/processed/education-to-job.csv')\n",
    "\n",
    "#job_name_df['identifier'] = job_name_df['education-groups'].str.cat(job_name_df['degree'],sep=\" : \")\n",
    "\n",
    "#job_name_df['job-percent'].fillna('', inplace=True)\n",
    "\n",
    "#job_name_df['job-percent'] = [s.strip('%') for s in job_name_df['job-percent']]\n",
    "#job_name_df['job-percent'] = pd.to_numeric(job_name_df['job-percent'], errors='coerce')"
   ]
  },
  {
   "cell_type": "code",
   "execution_count": 8,
   "metadata": {},
   "outputs": [
    {
     "data": {
      "text/html": [
       "<div>\n",
       "<style scoped>\n",
       "    .dataframe tbody tr th:only-of-type {\n",
       "        vertical-align: middle;\n",
       "    }\n",
       "\n",
       "    .dataframe tbody tr th {\n",
       "        vertical-align: top;\n",
       "    }\n",
       "\n",
       "    .dataframe thead th {\n",
       "        text-align: right;\n",
       "    }\n",
       "</style>\n",
       "<table border=\"1\" class=\"dataframe\">\n",
       "  <thead>\n",
       "    <tr style=\"text-align: right;\">\n",
       "      <th></th>\n",
       "      <th>degree</th>\n",
       "      <th>education_groups</th>\n",
       "      <th>top_jobs</th>\n",
       "      <th>job_percent</th>\n",
       "      <th>top_job_links</th>\n",
       "      <th>link</th>\n",
       "      <th>identifier</th>\n",
       "    </tr>\n",
       "  </thead>\n",
       "  <tbody>\n",
       "    <tr>\n",
       "      <th>0</th>\n",
       "      <td>College/CEGEP</td>\n",
       "      <td>Accounting</td>\n",
       "      <td>Accounting and related clerks</td>\n",
       "      <td>11.99</td>\n",
       "      <td>/marketreport/summary-occupation/14122/ca</td>\n",
       "      <td>/14122/ca</td>\n",
       "      <td>Accounting : College/CEGEP</td>\n",
       "    </tr>\n",
       "    <tr>\n",
       "      <th>1</th>\n",
       "      <td>College/CEGEP</td>\n",
       "      <td>Accounting</td>\n",
       "      <td>Financial auditors and accountants</td>\n",
       "      <td>11.23</td>\n",
       "      <td>/marketreport/summary-occupation/131/ca</td>\n",
       "      <td>/131/ca</td>\n",
       "      <td>Accounting : College/CEGEP</td>\n",
       "    </tr>\n",
       "    <tr>\n",
       "      <th>2</th>\n",
       "      <td>College/CEGEP</td>\n",
       "      <td>Accounting</td>\n",
       "      <td>Accounting technicians and bookkeepers</td>\n",
       "      <td>10.46</td>\n",
       "      <td>/marketreport/summary-occupation/24500/ca</td>\n",
       "      <td>/24500/ca</td>\n",
       "      <td>Accounting : College/CEGEP</td>\n",
       "    </tr>\n",
       "    <tr>\n",
       "      <th>3</th>\n",
       "      <td>College/CEGEP</td>\n",
       "      <td>Accounting</td>\n",
       "      <td>Administrative officers</td>\n",
       "      <td>3.92</td>\n",
       "      <td>/marketreport/summary-occupation/12462/ca</td>\n",
       "      <td>/12462/ca</td>\n",
       "      <td>Accounting : College/CEGEP</td>\n",
       "    </tr>\n",
       "    <tr>\n",
       "      <th>4</th>\n",
       "      <td>College/CEGEP</td>\n",
       "      <td>Accounting</td>\n",
       "      <td>Retail salespersons</td>\n",
       "      <td>3.25</td>\n",
       "      <td>/marketreport/summary-occupation/20599/ca</td>\n",
       "      <td>/20599/ca</td>\n",
       "      <td>Accounting : College/CEGEP</td>\n",
       "    </tr>\n",
       "    <tr>\n",
       "      <th>...</th>\n",
       "      <td>...</td>\n",
       "      <td>...</td>\n",
       "      <td>...</td>\n",
       "      <td>...</td>\n",
       "      <td>...</td>\n",
       "      <td>...</td>\n",
       "      <td>...</td>\n",
       "    </tr>\n",
       "    <tr>\n",
       "      <th>1940</th>\n",
       "      <td>Master's degree</td>\n",
       "      <td>Sociology</td>\n",
       "      <td>Administrative officers</td>\n",
       "      <td>2.63</td>\n",
       "      <td>/marketreport/summary-occupation/12462/ca</td>\n",
       "      <td>/12462/ca</td>\n",
       "      <td>Sociology : Master's degree</td>\n",
       "    </tr>\n",
       "    <tr>\n",
       "      <th>1941</th>\n",
       "      <td>Master's degree</td>\n",
       "      <td>Sociology</td>\n",
       "      <td>Social and community service workers</td>\n",
       "      <td>2.63</td>\n",
       "      <td>/marketreport/summary-occupation/5112/ca</td>\n",
       "      <td>/5112/ca</td>\n",
       "      <td>Sociology : Master's degree</td>\n",
       "    </tr>\n",
       "    <tr>\n",
       "      <th>1942</th>\n",
       "      <td>Master's degree</td>\n",
       "      <td>Sociology</td>\n",
       "      <td>Business development officers and marketing re...</td>\n",
       "      <td>2.63</td>\n",
       "      <td>/marketreport/summary-occupation/3916/ca</td>\n",
       "      <td>/3916/ca</td>\n",
       "      <td>Sociology : Master's degree</td>\n",
       "    </tr>\n",
       "    <tr>\n",
       "      <th>1943</th>\n",
       "      <td>Master's degree</td>\n",
       "      <td>Sociology</td>\n",
       "      <td>University professors and lecturers</td>\n",
       "      <td>1.97</td>\n",
       "      <td>/marketreport/summary-occupation/4707/ca</td>\n",
       "      <td>/4707/ca</td>\n",
       "      <td>Sociology : Master's degree</td>\n",
       "    </tr>\n",
       "    <tr>\n",
       "      <th>1944</th>\n",
       "      <td>Master's degree</td>\n",
       "      <td>Sociology</td>\n",
       "      <td>Secondary school teachers</td>\n",
       "      <td>1.97</td>\n",
       "      <td>/marketreport/summary-occupation/15904/ca</td>\n",
       "      <td>/15904/ca</td>\n",
       "      <td>Sociology : Master's degree</td>\n",
       "    </tr>\n",
       "  </tbody>\n",
       "</table>\n",
       "<p>1945 rows × 7 columns</p>\n",
       "</div>"
      ],
      "text/plain": [
       "               degree education_groups  \\\n",
       "0       College/CEGEP       Accounting   \n",
       "1       College/CEGEP       Accounting   \n",
       "2       College/CEGEP       Accounting   \n",
       "3       College/CEGEP       Accounting   \n",
       "4       College/CEGEP       Accounting   \n",
       "...               ...              ...   \n",
       "1940  Master's degree        Sociology   \n",
       "1941  Master's degree        Sociology   \n",
       "1942  Master's degree        Sociology   \n",
       "1943  Master's degree        Sociology   \n",
       "1944  Master's degree        Sociology   \n",
       "\n",
       "                                               top_jobs  job_percent  \\\n",
       "0                         Accounting and related clerks        11.99   \n",
       "1                    Financial auditors and accountants        11.23   \n",
       "2                Accounting technicians and bookkeepers        10.46   \n",
       "3                               Administrative officers         3.92   \n",
       "4                                   Retail salespersons         3.25   \n",
       "...                                                 ...          ...   \n",
       "1940                            Administrative officers         2.63   \n",
       "1941               Social and community service workers         2.63   \n",
       "1942  Business development officers and marketing re...         2.63   \n",
       "1943                University professors and lecturers         1.97   \n",
       "1944                          Secondary school teachers         1.97   \n",
       "\n",
       "                                  top_job_links       link  \\\n",
       "0     /marketreport/summary-occupation/14122/ca  /14122/ca   \n",
       "1       /marketreport/summary-occupation/131/ca    /131/ca   \n",
       "2     /marketreport/summary-occupation/24500/ca  /24500/ca   \n",
       "3     /marketreport/summary-occupation/12462/ca  /12462/ca   \n",
       "4     /marketreport/summary-occupation/20599/ca  /20599/ca   \n",
       "...                                         ...        ...   \n",
       "1940  /marketreport/summary-occupation/12462/ca  /12462/ca   \n",
       "1941   /marketreport/summary-occupation/5112/ca   /5112/ca   \n",
       "1942   /marketreport/summary-occupation/3916/ca   /3916/ca   \n",
       "1943   /marketreport/summary-occupation/4707/ca   /4707/ca   \n",
       "1944  /marketreport/summary-occupation/15904/ca  /15904/ca   \n",
       "\n",
       "                       identifier  \n",
       "0      Accounting : College/CEGEP  \n",
       "1      Accounting : College/CEGEP  \n",
       "2      Accounting : College/CEGEP  \n",
       "3      Accounting : College/CEGEP  \n",
       "4      Accounting : College/CEGEP  \n",
       "...                           ...  \n",
       "1940  Sociology : Master's degree  \n",
       "1941  Sociology : Master's degree  \n",
       "1942  Sociology : Master's degree  \n",
       "1943  Sociology : Master's degree  \n",
       "1944  Sociology : Master's degree  \n",
       "\n",
       "[1945 rows x 7 columns]"
      ]
     },
     "execution_count": 8,
     "metadata": {},
     "output_type": "execute_result"
    }
   ],
   "source": [
    "job_name_df"
   ]
  },
  {
   "cell_type": "code",
   "execution_count": 304,
   "metadata": {},
   "outputs": [],
   "source": [
    "import matplotlib.colors as mc\n",
    "import colorsys\n",
    "\n",
    "def adjust_lightness(color, amount=1.28):\n",
    "    c = color\n",
    "    c = colorsys.rgb_to_hls(*mc.to_rgb(c))\n",
    "    rgb = colorsys.hls_to_rgb(c[0], max(0, min(1, amount * c[1])), c[2])\n",
    "    return rgb"
   ]
  },
  {
   "cell_type": "code",
   "execution_count": 305,
   "metadata": {},
   "outputs": [],
   "source": [
    "import numpy as np\n",
    "import matplotlib.cm\n",
    "import seaborn as sns\n",
    "from  more_itertools import unique_everseen\n",
    "\n",
    "def get_cmap_string(palette, domain):\n",
    "\n",
    "    domain_unique = list(unique_everseen(domain ))\n",
    "    rgbmap = sns.color_palette(palette, len(domain_unique)) #matplotlib.cm.get_cmap(palette, lut=len(domain_unique))   \n",
    "    color_dict = res = dict(zip(domain_unique, rgbmap))   \n",
    "    color_list = [color_dict.get(i) for i in domain]\n",
    "\n",
    "    return color_list"
   ]
  },
  {
   "cell_type": "code",
   "execution_count": 306,
   "metadata": {},
   "outputs": [],
   "source": [
    "def build_sankey(df, degree):\n",
    "\n",
    "    data = df.where(df['education_groups']==degree).dropna()\n",
    "    \n",
    "    data['identifier'] = data['identifier'].str.replace(\" : \",\"- \")\n",
    "\n",
    "    all_nodes = data['identifier'].values.tolist() + data['top_jobs'].values.tolist()\n",
    "    source_indices = [all_nodes.index(identifier) for identifier in data['identifier']]\n",
    "    target_indices = [all_nodes.index(top_job) for top_job in data['top_jobs']]\n",
    "    \n",
    "    cmap = get_cmap_string(palette='husl', domain=all_nodes)\n",
    "    cmap2 = list(map(adjust_lightness, cmap))\n",
    "\n",
    "    fig = go.Figure(data=[go.Sankey\n",
    "                          (node = dict(pad = 15,\n",
    "                                       thickness = 20,\n",
    "                                       line = dict(color = \"black\",\n",
    "                                                   width = 0),\n",
    "                                       label = all_nodes,\n",
    "                                       color = ['rgb' + str(s).strip('[]') for s in cmap]\n",
    "                                       ),\n",
    "                           link = dict(source = source_indices,\n",
    "                                       target = target_indices,\n",
    "                                       value = data['job_percent']*100,\n",
    "                                       color = ['rgb' + str(s).strip('[]') for s in cmap2]\n",
    "                                       ),\n",
    "                          )\n",
    "                         ]\n",
    "                   )\n",
    "\n",
    "    filename = 'static/{}.png'.format(degree)\n",
    "\n",
    "    fig.update_layout(\n",
    "    autosize=False,\n",
    "    width=800,\n",
    "    height=800)\n",
    "\n",
    "    return fig"
   ]
  },
  {
   "cell_type": "code",
   "execution_count": 307,
   "metadata": {
    "scrolled": false
   },
   "outputs": [
    {
     "data": {
      "application/vnd.plotly.v1+json": {
       "config": {
        "plotlyServerURL": "https://plot.ly"
       },
       "data": [
        {
         "link": {
          "color": [
           "rgb(0.9892979108619976, 0.8143144019489655, 0.8457322093861693)",
           "rgb(0.9892979108619976, 0.8143144019489655, 0.8457322093861693)",
           "rgb(0.9892979108619976, 0.8143144019489655, 0.8457322093861693)",
           "rgb(0.9892979108619976, 0.8143144019489655, 0.8457322093861693)",
           "rgb(0.9892979108619976, 0.8143144019489655, 0.8457322093861693)",
           "rgb(0.9892979108619976, 0.8143144019489655, 0.8457322093861693)",
           "rgb(0.9892979108619976, 0.8143144019489655, 0.8457322093861693)",
           "rgb(0.9892979108619976, 0.8143144019489655, 0.8457322093861693)",
           "rgb(0.9892979108619976, 0.8143144019489655, 0.8457322093861693)",
           "rgb(0.9892979108619976, 0.8143144019489655, 0.8457322093861693)",
           "rgb(0.9860620886972422, 0.7470361820885918, 0.6920968283277629)",
           "rgb(0.9860620886972422, 0.7470361820885918, 0.6920968283277629)",
           "rgb(0.9860620886972422, 0.7470361820885918, 0.6920968283277629)",
           "rgb(0.9860620886972422, 0.7470361820885918, 0.6920968283277629)",
           "rgb(0.9860620886972422, 0.7470361820885918, 0.6920968283277629)",
           "rgb(0.9860620886972422, 0.7470361820885918, 0.6920968283277629)",
           "rgb(0.9860620886972422, 0.7470361820885918, 0.6920968283277629)",
           "rgb(0.9860620886972422, 0.7470361820885918, 0.6920968283277629)",
           "rgb(0.9860620886972422, 0.7470361820885918, 0.6920968283277629)",
           "rgb(0.9860620886972422, 0.7470361820885918, 0.6920968283277629)",
           "rgb(0.9218389391435841, 0.6802555279738021, 0.459712865992317)",
           "rgb(0.9218389391435841, 0.6802555279738021, 0.459712865992317)",
           "rgb(0.9218389391435841, 0.6802555279738021, 0.459712865992317)",
           "rgb(0.9218389391435841, 0.6802555279738021, 0.459712865992317)",
           "rgb(0.9218389391435841, 0.6802555279738021, 0.459712865992317)",
           "rgb(0.9218389391435841, 0.6802555279738021, 0.459712865992317)",
           "rgb(0.9218389391435841, 0.6802555279738021, 0.459712865992317)",
           "rgb(0.9218389391435841, 0.6802555279738021, 0.459712865992317)",
           "rgb(0.9218389391435841, 0.6802555279738021, 0.459712865992317)",
           "rgb(0.9218389391435841, 0.6802555279738021, 0.459712865992317)",
           "rgb(0.8526771346199913, 0.6908004883716143, 0.4046382276562628)",
           "rgb(0.8190594242655747, 0.7208441220536663, 0.33856142559557556)",
           "rgb(0.7800192045897811, 0.7750102611516678, 0.2798700353524892)",
           "rgb(0.6715123587832604, 0.791233795213151, 0.2933653116763768)",
           "rgb(0.5202068754321152, 0.805978159781763, 0.3132756892873976)",
           "rgb(0.33190797179307086, 0.8125177469993525, 0.47477892261288485)",
           "rgb(0.33610465019608826, 0.8051496249375953, 0.6242424877786152)",
           "rgb(0.33884331466573414, 0.7998729350903298, 0.7031441000256389)",
           "rgb(0.34106757339548, 0.7952627259549299, 0.7622666190160563)",
           "rgb(0.36356428106007543, 0.7801479033853146, 0.8048578511542888)",
           "rgb(0.8190594242655747, 0.7208441220536663, 0.33856142559557556)",
           "rgb(0.4191504621620049, 0.7600192165556854, 0.8326860908731056)",
           "rgb(0.8526771346199913, 0.6908004883716143, 0.4046382276562628)",
           "rgb(0.47310980080875187, 0.764071198163659, 0.8918559660973181)",
           "rgb(0.7800192045897811, 0.7750102611516678, 0.2798700353524892)",
           "rgb(0.6412310456660177, 0.8066126060221991, 0.9785997135528768)",
           "rgb(0.6715123587832604, 0.791233795213151, 0.2933653116763768)",
           "rgb(0.9480600343918516, 0.9500354309057268, 0.9950919035601041)",
           "rgb(0.9412528964876012, 0.9007250292779261, 0.9913398565831715)",
           "rgb(0.5202068754321152, 0.805978159781763, 0.3132756892873976)",
           "rgb(0.8190594242655747, 0.7208441220536663, 0.33856142559557556)",
           "rgb(0.47310980080875187, 0.764071198163659, 0.8918559660973181)",
           "rgb(0.8526771346199913, 0.6908004883716143, 0.4046382276562628)",
           "rgb(0.6412310456660177, 0.8066126060221991, 0.9785997135528768)",
           "rgb(0.4191504621620049, 0.7600192165556854, 0.8326860908731056)",
           "rgb(0.9503861166602812, 0.8046843067414743, 0.9852730522598706)",
           "rgb(0.7800192045897811, 0.7750102611516678, 0.2798700353524892)",
           "rgb(0.9820292617731449, 0.7224026329805432, 0.9568203594106995)",
           "rgb(0.9852399789071714, 0.7625465561026977, 0.9117334969632271)",
           "rgb(0.9874027852883291, 0.7898779796434348, 0.8788453924440978)"
          ],
          "source": [
           0,
           0,
           0,
           0,
           0,
           0,
           0,
           0,
           0,
           0,
           10,
           10,
           10,
           10,
           10,
           10,
           10,
           10,
           10,
           10,
           20,
           20,
           20,
           20,
           20,
           20,
           20,
           20,
           20,
           20
          ],
          "target": [
           30,
           31,
           32,
           33,
           34,
           35,
           36,
           37,
           38,
           39,
           31,
           41,
           30,
           43,
           32,
           45,
           33,
           47,
           48,
           34,
           31,
           43,
           30,
           45,
           41,
           55,
           32,
           57,
           58,
           59
          ],
          "value": [
           1199,
           1123,
           1046,
           392,
           325,
           306,
           263,
           252.99999999999997,
           248,
           204.99999999999997,
           4695,
           735,
           705,
           544,
           366,
           241,
           129,
           119,
           119,
           102,
           5091,
           1182,
           545,
           364,
           341,
           159,
           159,
           136,
           113.99999999999999,
           113.99999999999999
          ]
         },
         "node": {
          "color": [
           "rgb(0.9677975592919913, 0.44127456009157356, 0.5358103155058701)",
           "rgb(0.9677975592919913, 0.44127456009157356, 0.5358103155058701)",
           "rgb(0.9677975592919913, 0.44127456009157356, 0.5358103155058701)",
           "rgb(0.9677975592919913, 0.44127456009157356, 0.5358103155058701)",
           "rgb(0.9677975592919913, 0.44127456009157356, 0.5358103155058701)",
           "rgb(0.9677975592919913, 0.44127456009157356, 0.5358103155058701)",
           "rgb(0.9677975592919913, 0.44127456009157356, 0.5358103155058701)",
           "rgb(0.9677975592919913, 0.44127456009157356, 0.5358103155058701)",
           "rgb(0.9677975592919913, 0.44127456009157356, 0.5358103155058701)",
           "rgb(0.9677975592919913, 0.44127456009157356, 0.5358103155058701)",
           "rgb(0.9701642765060011, 0.4585014668806449, 0.3408973774197841)",
           "rgb(0.9701642765060011, 0.4585014668806449, 0.3408973774197841)",
           "rgb(0.9701642765060011, 0.4585014668806449, 0.3408973774197841)",
           "rgb(0.9701642765060011, 0.4585014668806449, 0.3408973774197841)",
           "rgb(0.9701642765060011, 0.4585014668806449, 0.3408973774197841)",
           "rgb(0.9701642765060011, 0.4585014668806449, 0.3408973774197841)",
           "rgb(0.9701642765060011, 0.4585014668806449, 0.3408973774197841)",
           "rgb(0.9701642765060011, 0.4585014668806449, 0.3408973774197841)",
           "rgb(0.9701642765060011, 0.4585014668806449, 0.3408973774197841)",
           "rgb(0.9701642765060011, 0.4585014668806449, 0.3408973774197841)",
           "rgb(0.8836443049112893, 0.5240073524369634, 0.19569304285113343)",
           "rgb(0.8836443049112893, 0.5240073524369634, 0.19569304285113343)",
           "rgb(0.8836443049112893, 0.5240073524369634, 0.19569304285113343)",
           "rgb(0.8836443049112893, 0.5240073524369634, 0.19569304285113343)",
           "rgb(0.8836443049112893, 0.5240073524369634, 0.19569304285113343)",
           "rgb(0.8836443049112893, 0.5240073524369634, 0.19569304285113343)",
           "rgb(0.8836443049112893, 0.5240073524369634, 0.19569304285113343)",
           "rgb(0.8836443049112893, 0.5240073524369634, 0.19569304285113343)",
           "rgb(0.8836443049112893, 0.5240073524369634, 0.19569304285113343)",
           "rgb(0.8836443049112893, 0.5240073524369634, 0.19569304285113343)",
           "rgb(0.7874278248231019, 0.5733291349740255, 0.19484980195522167)",
           "rgb(0.710130687316902, 0.6046852192663268, 0.19426060163712158)",
           "rgb(0.6342819788155822, 0.6298701605165659, 0.1937564898893165)",
           "rgb(0.5432776721247529, 0.6540981095185215, 0.19324494273892204)",
           "rgb(0.398071759931172, 0.6817894790135043, 0.19262759057177736)",
           "rgb(0.19592059105779686, 0.6981620017487838, 0.3452219818913641)",
           "rgb(0.20230615957541276, 0.6892987428727776, 0.5014693473856283)",
           "rgb(0.2067117296964458, 0.6829103404254792, 0.5829988925822328)",
           "rgb(0.21044753832183283, 0.6773105080456748, 0.6433941168468681)",
           "rgb(0.21420912437215422, 0.6714963557258681, 0.6986206664203177)",
           "rgb(0.710130687316902, 0.6046852192663268, 0.19426060163712158)",
           "rgb(0.21871230574465955, 0.6642950526829915, 0.7592850013140204)",
           "rgb(0.7874278248231019, 0.5733291349740255, 0.19484980195522167)",
           "rgb(0.22537170008202412, 0.6531400148480775, 0.841007805313343)",
           "rgb(0.6342819788155822, 0.6298701605165659, 0.1937564898893165)",
           "rgb(0.30683927374239384, 0.626365255857867, 0.9586535068973675)",
           "rgb(0.5432776721247529, 0.6540981095185215, 0.19324494273892204)",
           "rgb(0.5596943802099308, 0.5764402169887779, 0.9583930713150347)",
           "rgb(0.7159805974423589, 0.5200441181332478, 0.9581315739457344)",
           "rgb(0.398071759931172, 0.6817894790135043, 0.19262759057177736)",
           "rgb(0.710130687316902, 0.6046852192663268, 0.19426060163712158)",
           "rgb(0.22537170008202412, 0.6531400148480775, 0.841007805313343)",
           "rgb(0.7874278248231019, 0.5733291349740255, 0.19484980195522167)",
           "rgb(0.30683927374239384, 0.626365255857867, 0.9586535068973675)",
           "rgb(0.21871230574465955, 0.6642950526829915, 0.7592850013140204)",
           "rgb(0.8578978803740231, 0.44058452715322166, 0.957819659566579)",
           "rgb(0.6342819788155822, 0.6298701605165659, 0.1937564898893165)",
           "rgb(0.9593600685274618, 0.37222734924885703, 0.9023513885514379)",
           "rgb(0.9628653850704806, 0.4025928454059796, 0.7779310354076443)",
           "rgb(0.9654130041094379, 0.42308759349350267, 0.6673571095222819)"
          ],
          "label": [
           "Accounting- College/CEGEP",
           "Accounting- College/CEGEP",
           "Accounting- College/CEGEP",
           "Accounting- College/CEGEP",
           "Accounting- College/CEGEP",
           "Accounting- College/CEGEP",
           "Accounting- College/CEGEP",
           "Accounting- College/CEGEP",
           "Accounting- College/CEGEP",
           "Accounting- College/CEGEP",
           "Accounting- Bachelor's degree",
           "Accounting- Bachelor's degree",
           "Accounting- Bachelor's degree",
           "Accounting- Bachelor's degree",
           "Accounting- Bachelor's degree",
           "Accounting- Bachelor's degree",
           "Accounting- Bachelor's degree",
           "Accounting- Bachelor's degree",
           "Accounting- Bachelor's degree",
           "Accounting- Bachelor's degree",
           "Accounting- Master's degree",
           "Accounting- Master's degree",
           "Accounting- Master's degree",
           "Accounting- Master's degree",
           "Accounting- Master's degree",
           "Accounting- Master's degree",
           "Accounting- Master's degree",
           "Accounting- Master's degree",
           "Accounting- Master's degree",
           "Accounting- Master's degree",
           "Accounting and related clerks",
           "Financial auditors and accountants",
           "Accounting technicians and bookkeepers",
           "Administrative officers",
           "Retail salespersons",
           "Administrative assistants",
           "Retail and wholesale trade managers",
           "General office support workers",
           "Other customer and information services representatives",
           "Customer services representatives - financial institutions",
           "Financial auditors and accountants",
           "Financial and investment analysts",
           "Accounting and related clerks",
           "Financial managers",
           "Accounting technicians and bookkeepers",
           "Other financial officers",
           "Administrative officers",
           "Professional occupations in business management consulting",
           "Financial sales representatives",
           "Retail salespersons",
           "Financial auditors and accountants",
           "Financial managers",
           "Accounting and related clerks",
           "Other financial officers",
           "Financial and investment analysts",
           "Senior managers - financial, communications and other business services",
           "Accounting technicians and bookkeepers",
           "Banking, credit and other investment managers",
           "Insurance, real estate and financial brokerage managers",
           "University professors and lecturers"
          ],
          "line": {
           "color": "black",
           "width": 0
          },
          "pad": 15,
          "thickness": 20
         },
         "type": "sankey"
        }
       ],
       "layout": {
        "autosize": false,
        "height": 800,
        "template": {
         "data": {
          "bar": [
           {
            "error_x": {
             "color": "#2a3f5f"
            },
            "error_y": {
             "color": "#2a3f5f"
            },
            "marker": {
             "line": {
              "color": "#E5ECF6",
              "width": 0.5
             }
            },
            "type": "bar"
           }
          ],
          "barpolar": [
           {
            "marker": {
             "line": {
              "color": "#E5ECF6",
              "width": 0.5
             }
            },
            "type": "barpolar"
           }
          ],
          "carpet": [
           {
            "aaxis": {
             "endlinecolor": "#2a3f5f",
             "gridcolor": "white",
             "linecolor": "white",
             "minorgridcolor": "white",
             "startlinecolor": "#2a3f5f"
            },
            "baxis": {
             "endlinecolor": "#2a3f5f",
             "gridcolor": "white",
             "linecolor": "white",
             "minorgridcolor": "white",
             "startlinecolor": "#2a3f5f"
            },
            "type": "carpet"
           }
          ],
          "choropleth": [
           {
            "colorbar": {
             "outlinewidth": 0,
             "ticks": ""
            },
            "type": "choropleth"
           }
          ],
          "contour": [
           {
            "colorbar": {
             "outlinewidth": 0,
             "ticks": ""
            },
            "colorscale": [
             [
              0,
              "#0d0887"
             ],
             [
              0.1111111111111111,
              "#46039f"
             ],
             [
              0.2222222222222222,
              "#7201a8"
             ],
             [
              0.3333333333333333,
              "#9c179e"
             ],
             [
              0.4444444444444444,
              "#bd3786"
             ],
             [
              0.5555555555555556,
              "#d8576b"
             ],
             [
              0.6666666666666666,
              "#ed7953"
             ],
             [
              0.7777777777777778,
              "#fb9f3a"
             ],
             [
              0.8888888888888888,
              "#fdca26"
             ],
             [
              1,
              "#f0f921"
             ]
            ],
            "type": "contour"
           }
          ],
          "contourcarpet": [
           {
            "colorbar": {
             "outlinewidth": 0,
             "ticks": ""
            },
            "type": "contourcarpet"
           }
          ],
          "heatmap": [
           {
            "colorbar": {
             "outlinewidth": 0,
             "ticks": ""
            },
            "colorscale": [
             [
              0,
              "#0d0887"
             ],
             [
              0.1111111111111111,
              "#46039f"
             ],
             [
              0.2222222222222222,
              "#7201a8"
             ],
             [
              0.3333333333333333,
              "#9c179e"
             ],
             [
              0.4444444444444444,
              "#bd3786"
             ],
             [
              0.5555555555555556,
              "#d8576b"
             ],
             [
              0.6666666666666666,
              "#ed7953"
             ],
             [
              0.7777777777777778,
              "#fb9f3a"
             ],
             [
              0.8888888888888888,
              "#fdca26"
             ],
             [
              1,
              "#f0f921"
             ]
            ],
            "type": "heatmap"
           }
          ],
          "heatmapgl": [
           {
            "colorbar": {
             "outlinewidth": 0,
             "ticks": ""
            },
            "colorscale": [
             [
              0,
              "#0d0887"
             ],
             [
              0.1111111111111111,
              "#46039f"
             ],
             [
              0.2222222222222222,
              "#7201a8"
             ],
             [
              0.3333333333333333,
              "#9c179e"
             ],
             [
              0.4444444444444444,
              "#bd3786"
             ],
             [
              0.5555555555555556,
              "#d8576b"
             ],
             [
              0.6666666666666666,
              "#ed7953"
             ],
             [
              0.7777777777777778,
              "#fb9f3a"
             ],
             [
              0.8888888888888888,
              "#fdca26"
             ],
             [
              1,
              "#f0f921"
             ]
            ],
            "type": "heatmapgl"
           }
          ],
          "histogram": [
           {
            "marker": {
             "colorbar": {
              "outlinewidth": 0,
              "ticks": ""
             }
            },
            "type": "histogram"
           }
          ],
          "histogram2d": [
           {
            "colorbar": {
             "outlinewidth": 0,
             "ticks": ""
            },
            "colorscale": [
             [
              0,
              "#0d0887"
             ],
             [
              0.1111111111111111,
              "#46039f"
             ],
             [
              0.2222222222222222,
              "#7201a8"
             ],
             [
              0.3333333333333333,
              "#9c179e"
             ],
             [
              0.4444444444444444,
              "#bd3786"
             ],
             [
              0.5555555555555556,
              "#d8576b"
             ],
             [
              0.6666666666666666,
              "#ed7953"
             ],
             [
              0.7777777777777778,
              "#fb9f3a"
             ],
             [
              0.8888888888888888,
              "#fdca26"
             ],
             [
              1,
              "#f0f921"
             ]
            ],
            "type": "histogram2d"
           }
          ],
          "histogram2dcontour": [
           {
            "colorbar": {
             "outlinewidth": 0,
             "ticks": ""
            },
            "colorscale": [
             [
              0,
              "#0d0887"
             ],
             [
              0.1111111111111111,
              "#46039f"
             ],
             [
              0.2222222222222222,
              "#7201a8"
             ],
             [
              0.3333333333333333,
              "#9c179e"
             ],
             [
              0.4444444444444444,
              "#bd3786"
             ],
             [
              0.5555555555555556,
              "#d8576b"
             ],
             [
              0.6666666666666666,
              "#ed7953"
             ],
             [
              0.7777777777777778,
              "#fb9f3a"
             ],
             [
              0.8888888888888888,
              "#fdca26"
             ],
             [
              1,
              "#f0f921"
             ]
            ],
            "type": "histogram2dcontour"
           }
          ],
          "mesh3d": [
           {
            "colorbar": {
             "outlinewidth": 0,
             "ticks": ""
            },
            "type": "mesh3d"
           }
          ],
          "parcoords": [
           {
            "line": {
             "colorbar": {
              "outlinewidth": 0,
              "ticks": ""
             }
            },
            "type": "parcoords"
           }
          ],
          "pie": [
           {
            "automargin": true,
            "type": "pie"
           }
          ],
          "scatter": [
           {
            "marker": {
             "colorbar": {
              "outlinewidth": 0,
              "ticks": ""
             }
            },
            "type": "scatter"
           }
          ],
          "scatter3d": [
           {
            "line": {
             "colorbar": {
              "outlinewidth": 0,
              "ticks": ""
             }
            },
            "marker": {
             "colorbar": {
              "outlinewidth": 0,
              "ticks": ""
             }
            },
            "type": "scatter3d"
           }
          ],
          "scattercarpet": [
           {
            "marker": {
             "colorbar": {
              "outlinewidth": 0,
              "ticks": ""
             }
            },
            "type": "scattercarpet"
           }
          ],
          "scattergeo": [
           {
            "marker": {
             "colorbar": {
              "outlinewidth": 0,
              "ticks": ""
             }
            },
            "type": "scattergeo"
           }
          ],
          "scattergl": [
           {
            "marker": {
             "colorbar": {
              "outlinewidth": 0,
              "ticks": ""
             }
            },
            "type": "scattergl"
           }
          ],
          "scattermapbox": [
           {
            "marker": {
             "colorbar": {
              "outlinewidth": 0,
              "ticks": ""
             }
            },
            "type": "scattermapbox"
           }
          ],
          "scatterpolar": [
           {
            "marker": {
             "colorbar": {
              "outlinewidth": 0,
              "ticks": ""
             }
            },
            "type": "scatterpolar"
           }
          ],
          "scatterpolargl": [
           {
            "marker": {
             "colorbar": {
              "outlinewidth": 0,
              "ticks": ""
             }
            },
            "type": "scatterpolargl"
           }
          ],
          "scatterternary": [
           {
            "marker": {
             "colorbar": {
              "outlinewidth": 0,
              "ticks": ""
             }
            },
            "type": "scatterternary"
           }
          ],
          "surface": [
           {
            "colorbar": {
             "outlinewidth": 0,
             "ticks": ""
            },
            "colorscale": [
             [
              0,
              "#0d0887"
             ],
             [
              0.1111111111111111,
              "#46039f"
             ],
             [
              0.2222222222222222,
              "#7201a8"
             ],
             [
              0.3333333333333333,
              "#9c179e"
             ],
             [
              0.4444444444444444,
              "#bd3786"
             ],
             [
              0.5555555555555556,
              "#d8576b"
             ],
             [
              0.6666666666666666,
              "#ed7953"
             ],
             [
              0.7777777777777778,
              "#fb9f3a"
             ],
             [
              0.8888888888888888,
              "#fdca26"
             ],
             [
              1,
              "#f0f921"
             ]
            ],
            "type": "surface"
           }
          ],
          "table": [
           {
            "cells": {
             "fill": {
              "color": "#EBF0F8"
             },
             "line": {
              "color": "white"
             }
            },
            "header": {
             "fill": {
              "color": "#C8D4E3"
             },
             "line": {
              "color": "white"
             }
            },
            "type": "table"
           }
          ]
         },
         "layout": {
          "annotationdefaults": {
           "arrowcolor": "#2a3f5f",
           "arrowhead": 0,
           "arrowwidth": 1
          },
          "coloraxis": {
           "colorbar": {
            "outlinewidth": 0,
            "ticks": ""
           }
          },
          "colorscale": {
           "diverging": [
            [
             0,
             "#8e0152"
            ],
            [
             0.1,
             "#c51b7d"
            ],
            [
             0.2,
             "#de77ae"
            ],
            [
             0.3,
             "#f1b6da"
            ],
            [
             0.4,
             "#fde0ef"
            ],
            [
             0.5,
             "#f7f7f7"
            ],
            [
             0.6,
             "#e6f5d0"
            ],
            [
             0.7,
             "#b8e186"
            ],
            [
             0.8,
             "#7fbc41"
            ],
            [
             0.9,
             "#4d9221"
            ],
            [
             1,
             "#276419"
            ]
           ],
           "sequential": [
            [
             0,
             "#0d0887"
            ],
            [
             0.1111111111111111,
             "#46039f"
            ],
            [
             0.2222222222222222,
             "#7201a8"
            ],
            [
             0.3333333333333333,
             "#9c179e"
            ],
            [
             0.4444444444444444,
             "#bd3786"
            ],
            [
             0.5555555555555556,
             "#d8576b"
            ],
            [
             0.6666666666666666,
             "#ed7953"
            ],
            [
             0.7777777777777778,
             "#fb9f3a"
            ],
            [
             0.8888888888888888,
             "#fdca26"
            ],
            [
             1,
             "#f0f921"
            ]
           ],
           "sequentialminus": [
            [
             0,
             "#0d0887"
            ],
            [
             0.1111111111111111,
             "#46039f"
            ],
            [
             0.2222222222222222,
             "#7201a8"
            ],
            [
             0.3333333333333333,
             "#9c179e"
            ],
            [
             0.4444444444444444,
             "#bd3786"
            ],
            [
             0.5555555555555556,
             "#d8576b"
            ],
            [
             0.6666666666666666,
             "#ed7953"
            ],
            [
             0.7777777777777778,
             "#fb9f3a"
            ],
            [
             0.8888888888888888,
             "#fdca26"
            ],
            [
             1,
             "#f0f921"
            ]
           ]
          },
          "colorway": [
           "#636efa",
           "#EF553B",
           "#00cc96",
           "#ab63fa",
           "#FFA15A",
           "#19d3f3",
           "#FF6692",
           "#B6E880",
           "#FF97FF",
           "#FECB52"
          ],
          "font": {
           "color": "#2a3f5f"
          },
          "geo": {
           "bgcolor": "white",
           "lakecolor": "white",
           "landcolor": "#E5ECF6",
           "showlakes": true,
           "showland": true,
           "subunitcolor": "white"
          },
          "hoverlabel": {
           "align": "left"
          },
          "hovermode": "closest",
          "mapbox": {
           "style": "light"
          },
          "paper_bgcolor": "white",
          "plot_bgcolor": "#E5ECF6",
          "polar": {
           "angularaxis": {
            "gridcolor": "white",
            "linecolor": "white",
            "ticks": ""
           },
           "bgcolor": "#E5ECF6",
           "radialaxis": {
            "gridcolor": "white",
            "linecolor": "white",
            "ticks": ""
           }
          },
          "scene": {
           "xaxis": {
            "backgroundcolor": "#E5ECF6",
            "gridcolor": "white",
            "gridwidth": 2,
            "linecolor": "white",
            "showbackground": true,
            "ticks": "",
            "zerolinecolor": "white"
           },
           "yaxis": {
            "backgroundcolor": "#E5ECF6",
            "gridcolor": "white",
            "gridwidth": 2,
            "linecolor": "white",
            "showbackground": true,
            "ticks": "",
            "zerolinecolor": "white"
           },
           "zaxis": {
            "backgroundcolor": "#E5ECF6",
            "gridcolor": "white",
            "gridwidth": 2,
            "linecolor": "white",
            "showbackground": true,
            "ticks": "",
            "zerolinecolor": "white"
           }
          },
          "shapedefaults": {
           "line": {
            "color": "#2a3f5f"
           }
          },
          "ternary": {
           "aaxis": {
            "gridcolor": "white",
            "linecolor": "white",
            "ticks": ""
           },
           "baxis": {
            "gridcolor": "white",
            "linecolor": "white",
            "ticks": ""
           },
           "bgcolor": "#E5ECF6",
           "caxis": {
            "gridcolor": "white",
            "linecolor": "white",
            "ticks": ""
           }
          },
          "title": {
           "x": 0.05
          },
          "xaxis": {
           "automargin": true,
           "gridcolor": "white",
           "linecolor": "white",
           "ticks": "",
           "title": {
            "standoff": 15
           },
           "zerolinecolor": "white",
           "zerolinewidth": 2
          },
          "yaxis": {
           "automargin": true,
           "gridcolor": "white",
           "linecolor": "white",
           "ticks": "",
           "title": {
            "standoff": 15
           },
           "zerolinecolor": "white",
           "zerolinewidth": 2
          }
         }
        },
        "width": 800
       }
      },
      "text/html": [
       "<div>\n",
       "        \n",
       "        \n",
       "            <div id=\"1a8fbb1e-8d48-461f-9b3f-ef54d46a9513\" class=\"plotly-graph-div\" style=\"height:800px; width:800px;\"></div>\n",
       "            <script type=\"text/javascript\">\n",
       "                require([\"plotly\"], function(Plotly) {\n",
       "                    window.PLOTLYENV=window.PLOTLYENV || {};\n",
       "                    \n",
       "                if (document.getElementById(\"1a8fbb1e-8d48-461f-9b3f-ef54d46a9513\")) {\n",
       "                    Plotly.newPlot(\n",
       "                        '1a8fbb1e-8d48-461f-9b3f-ef54d46a9513',\n",
       "                        [{\"link\": {\"color\": [\"rgb(0.9892979108619976, 0.8143144019489655, 0.8457322093861693)\", \"rgb(0.9892979108619976, 0.8143144019489655, 0.8457322093861693)\", \"rgb(0.9892979108619976, 0.8143144019489655, 0.8457322093861693)\", \"rgb(0.9892979108619976, 0.8143144019489655, 0.8457322093861693)\", \"rgb(0.9892979108619976, 0.8143144019489655, 0.8457322093861693)\", \"rgb(0.9892979108619976, 0.8143144019489655, 0.8457322093861693)\", \"rgb(0.9892979108619976, 0.8143144019489655, 0.8457322093861693)\", \"rgb(0.9892979108619976, 0.8143144019489655, 0.8457322093861693)\", \"rgb(0.9892979108619976, 0.8143144019489655, 0.8457322093861693)\", \"rgb(0.9892979108619976, 0.8143144019489655, 0.8457322093861693)\", \"rgb(0.9860620886972422, 0.7470361820885918, 0.6920968283277629)\", \"rgb(0.9860620886972422, 0.7470361820885918, 0.6920968283277629)\", \"rgb(0.9860620886972422, 0.7470361820885918, 0.6920968283277629)\", \"rgb(0.9860620886972422, 0.7470361820885918, 0.6920968283277629)\", \"rgb(0.9860620886972422, 0.7470361820885918, 0.6920968283277629)\", \"rgb(0.9860620886972422, 0.7470361820885918, 0.6920968283277629)\", \"rgb(0.9860620886972422, 0.7470361820885918, 0.6920968283277629)\", \"rgb(0.9860620886972422, 0.7470361820885918, 0.6920968283277629)\", \"rgb(0.9860620886972422, 0.7470361820885918, 0.6920968283277629)\", \"rgb(0.9860620886972422, 0.7470361820885918, 0.6920968283277629)\", \"rgb(0.9218389391435841, 0.6802555279738021, 0.459712865992317)\", \"rgb(0.9218389391435841, 0.6802555279738021, 0.459712865992317)\", \"rgb(0.9218389391435841, 0.6802555279738021, 0.459712865992317)\", \"rgb(0.9218389391435841, 0.6802555279738021, 0.459712865992317)\", \"rgb(0.9218389391435841, 0.6802555279738021, 0.459712865992317)\", \"rgb(0.9218389391435841, 0.6802555279738021, 0.459712865992317)\", \"rgb(0.9218389391435841, 0.6802555279738021, 0.459712865992317)\", \"rgb(0.9218389391435841, 0.6802555279738021, 0.459712865992317)\", \"rgb(0.9218389391435841, 0.6802555279738021, 0.459712865992317)\", \"rgb(0.9218389391435841, 0.6802555279738021, 0.459712865992317)\", \"rgb(0.8526771346199913, 0.6908004883716143, 0.4046382276562628)\", \"rgb(0.8190594242655747, 0.7208441220536663, 0.33856142559557556)\", \"rgb(0.7800192045897811, 0.7750102611516678, 0.2798700353524892)\", \"rgb(0.6715123587832604, 0.791233795213151, 0.2933653116763768)\", \"rgb(0.5202068754321152, 0.805978159781763, 0.3132756892873976)\", \"rgb(0.33190797179307086, 0.8125177469993525, 0.47477892261288485)\", \"rgb(0.33610465019608826, 0.8051496249375953, 0.6242424877786152)\", \"rgb(0.33884331466573414, 0.7998729350903298, 0.7031441000256389)\", \"rgb(0.34106757339548, 0.7952627259549299, 0.7622666190160563)\", \"rgb(0.36356428106007543, 0.7801479033853146, 0.8048578511542888)\", \"rgb(0.8190594242655747, 0.7208441220536663, 0.33856142559557556)\", \"rgb(0.4191504621620049, 0.7600192165556854, 0.8326860908731056)\", \"rgb(0.8526771346199913, 0.6908004883716143, 0.4046382276562628)\", \"rgb(0.47310980080875187, 0.764071198163659, 0.8918559660973181)\", \"rgb(0.7800192045897811, 0.7750102611516678, 0.2798700353524892)\", \"rgb(0.6412310456660177, 0.8066126060221991, 0.9785997135528768)\", \"rgb(0.6715123587832604, 0.791233795213151, 0.2933653116763768)\", \"rgb(0.9480600343918516, 0.9500354309057268, 0.9950919035601041)\", \"rgb(0.9412528964876012, 0.9007250292779261, 0.9913398565831715)\", \"rgb(0.5202068754321152, 0.805978159781763, 0.3132756892873976)\", \"rgb(0.8190594242655747, 0.7208441220536663, 0.33856142559557556)\", \"rgb(0.47310980080875187, 0.764071198163659, 0.8918559660973181)\", \"rgb(0.8526771346199913, 0.6908004883716143, 0.4046382276562628)\", \"rgb(0.6412310456660177, 0.8066126060221991, 0.9785997135528768)\", \"rgb(0.4191504621620049, 0.7600192165556854, 0.8326860908731056)\", \"rgb(0.9503861166602812, 0.8046843067414743, 0.9852730522598706)\", \"rgb(0.7800192045897811, 0.7750102611516678, 0.2798700353524892)\", \"rgb(0.9820292617731449, 0.7224026329805432, 0.9568203594106995)\", \"rgb(0.9852399789071714, 0.7625465561026977, 0.9117334969632271)\", \"rgb(0.9874027852883291, 0.7898779796434348, 0.8788453924440978)\"], \"source\": [0, 0, 0, 0, 0, 0, 0, 0, 0, 0, 10, 10, 10, 10, 10, 10, 10, 10, 10, 10, 20, 20, 20, 20, 20, 20, 20, 20, 20, 20], \"target\": [30, 31, 32, 33, 34, 35, 36, 37, 38, 39, 31, 41, 30, 43, 32, 45, 33, 47, 48, 34, 31, 43, 30, 45, 41, 55, 32, 57, 58, 59], \"value\": [1199.0, 1123.0, 1046.0, 392.0, 325.0, 306.0, 263.0, 252.99999999999997, 248.0, 204.99999999999997, 4695.0, 735.0, 705.0, 544.0, 366.0, 241.0, 129.0, 119.0, 119.0, 102.0, 5091.0, 1182.0, 545.0, 364.0, 341.0, 159.0, 159.0, 136.0, 113.99999999999999, 113.99999999999999]}, \"node\": {\"color\": [\"rgb(0.9677975592919913, 0.44127456009157356, 0.5358103155058701)\", \"rgb(0.9677975592919913, 0.44127456009157356, 0.5358103155058701)\", \"rgb(0.9677975592919913, 0.44127456009157356, 0.5358103155058701)\", \"rgb(0.9677975592919913, 0.44127456009157356, 0.5358103155058701)\", \"rgb(0.9677975592919913, 0.44127456009157356, 0.5358103155058701)\", \"rgb(0.9677975592919913, 0.44127456009157356, 0.5358103155058701)\", \"rgb(0.9677975592919913, 0.44127456009157356, 0.5358103155058701)\", \"rgb(0.9677975592919913, 0.44127456009157356, 0.5358103155058701)\", \"rgb(0.9677975592919913, 0.44127456009157356, 0.5358103155058701)\", \"rgb(0.9677975592919913, 0.44127456009157356, 0.5358103155058701)\", \"rgb(0.9701642765060011, 0.4585014668806449, 0.3408973774197841)\", \"rgb(0.9701642765060011, 0.4585014668806449, 0.3408973774197841)\", \"rgb(0.9701642765060011, 0.4585014668806449, 0.3408973774197841)\", \"rgb(0.9701642765060011, 0.4585014668806449, 0.3408973774197841)\", \"rgb(0.9701642765060011, 0.4585014668806449, 0.3408973774197841)\", \"rgb(0.9701642765060011, 0.4585014668806449, 0.3408973774197841)\", \"rgb(0.9701642765060011, 0.4585014668806449, 0.3408973774197841)\", \"rgb(0.9701642765060011, 0.4585014668806449, 0.3408973774197841)\", \"rgb(0.9701642765060011, 0.4585014668806449, 0.3408973774197841)\", \"rgb(0.9701642765060011, 0.4585014668806449, 0.3408973774197841)\", \"rgb(0.8836443049112893, 0.5240073524369634, 0.19569304285113343)\", \"rgb(0.8836443049112893, 0.5240073524369634, 0.19569304285113343)\", \"rgb(0.8836443049112893, 0.5240073524369634, 0.19569304285113343)\", \"rgb(0.8836443049112893, 0.5240073524369634, 0.19569304285113343)\", \"rgb(0.8836443049112893, 0.5240073524369634, 0.19569304285113343)\", \"rgb(0.8836443049112893, 0.5240073524369634, 0.19569304285113343)\", \"rgb(0.8836443049112893, 0.5240073524369634, 0.19569304285113343)\", \"rgb(0.8836443049112893, 0.5240073524369634, 0.19569304285113343)\", \"rgb(0.8836443049112893, 0.5240073524369634, 0.19569304285113343)\", \"rgb(0.8836443049112893, 0.5240073524369634, 0.19569304285113343)\", \"rgb(0.7874278248231019, 0.5733291349740255, 0.19484980195522167)\", \"rgb(0.710130687316902, 0.6046852192663268, 0.19426060163712158)\", \"rgb(0.6342819788155822, 0.6298701605165659, 0.1937564898893165)\", \"rgb(0.5432776721247529, 0.6540981095185215, 0.19324494273892204)\", \"rgb(0.398071759931172, 0.6817894790135043, 0.19262759057177736)\", \"rgb(0.19592059105779686, 0.6981620017487838, 0.3452219818913641)\", \"rgb(0.20230615957541276, 0.6892987428727776, 0.5014693473856283)\", \"rgb(0.2067117296964458, 0.6829103404254792, 0.5829988925822328)\", \"rgb(0.21044753832183283, 0.6773105080456748, 0.6433941168468681)\", \"rgb(0.21420912437215422, 0.6714963557258681, 0.6986206664203177)\", \"rgb(0.710130687316902, 0.6046852192663268, 0.19426060163712158)\", \"rgb(0.21871230574465955, 0.6642950526829915, 0.7592850013140204)\", \"rgb(0.7874278248231019, 0.5733291349740255, 0.19484980195522167)\", \"rgb(0.22537170008202412, 0.6531400148480775, 0.841007805313343)\", \"rgb(0.6342819788155822, 0.6298701605165659, 0.1937564898893165)\", \"rgb(0.30683927374239384, 0.626365255857867, 0.9586535068973675)\", \"rgb(0.5432776721247529, 0.6540981095185215, 0.19324494273892204)\", \"rgb(0.5596943802099308, 0.5764402169887779, 0.9583930713150347)\", \"rgb(0.7159805974423589, 0.5200441181332478, 0.9581315739457344)\", \"rgb(0.398071759931172, 0.6817894790135043, 0.19262759057177736)\", \"rgb(0.710130687316902, 0.6046852192663268, 0.19426060163712158)\", \"rgb(0.22537170008202412, 0.6531400148480775, 0.841007805313343)\", \"rgb(0.7874278248231019, 0.5733291349740255, 0.19484980195522167)\", \"rgb(0.30683927374239384, 0.626365255857867, 0.9586535068973675)\", \"rgb(0.21871230574465955, 0.6642950526829915, 0.7592850013140204)\", \"rgb(0.8578978803740231, 0.44058452715322166, 0.957819659566579)\", \"rgb(0.6342819788155822, 0.6298701605165659, 0.1937564898893165)\", \"rgb(0.9593600685274618, 0.37222734924885703, 0.9023513885514379)\", \"rgb(0.9628653850704806, 0.4025928454059796, 0.7779310354076443)\", \"rgb(0.9654130041094379, 0.42308759349350267, 0.6673571095222819)\"], \"label\": [\"Accounting- College/CEGEP\", \"Accounting- College/CEGEP\", \"Accounting- College/CEGEP\", \"Accounting- College/CEGEP\", \"Accounting- College/CEGEP\", \"Accounting- College/CEGEP\", \"Accounting- College/CEGEP\", \"Accounting- College/CEGEP\", \"Accounting- College/CEGEP\", \"Accounting- College/CEGEP\", \"Accounting- Bachelor's degree\", \"Accounting- Bachelor's degree\", \"Accounting- Bachelor's degree\", \"Accounting- Bachelor's degree\", \"Accounting- Bachelor's degree\", \"Accounting- Bachelor's degree\", \"Accounting- Bachelor's degree\", \"Accounting- Bachelor's degree\", \"Accounting- Bachelor's degree\", \"Accounting- Bachelor's degree\", \"Accounting- Master's degree\", \"Accounting- Master's degree\", \"Accounting- Master's degree\", \"Accounting- Master's degree\", \"Accounting- Master's degree\", \"Accounting- Master's degree\", \"Accounting- Master's degree\", \"Accounting- Master's degree\", \"Accounting- Master's degree\", \"Accounting- Master's degree\", \"Accounting and related clerks\", \"Financial auditors and accountants\", \"Accounting technicians and bookkeepers\", \"Administrative officers\", \"Retail salespersons\", \"Administrative assistants\", \"Retail and wholesale trade managers\", \"General office support workers\", \"Other customer and information services representatives\", \"Customer services representatives - financial institutions\", \"Financial auditors and accountants\", \"Financial and investment analysts\", \"Accounting and related clerks\", \"Financial managers\", \"Accounting technicians and bookkeepers\", \"Other financial officers\", \"Administrative officers\", \"Professional occupations in business management consulting\", \"Financial sales representatives\", \"Retail salespersons\", \"Financial auditors and accountants\", \"Financial managers\", \"Accounting and related clerks\", \"Other financial officers\", \"Financial and investment analysts\", \"Senior managers - financial, communications and other business services\", \"Accounting technicians and bookkeepers\", \"Banking, credit and other investment managers\", \"Insurance, real estate and financial brokerage managers\", \"University professors and lecturers\"], \"line\": {\"color\": \"black\", \"width\": 0}, \"pad\": 15, \"thickness\": 20}, \"type\": \"sankey\"}],\n",
       "                        {\"autosize\": false, \"height\": 800, \"template\": {\"data\": {\"bar\": [{\"error_x\": {\"color\": \"#2a3f5f\"}, \"error_y\": {\"color\": \"#2a3f5f\"}, \"marker\": {\"line\": {\"color\": \"#E5ECF6\", \"width\": 0.5}}, \"type\": \"bar\"}], \"barpolar\": [{\"marker\": {\"line\": {\"color\": \"#E5ECF6\", \"width\": 0.5}}, \"type\": \"barpolar\"}], \"carpet\": [{\"aaxis\": {\"endlinecolor\": \"#2a3f5f\", \"gridcolor\": \"white\", \"linecolor\": \"white\", \"minorgridcolor\": \"white\", \"startlinecolor\": \"#2a3f5f\"}, \"baxis\": {\"endlinecolor\": \"#2a3f5f\", \"gridcolor\": \"white\", \"linecolor\": \"white\", \"minorgridcolor\": \"white\", \"startlinecolor\": \"#2a3f5f\"}, \"type\": \"carpet\"}], \"choropleth\": [{\"colorbar\": {\"outlinewidth\": 0, \"ticks\": \"\"}, \"type\": \"choropleth\"}], \"contour\": [{\"colorbar\": {\"outlinewidth\": 0, \"ticks\": \"\"}, \"colorscale\": [[0.0, \"#0d0887\"], [0.1111111111111111, \"#46039f\"], [0.2222222222222222, \"#7201a8\"], [0.3333333333333333, \"#9c179e\"], [0.4444444444444444, \"#bd3786\"], [0.5555555555555556, \"#d8576b\"], [0.6666666666666666, \"#ed7953\"], [0.7777777777777778, \"#fb9f3a\"], [0.8888888888888888, \"#fdca26\"], [1.0, \"#f0f921\"]], \"type\": \"contour\"}], \"contourcarpet\": [{\"colorbar\": {\"outlinewidth\": 0, \"ticks\": \"\"}, \"type\": \"contourcarpet\"}], \"heatmap\": [{\"colorbar\": {\"outlinewidth\": 0, \"ticks\": \"\"}, \"colorscale\": [[0.0, \"#0d0887\"], [0.1111111111111111, \"#46039f\"], [0.2222222222222222, \"#7201a8\"], [0.3333333333333333, \"#9c179e\"], [0.4444444444444444, \"#bd3786\"], [0.5555555555555556, \"#d8576b\"], [0.6666666666666666, \"#ed7953\"], [0.7777777777777778, \"#fb9f3a\"], [0.8888888888888888, \"#fdca26\"], [1.0, \"#f0f921\"]], \"type\": \"heatmap\"}], \"heatmapgl\": [{\"colorbar\": {\"outlinewidth\": 0, \"ticks\": \"\"}, \"colorscale\": [[0.0, \"#0d0887\"], [0.1111111111111111, \"#46039f\"], [0.2222222222222222, \"#7201a8\"], [0.3333333333333333, \"#9c179e\"], [0.4444444444444444, \"#bd3786\"], [0.5555555555555556, \"#d8576b\"], [0.6666666666666666, \"#ed7953\"], [0.7777777777777778, \"#fb9f3a\"], [0.8888888888888888, \"#fdca26\"], [1.0, \"#f0f921\"]], \"type\": \"heatmapgl\"}], \"histogram\": [{\"marker\": {\"colorbar\": {\"outlinewidth\": 0, \"ticks\": \"\"}}, \"type\": \"histogram\"}], \"histogram2d\": [{\"colorbar\": {\"outlinewidth\": 0, \"ticks\": \"\"}, \"colorscale\": [[0.0, \"#0d0887\"], [0.1111111111111111, \"#46039f\"], [0.2222222222222222, \"#7201a8\"], [0.3333333333333333, \"#9c179e\"], [0.4444444444444444, \"#bd3786\"], [0.5555555555555556, \"#d8576b\"], [0.6666666666666666, \"#ed7953\"], [0.7777777777777778, \"#fb9f3a\"], [0.8888888888888888, \"#fdca26\"], [1.0, \"#f0f921\"]], \"type\": \"histogram2d\"}], \"histogram2dcontour\": [{\"colorbar\": {\"outlinewidth\": 0, \"ticks\": \"\"}, \"colorscale\": [[0.0, \"#0d0887\"], [0.1111111111111111, \"#46039f\"], [0.2222222222222222, \"#7201a8\"], [0.3333333333333333, \"#9c179e\"], [0.4444444444444444, \"#bd3786\"], [0.5555555555555556, \"#d8576b\"], [0.6666666666666666, \"#ed7953\"], [0.7777777777777778, \"#fb9f3a\"], [0.8888888888888888, \"#fdca26\"], [1.0, \"#f0f921\"]], \"type\": \"histogram2dcontour\"}], \"mesh3d\": [{\"colorbar\": {\"outlinewidth\": 0, \"ticks\": \"\"}, \"type\": \"mesh3d\"}], \"parcoords\": [{\"line\": {\"colorbar\": {\"outlinewidth\": 0, \"ticks\": \"\"}}, \"type\": \"parcoords\"}], \"pie\": [{\"automargin\": true, \"type\": \"pie\"}], \"scatter\": [{\"marker\": {\"colorbar\": {\"outlinewidth\": 0, \"ticks\": \"\"}}, \"type\": \"scatter\"}], \"scatter3d\": [{\"line\": {\"colorbar\": {\"outlinewidth\": 0, \"ticks\": \"\"}}, \"marker\": {\"colorbar\": {\"outlinewidth\": 0, \"ticks\": \"\"}}, \"type\": \"scatter3d\"}], \"scattercarpet\": [{\"marker\": {\"colorbar\": {\"outlinewidth\": 0, \"ticks\": \"\"}}, \"type\": \"scattercarpet\"}], \"scattergeo\": [{\"marker\": {\"colorbar\": {\"outlinewidth\": 0, \"ticks\": \"\"}}, \"type\": \"scattergeo\"}], \"scattergl\": [{\"marker\": {\"colorbar\": {\"outlinewidth\": 0, \"ticks\": \"\"}}, \"type\": \"scattergl\"}], \"scattermapbox\": [{\"marker\": {\"colorbar\": {\"outlinewidth\": 0, \"ticks\": \"\"}}, \"type\": \"scattermapbox\"}], \"scatterpolar\": [{\"marker\": {\"colorbar\": {\"outlinewidth\": 0, \"ticks\": \"\"}}, \"type\": \"scatterpolar\"}], \"scatterpolargl\": [{\"marker\": {\"colorbar\": {\"outlinewidth\": 0, \"ticks\": \"\"}}, \"type\": \"scatterpolargl\"}], \"scatterternary\": [{\"marker\": {\"colorbar\": {\"outlinewidth\": 0, \"ticks\": \"\"}}, \"type\": \"scatterternary\"}], \"surface\": [{\"colorbar\": {\"outlinewidth\": 0, \"ticks\": \"\"}, \"colorscale\": [[0.0, \"#0d0887\"], [0.1111111111111111, \"#46039f\"], [0.2222222222222222, \"#7201a8\"], [0.3333333333333333, \"#9c179e\"], [0.4444444444444444, \"#bd3786\"], [0.5555555555555556, \"#d8576b\"], [0.6666666666666666, \"#ed7953\"], [0.7777777777777778, \"#fb9f3a\"], [0.8888888888888888, \"#fdca26\"], [1.0, \"#f0f921\"]], \"type\": \"surface\"}], \"table\": [{\"cells\": {\"fill\": {\"color\": \"#EBF0F8\"}, \"line\": {\"color\": \"white\"}}, \"header\": {\"fill\": {\"color\": \"#C8D4E3\"}, \"line\": {\"color\": \"white\"}}, \"type\": \"table\"}]}, \"layout\": {\"annotationdefaults\": {\"arrowcolor\": \"#2a3f5f\", \"arrowhead\": 0, \"arrowwidth\": 1}, \"coloraxis\": {\"colorbar\": {\"outlinewidth\": 0, \"ticks\": \"\"}}, \"colorscale\": {\"diverging\": [[0, \"#8e0152\"], [0.1, \"#c51b7d\"], [0.2, \"#de77ae\"], [0.3, \"#f1b6da\"], [0.4, \"#fde0ef\"], [0.5, \"#f7f7f7\"], [0.6, \"#e6f5d0\"], [0.7, \"#b8e186\"], [0.8, \"#7fbc41\"], [0.9, \"#4d9221\"], [1, \"#276419\"]], \"sequential\": [[0.0, \"#0d0887\"], [0.1111111111111111, \"#46039f\"], [0.2222222222222222, \"#7201a8\"], [0.3333333333333333, \"#9c179e\"], [0.4444444444444444, \"#bd3786\"], [0.5555555555555556, \"#d8576b\"], [0.6666666666666666, \"#ed7953\"], [0.7777777777777778, \"#fb9f3a\"], [0.8888888888888888, \"#fdca26\"], [1.0, \"#f0f921\"]], \"sequentialminus\": [[0.0, \"#0d0887\"], [0.1111111111111111, \"#46039f\"], [0.2222222222222222, \"#7201a8\"], [0.3333333333333333, \"#9c179e\"], [0.4444444444444444, \"#bd3786\"], [0.5555555555555556, \"#d8576b\"], [0.6666666666666666, \"#ed7953\"], [0.7777777777777778, \"#fb9f3a\"], [0.8888888888888888, \"#fdca26\"], [1.0, \"#f0f921\"]]}, \"colorway\": [\"#636efa\", \"#EF553B\", \"#00cc96\", \"#ab63fa\", \"#FFA15A\", \"#19d3f3\", \"#FF6692\", \"#B6E880\", \"#FF97FF\", \"#FECB52\"], \"font\": {\"color\": \"#2a3f5f\"}, \"geo\": {\"bgcolor\": \"white\", \"lakecolor\": \"white\", \"landcolor\": \"#E5ECF6\", \"showlakes\": true, \"showland\": true, \"subunitcolor\": \"white\"}, \"hoverlabel\": {\"align\": \"left\"}, \"hovermode\": \"closest\", \"mapbox\": {\"style\": \"light\"}, \"paper_bgcolor\": \"white\", \"plot_bgcolor\": \"#E5ECF6\", \"polar\": {\"angularaxis\": {\"gridcolor\": \"white\", \"linecolor\": \"white\", \"ticks\": \"\"}, \"bgcolor\": \"#E5ECF6\", \"radialaxis\": {\"gridcolor\": \"white\", \"linecolor\": \"white\", \"ticks\": \"\"}}, \"scene\": {\"xaxis\": {\"backgroundcolor\": \"#E5ECF6\", \"gridcolor\": \"white\", \"gridwidth\": 2, \"linecolor\": \"white\", \"showbackground\": true, \"ticks\": \"\", \"zerolinecolor\": \"white\"}, \"yaxis\": {\"backgroundcolor\": \"#E5ECF6\", \"gridcolor\": \"white\", \"gridwidth\": 2, \"linecolor\": \"white\", \"showbackground\": true, \"ticks\": \"\", \"zerolinecolor\": \"white\"}, \"zaxis\": {\"backgroundcolor\": \"#E5ECF6\", \"gridcolor\": \"white\", \"gridwidth\": 2, \"linecolor\": \"white\", \"showbackground\": true, \"ticks\": \"\", \"zerolinecolor\": \"white\"}}, \"shapedefaults\": {\"line\": {\"color\": \"#2a3f5f\"}}, \"ternary\": {\"aaxis\": {\"gridcolor\": \"white\", \"linecolor\": \"white\", \"ticks\": \"\"}, \"baxis\": {\"gridcolor\": \"white\", \"linecolor\": \"white\", \"ticks\": \"\"}, \"bgcolor\": \"#E5ECF6\", \"caxis\": {\"gridcolor\": \"white\", \"linecolor\": \"white\", \"ticks\": \"\"}}, \"title\": {\"x\": 0.05}, \"xaxis\": {\"automargin\": true, \"gridcolor\": \"white\", \"linecolor\": \"white\", \"ticks\": \"\", \"title\": {\"standoff\": 15}, \"zerolinecolor\": \"white\", \"zerolinewidth\": 2}, \"yaxis\": {\"automargin\": true, \"gridcolor\": \"white\", \"linecolor\": \"white\", \"ticks\": \"\", \"title\": {\"standoff\": 15}, \"zerolinecolor\": \"white\", \"zerolinewidth\": 2}}}, \"width\": 800},\n",
       "                        {\"responsive\": true}\n",
       "                    ).then(function(){\n",
       "                            \n",
       "var gd = document.getElementById('1a8fbb1e-8d48-461f-9b3f-ef54d46a9513');\n",
       "var x = new MutationObserver(function (mutations, observer) {{\n",
       "        var display = window.getComputedStyle(gd).display;\n",
       "        if (!display || display === 'none') {{\n",
       "            console.log([gd, 'removed!']);\n",
       "            Plotly.purge(gd);\n",
       "            observer.disconnect();\n",
       "        }}\n",
       "}});\n",
       "\n",
       "// Listen for the removal of the full notebook cells\n",
       "var notebookContainer = gd.closest('#notebook-container');\n",
       "if (notebookContainer) {{\n",
       "    x.observe(notebookContainer, {childList: true});\n",
       "}}\n",
       "\n",
       "// Listen for the clearing of the current output cell\n",
       "var outputEl = gd.closest('.output');\n",
       "if (outputEl) {{\n",
       "    x.observe(outputEl, {childList: true});\n",
       "}}\n",
       "\n",
       "                        })\n",
       "                };\n",
       "                });\n",
       "            </script>\n",
       "        </div>"
      ]
     },
     "metadata": {},
     "output_type": "display_data"
    }
   ],
   "source": [
    "fig = build_sankey(job_name_df,'Accounting')\n",
    "\n",
    "fig.show()"
   ]
  },
  {
   "cell_type": "code",
   "execution_count": 82,
   "metadata": {},
   "outputs": [
    {
     "data": {
      "text/html": [
       "<div>\n",
       "<style scoped>\n",
       "    .dataframe tbody tr th:only-of-type {\n",
       "        vertical-align: middle;\n",
       "    }\n",
       "\n",
       "    .dataframe tbody tr th {\n",
       "        vertical-align: top;\n",
       "    }\n",
       "\n",
       "    .dataframe thead th {\n",
       "        text-align: right;\n",
       "    }\n",
       "</style>\n",
       "<table border=\"1\" class=\"dataframe\">\n",
       "  <thead>\n",
       "    <tr style=\"text-align: right;\">\n",
       "      <th></th>\n",
       "      <th>degree</th>\n",
       "      <th>education-groups</th>\n",
       "      <th>top-jobs</th>\n",
       "      <th>job-percent</th>\n",
       "      <th>identifier</th>\n",
       "    </tr>\n",
       "  </thead>\n",
       "  <tbody>\n",
       "    <tr>\n",
       "      <th>0</th>\n",
       "      <td>College/CEGEP</td>\n",
       "      <td>Accounting</td>\n",
       "      <td>Accounting and related clerks</td>\n",
       "      <td>11.99%</td>\n",
       "      <td>Accounting : College/CEGEP</td>\n",
       "    </tr>\n",
       "    <tr>\n",
       "      <th>1</th>\n",
       "      <td>College/CEGEP</td>\n",
       "      <td>Accounting</td>\n",
       "      <td>Financial auditors and accountants</td>\n",
       "      <td>11.23%</td>\n",
       "      <td>Accounting : College/CEGEP</td>\n",
       "    </tr>\n",
       "    <tr>\n",
       "      <th>2</th>\n",
       "      <td>College/CEGEP</td>\n",
       "      <td>Accounting</td>\n",
       "      <td>Accounting technicians and bookkeepers</td>\n",
       "      <td>10.46%</td>\n",
       "      <td>Accounting : College/CEGEP</td>\n",
       "    </tr>\n",
       "    <tr>\n",
       "      <th>3</th>\n",
       "      <td>College/CEGEP</td>\n",
       "      <td>Accounting</td>\n",
       "      <td>Administrative officers</td>\n",
       "      <td>3.92%</td>\n",
       "      <td>Accounting : College/CEGEP</td>\n",
       "    </tr>\n",
       "    <tr>\n",
       "      <th>4</th>\n",
       "      <td>College/CEGEP</td>\n",
       "      <td>Accounting</td>\n",
       "      <td>Retail salespersons</td>\n",
       "      <td>3.25%</td>\n",
       "      <td>Accounting : College/CEGEP</td>\n",
       "    </tr>\n",
       "    <tr>\n",
       "      <th>5</th>\n",
       "      <td>College/CEGEP</td>\n",
       "      <td>Accounting</td>\n",
       "      <td>Administrative assistants</td>\n",
       "      <td>3.06%</td>\n",
       "      <td>Accounting : College/CEGEP</td>\n",
       "    </tr>\n",
       "    <tr>\n",
       "      <th>6</th>\n",
       "      <td>College/CEGEP</td>\n",
       "      <td>Accounting</td>\n",
       "      <td>Retail and wholesale trade managers</td>\n",
       "      <td>2.63%</td>\n",
       "      <td>Accounting : College/CEGEP</td>\n",
       "    </tr>\n",
       "    <tr>\n",
       "      <th>7</th>\n",
       "      <td>College/CEGEP</td>\n",
       "      <td>Accounting</td>\n",
       "      <td>General office support workers</td>\n",
       "      <td>2.53%</td>\n",
       "      <td>Accounting : College/CEGEP</td>\n",
       "    </tr>\n",
       "    <tr>\n",
       "      <th>8</th>\n",
       "      <td>College/CEGEP</td>\n",
       "      <td>Accounting</td>\n",
       "      <td>Other customer and information services repres...</td>\n",
       "      <td>2.48%</td>\n",
       "      <td>Accounting : College/CEGEP</td>\n",
       "    </tr>\n",
       "    <tr>\n",
       "      <th>9</th>\n",
       "      <td>College/CEGEP</td>\n",
       "      <td>Accounting</td>\n",
       "      <td>Customer services representatives - financial ...</td>\n",
       "      <td>2.05%</td>\n",
       "      <td>Accounting : College/CEGEP</td>\n",
       "    </tr>\n",
       "    <tr>\n",
       "      <th>10</th>\n",
       "      <td>Bachelor's degree</td>\n",
       "      <td>Accounting</td>\n",
       "      <td>Financial auditors and accountants</td>\n",
       "      <td>46.95%</td>\n",
       "      <td>Accounting : Bachelor's degree</td>\n",
       "    </tr>\n",
       "    <tr>\n",
       "      <th>11</th>\n",
       "      <td>Bachelor's degree</td>\n",
       "      <td>Accounting</td>\n",
       "      <td>Financial and investment analysts</td>\n",
       "      <td>7.35%</td>\n",
       "      <td>Accounting : Bachelor's degree</td>\n",
       "    </tr>\n",
       "    <tr>\n",
       "      <th>12</th>\n",
       "      <td>Bachelor's degree</td>\n",
       "      <td>Accounting</td>\n",
       "      <td>Accounting and related clerks</td>\n",
       "      <td>7.05%</td>\n",
       "      <td>Accounting : Bachelor's degree</td>\n",
       "    </tr>\n",
       "    <tr>\n",
       "      <th>13</th>\n",
       "      <td>Bachelor's degree</td>\n",
       "      <td>Accounting</td>\n",
       "      <td>Financial managers</td>\n",
       "      <td>5.44%</td>\n",
       "      <td>Accounting : Bachelor's degree</td>\n",
       "    </tr>\n",
       "    <tr>\n",
       "      <th>14</th>\n",
       "      <td>Bachelor's degree</td>\n",
       "      <td>Accounting</td>\n",
       "      <td>Accounting technicians and bookkeepers</td>\n",
       "      <td>3.66%</td>\n",
       "      <td>Accounting : Bachelor's degree</td>\n",
       "    </tr>\n",
       "    <tr>\n",
       "      <th>15</th>\n",
       "      <td>Bachelor's degree</td>\n",
       "      <td>Accounting</td>\n",
       "      <td>Other financial officers</td>\n",
       "      <td>2.41%</td>\n",
       "      <td>Accounting : Bachelor's degree</td>\n",
       "    </tr>\n",
       "    <tr>\n",
       "      <th>16</th>\n",
       "      <td>Bachelor's degree</td>\n",
       "      <td>Accounting</td>\n",
       "      <td>Administrative officers</td>\n",
       "      <td>1.29%</td>\n",
       "      <td>Accounting : Bachelor's degree</td>\n",
       "    </tr>\n",
       "    <tr>\n",
       "      <th>17</th>\n",
       "      <td>Bachelor's degree</td>\n",
       "      <td>Accounting</td>\n",
       "      <td>Professional occupations in business managemen...</td>\n",
       "      <td>1.19%</td>\n",
       "      <td>Accounting : Bachelor's degree</td>\n",
       "    </tr>\n",
       "    <tr>\n",
       "      <th>18</th>\n",
       "      <td>Bachelor's degree</td>\n",
       "      <td>Accounting</td>\n",
       "      <td>Financial sales representatives</td>\n",
       "      <td>1.19%</td>\n",
       "      <td>Accounting : Bachelor's degree</td>\n",
       "    </tr>\n",
       "    <tr>\n",
       "      <th>19</th>\n",
       "      <td>Bachelor's degree</td>\n",
       "      <td>Accounting</td>\n",
       "      <td>Retail salespersons</td>\n",
       "      <td>1.02%</td>\n",
       "      <td>Accounting : Bachelor's degree</td>\n",
       "    </tr>\n",
       "    <tr>\n",
       "      <th>20</th>\n",
       "      <td>Master's degree</td>\n",
       "      <td>Accounting</td>\n",
       "      <td>Financial auditors and accountants</td>\n",
       "      <td>50.91%</td>\n",
       "      <td>Accounting : Master's degree</td>\n",
       "    </tr>\n",
       "    <tr>\n",
       "      <th>21</th>\n",
       "      <td>Master's degree</td>\n",
       "      <td>Accounting</td>\n",
       "      <td>Financial managers</td>\n",
       "      <td>11.82%</td>\n",
       "      <td>Accounting : Master's degree</td>\n",
       "    </tr>\n",
       "    <tr>\n",
       "      <th>22</th>\n",
       "      <td>Master's degree</td>\n",
       "      <td>Accounting</td>\n",
       "      <td>Accounting and related clerks</td>\n",
       "      <td>5.45%</td>\n",
       "      <td>Accounting : Master's degree</td>\n",
       "    </tr>\n",
       "    <tr>\n",
       "      <th>23</th>\n",
       "      <td>Master's degree</td>\n",
       "      <td>Accounting</td>\n",
       "      <td>Other financial officers</td>\n",
       "      <td>3.64%</td>\n",
       "      <td>Accounting : Master's degree</td>\n",
       "    </tr>\n",
       "    <tr>\n",
       "      <th>24</th>\n",
       "      <td>Master's degree</td>\n",
       "      <td>Accounting</td>\n",
       "      <td>Financial and investment analysts</td>\n",
       "      <td>3.41%</td>\n",
       "      <td>Accounting : Master's degree</td>\n",
       "    </tr>\n",
       "    <tr>\n",
       "      <th>25</th>\n",
       "      <td>Master's degree</td>\n",
       "      <td>Accounting</td>\n",
       "      <td>Senior managers - financial, communications an...</td>\n",
       "      <td>1.59%</td>\n",
       "      <td>Accounting : Master's degree</td>\n",
       "    </tr>\n",
       "    <tr>\n",
       "      <th>26</th>\n",
       "      <td>Master's degree</td>\n",
       "      <td>Accounting</td>\n",
       "      <td>Accounting technicians and bookkeepers</td>\n",
       "      <td>1.59%</td>\n",
       "      <td>Accounting : Master's degree</td>\n",
       "    </tr>\n",
       "    <tr>\n",
       "      <th>27</th>\n",
       "      <td>Master's degree</td>\n",
       "      <td>Accounting</td>\n",
       "      <td>Banking, credit and other investment managers</td>\n",
       "      <td>1.36%</td>\n",
       "      <td>Accounting : Master's degree</td>\n",
       "    </tr>\n",
       "    <tr>\n",
       "      <th>28</th>\n",
       "      <td>Master's degree</td>\n",
       "      <td>Accounting</td>\n",
       "      <td>Insurance, real estate and financial brokerage...</td>\n",
       "      <td>1.14%</td>\n",
       "      <td>Accounting : Master's degree</td>\n",
       "    </tr>\n",
       "    <tr>\n",
       "      <th>29</th>\n",
       "      <td>Master's degree</td>\n",
       "      <td>Accounting</td>\n",
       "      <td>University professors and lecturers</td>\n",
       "      <td>1.14%</td>\n",
       "      <td>Accounting : Master's degree</td>\n",
       "    </tr>\n",
       "  </tbody>\n",
       "</table>\n",
       "</div>"
      ],
      "text/plain": [
       "               degree education-groups  \\\n",
       "0       College/CEGEP       Accounting   \n",
       "1       College/CEGEP       Accounting   \n",
       "2       College/CEGEP       Accounting   \n",
       "3       College/CEGEP       Accounting   \n",
       "4       College/CEGEP       Accounting   \n",
       "5       College/CEGEP       Accounting   \n",
       "6       College/CEGEP       Accounting   \n",
       "7       College/CEGEP       Accounting   \n",
       "8       College/CEGEP       Accounting   \n",
       "9       College/CEGEP       Accounting   \n",
       "10  Bachelor's degree       Accounting   \n",
       "11  Bachelor's degree       Accounting   \n",
       "12  Bachelor's degree       Accounting   \n",
       "13  Bachelor's degree       Accounting   \n",
       "14  Bachelor's degree       Accounting   \n",
       "15  Bachelor's degree       Accounting   \n",
       "16  Bachelor's degree       Accounting   \n",
       "17  Bachelor's degree       Accounting   \n",
       "18  Bachelor's degree       Accounting   \n",
       "19  Bachelor's degree       Accounting   \n",
       "20    Master's degree       Accounting   \n",
       "21    Master's degree       Accounting   \n",
       "22    Master's degree       Accounting   \n",
       "23    Master's degree       Accounting   \n",
       "24    Master's degree       Accounting   \n",
       "25    Master's degree       Accounting   \n",
       "26    Master's degree       Accounting   \n",
       "27    Master's degree       Accounting   \n",
       "28    Master's degree       Accounting   \n",
       "29    Master's degree       Accounting   \n",
       "\n",
       "                                             top-jobs job-percent  \\\n",
       "0                       Accounting and related clerks      11.99%   \n",
       "1                  Financial auditors and accountants      11.23%   \n",
       "2              Accounting technicians and bookkeepers      10.46%   \n",
       "3                             Administrative officers       3.92%   \n",
       "4                                 Retail salespersons       3.25%   \n",
       "5                           Administrative assistants       3.06%   \n",
       "6                 Retail and wholesale trade managers       2.63%   \n",
       "7                      General office support workers       2.53%   \n",
       "8   Other customer and information services repres...       2.48%   \n",
       "9   Customer services representatives - financial ...       2.05%   \n",
       "10                 Financial auditors and accountants      46.95%   \n",
       "11                  Financial and investment analysts       7.35%   \n",
       "12                      Accounting and related clerks       7.05%   \n",
       "13                                 Financial managers       5.44%   \n",
       "14             Accounting technicians and bookkeepers       3.66%   \n",
       "15                           Other financial officers       2.41%   \n",
       "16                            Administrative officers       1.29%   \n",
       "17  Professional occupations in business managemen...       1.19%   \n",
       "18                    Financial sales representatives       1.19%   \n",
       "19                                Retail salespersons       1.02%   \n",
       "20                 Financial auditors and accountants      50.91%   \n",
       "21                                 Financial managers      11.82%   \n",
       "22                      Accounting and related clerks       5.45%   \n",
       "23                           Other financial officers       3.64%   \n",
       "24                  Financial and investment analysts       3.41%   \n",
       "25  Senior managers - financial, communications an...       1.59%   \n",
       "26             Accounting technicians and bookkeepers       1.59%   \n",
       "27      Banking, credit and other investment managers       1.36%   \n",
       "28  Insurance, real estate and financial brokerage...       1.14%   \n",
       "29                University professors and lecturers       1.14%   \n",
       "\n",
       "                        identifier  \n",
       "0       Accounting : College/CEGEP  \n",
       "1       Accounting : College/CEGEP  \n",
       "2       Accounting : College/CEGEP  \n",
       "3       Accounting : College/CEGEP  \n",
       "4       Accounting : College/CEGEP  \n",
       "5       Accounting : College/CEGEP  \n",
       "6       Accounting : College/CEGEP  \n",
       "7       Accounting : College/CEGEP  \n",
       "8       Accounting : College/CEGEP  \n",
       "9       Accounting : College/CEGEP  \n",
       "10  Accounting : Bachelor's degree  \n",
       "11  Accounting : Bachelor's degree  \n",
       "12  Accounting : Bachelor's degree  \n",
       "13  Accounting : Bachelor's degree  \n",
       "14  Accounting : Bachelor's degree  \n",
       "15  Accounting : Bachelor's degree  \n",
       "16  Accounting : Bachelor's degree  \n",
       "17  Accounting : Bachelor's degree  \n",
       "18  Accounting : Bachelor's degree  \n",
       "19  Accounting : Bachelor's degree  \n",
       "20    Accounting : Master's degree  \n",
       "21    Accounting : Master's degree  \n",
       "22    Accounting : Master's degree  \n",
       "23    Accounting : Master's degree  \n",
       "24    Accounting : Master's degree  \n",
       "25    Accounting : Master's degree  \n",
       "26    Accounting : Master's degree  \n",
       "27    Accounting : Master's degree  \n",
       "28    Accounting : Master's degree  \n",
       "29    Accounting : Master's degree  "
      ]
     },
     "execution_count": 82,
     "metadata": {},
     "output_type": "execute_result"
    }
   ],
   "source": [
    "job_name_df.where(job_name_df['education-groups']=='Accounting').dropna()"
   ]
  },
  {
   "cell_type": "code",
   "execution_count": 7,
   "metadata": {},
   "outputs": [],
   "source": [
    "job_name_df.to_csv('/Users/amanda/Documents/Projects/insight/data/processed/education-to-job.csv', index=False)"
   ]
  },
  {
   "cell_type": "code",
   "execution_count": null,
   "metadata": {},
   "outputs": [],
   "source": []
  }
 ],
 "metadata": {
  "kernelspec": {
   "display_name": "insight",
   "language": "python",
   "name": "insight"
  },
  "language_info": {
   "codemirror_mode": {
    "name": "ipython",
    "version": 3
   },
   "file_extension": ".py",
   "mimetype": "text/x-python",
   "name": "python",
   "nbconvert_exporter": "python",
   "pygments_lexer": "ipython3",
   "version": "3.7.3"
  }
 },
 "nbformat": 4,
 "nbformat_minor": 4
}
