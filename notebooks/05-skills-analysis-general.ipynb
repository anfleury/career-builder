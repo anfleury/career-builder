{
 "cells": [
  {
   "cell_type": "code",
   "execution_count": 37,
   "metadata": {},
   "outputs": [
    {
     "name": "stderr",
     "output_type": "stream",
     "text": [
      "/Users/amanda/.virtualenvs/insight/lib/python3.7/site-packages/fuzzywuzzy/fuzz.py:11: UserWarning: Using slow pure-python SequenceMatcher. Install python-Levenshtein to remove this warning\n",
      "  warnings.warn('Using slow pure-python SequenceMatcher. Install python-Levenshtein to remove this warning')\n"
     ]
    }
   ],
   "source": [
    "import pandas as pd\n",
    "import numpy as np\n",
    "import os, re, ast\n",
    "from fuzzywuzzy import process"
   ]
  },
  {
   "cell_type": "code",
   "execution_count": 22,
   "metadata": {},
   "outputs": [],
   "source": [
    "def convert_to_list(df,columns):\n",
    "\n",
    "    df.fillna('', inplace=True)\n",
    "    \n",
    "    for col in columns:\n",
    "        if isinstance(df[col][0], str):\n",
    "            df[col] = [ast.literal_eval(s) for s in df[col]]\n",
    "        \n",
    "    return df"
   ]
  },
  {
   "cell_type": "code",
   "execution_count": 23,
   "metadata": {},
   "outputs": [],
   "source": [
    "def find_edu_skills(job_df,skills_df,education):\n",
    "\n",
    "    education_jobs = job_df.loc[job_df['education_groups'] == education]\n",
    "    merged_df = pd.merge(left=education_jobs, \n",
    "                         right=skills_df, \n",
    "                         how='left', \n",
    "                         left_on='link', \n",
    "                         right_on='link')\n",
    "    \n",
    "    merged_df_unique = merged_df.drop_duplicates(subset=['link'])\n",
    "    \n",
    "    skills_expanded = merged_df_unique[['link',\n",
    "                                        'degree',\n",
    "                                        'education_groups',\n",
    "                                        'top_jobs',\n",
    "                                        'job_percent',\n",
    "                                        'skills']].explode('skills')\n",
    "    \n",
    "    skills_dict = skills_expanded['skills'].value_counts().to_dict()\n",
    "    \n",
    "    # Remove skills from the list where the count is less than 2 as they're probably not strongly associated with the educaiton\n",
    "    skill_values = {key:val for key, val in skills_dict.items() if val > 2}\n",
    "    \n",
    "    return skill_values"
   ]
  },
  {
   "cell_type": "code",
   "execution_count": 24,
   "metadata": {},
   "outputs": [],
   "source": [
    "def find_job_skills(job_lookup,skills_df,job):\n",
    "    \n",
    "    job_link = job_lookup.loc[job_lookup['top_jobs'] == job.lower()]\n",
    "    \n",
    "    merged_df = pd.merge(left=job_link, \n",
    "                         right=skills_df, \n",
    "                         how='left', \n",
    "                         left_on='link', \n",
    "                         right_on='link')\n",
    "    \n",
    "    \n",
    "    merged_df_unique = merged_df.drop_duplicates(subset=['link'])\n",
    "    \n",
    "    skills_expanded = merged_df_unique[['link',\n",
    "                                        'top_jobs',\n",
    "                                        'skills']].explode('skills')\n",
    "    \n",
    "    job_skill_values = skills_expanded['skills'].value_counts().to_dict()\n",
    "    \n",
    "    return job_skill_values"
   ]
  },
  {
   "cell_type": "code",
   "execution_count": 25,
   "metadata": {},
   "outputs": [],
   "source": [
    "data_path = '/Users/amanda/Documents/Projects/insight/data'\n",
    "\n",
    "# Load education and occupation details\n",
    "\n",
    "overview = pd.read_csv(os.path.join(data_path,'processed','job-overview.csv'))\n",
    "description = pd.read_csv(os.path.join(data_path,'processed','job-description.csv'))\n",
    "regulation = pd.read_csv(os.path.join(data_path,'processed','job-regulation.csv'))\n",
    "skills = pd.read_csv(os.path.join(data_path,'processed','job-skills.csv'))\n",
    "\n",
    "job_name_df = pd.read_csv(os.path.join(data_path,'processed','education-to-job.csv'))\n"
   ]
  },
  {
   "cell_type": "code",
   "execution_count": 26,
   "metadata": {},
   "outputs": [],
   "source": [
    "# Convert dataframe columns back to lists where necessary\n",
    "overview_df = overview\n",
    "description_df = convert_to_list(description,['duties','titles'])\n",
    "regulation_df = regulation\n",
    "skills_df = convert_to_list(skills,['expertise','skills','knowledge'])"
   ]
  },
  {
   "cell_type": "code",
   "execution_count": 27,
   "metadata": {},
   "outputs": [],
   "source": [
    "# Create a simple key for job title to link\n",
    "job_lookup = job_name_df[['top_jobs','link']].drop_duplicates()\n",
    "job_lookup['top_jobs'] = job_lookup['top_jobs'].str.lower()"
   ]
  },
  {
   "cell_type": "code",
   "execution_count": 28,
   "metadata": {},
   "outputs": [
    {
     "data": {
      "text/plain": [
       "{'Information Handling : Managing Information',\n",
       " 'Management : Allocating and Controlling Resources'}"
      ]
     },
     "execution_count": 28,
     "metadata": {},
     "output_type": "execute_result"
    }
   ],
   "source": [
    "# Get skills associated with the given education and compare to new job\n",
    "\n",
    "degree = 'Civil engineering and related studies'\n",
    "alt_job = 'Administrative officers'\n",
    "\n",
    "edu_skill_dict = find_edu_skills(job_name_df,skills_df,degree)\n",
    "job_skill_dict = find_job_skills(job_lookup,skills_df,alt_job)\n",
    "\n",
    "edu_skill_sort = sorted(list(edu_skill_dict.keys()))\n",
    "job_skill_sort = sorted(list(job_skill_dict.keys()))\n",
    "\n",
    "matching_skills = [key for key in edu_skill_dict.keys() & job_skill_dict.keys()]\n",
    "new_skills = set(job_skill_dict.keys()) - set(edu_skill_dict.keys())\n",
    "\n",
    "new_skills"
   ]
  },
  {
   "cell_type": "code",
   "execution_count": 29,
   "metadata": {},
   "outputs": [
    {
     "data": {
      "text/plain": [
       "['Analysis : Analyzing Information',\n",
       " 'Analysis : Planning',\n",
       " 'Analysis : Projecting Outcomes',\n",
       " 'Information Handling : Managing Information',\n",
       " 'Management : Allocating and Controlling Resources',\n",
       " 'Management : Co-ordinating and Organizing',\n",
       " 'Management : Supervising']"
      ]
     },
     "execution_count": 29,
     "metadata": {},
     "output_type": "execute_result"
    }
   ],
   "source": [
    "job_skill_sort"
   ]
  },
  {
   "cell_type": "code",
   "execution_count": 30,
   "metadata": {},
   "outputs": [],
   "source": [
    "def get_description(job_lookup,df,job):\n",
    "\n",
    "    job_link = job_lookup['link'].loc[job_lookup['top_jobs'] == job.lower()]\n",
    "\n",
    "    merged_df = pd.merge(left=job_link, \n",
    "                         right=df, \n",
    "                         how='left', \n",
    "                         left_on='link', \n",
    "                         right_on='link')\n",
    "    \n",
    "    \n",
    "    description = merged_df['description'][0]\n",
    "    \n",
    "    return description"
   ]
  },
  {
   "cell_type": "code",
   "execution_count": 31,
   "metadata": {},
   "outputs": [
    {
     "data": {
      "text/plain": [
       "'Administrative officers oversee and implement administrative procedures, establish work priorities, conduct analyses of administrative operations and co-ordinate acquisition of administrative services such as office space, supplies and security services. They are employed throughout the public and private sectors. Administrative officers who are supervisors are included in this unit group.'"
      ]
     },
     "execution_count": 31,
     "metadata": {},
     "output_type": "execute_result"
    }
   ],
   "source": [
    "get_description(job_lookup, description_df,'Administrative officers')"
   ]
  },
  {
   "cell_type": "code",
   "execution_count": 32,
   "metadata": {},
   "outputs": [
    {
     "data": {
      "text/plain": [
       "0       Accounting\n",
       "1       Accounting\n",
       "2       Accounting\n",
       "3       Accounting\n",
       "4       Accounting\n",
       "           ...    \n",
       "1940     Sociology\n",
       "1941     Sociology\n",
       "1942     Sociology\n",
       "1943     Sociology\n",
       "1944     Sociology\n",
       "Name: education_groups, Length: 1945, dtype: object"
      ]
     },
     "execution_count": 32,
     "metadata": {},
     "output_type": "execute_result"
    }
   ],
   "source": [
    "job_name_df['education_groups']"
   ]
  },
  {
   "cell_type": "code",
   "execution_count": 33,
   "metadata": {},
   "outputs": [
    {
     "name": "stdout",
     "output_type": "stream",
     "text": [
      "<class 'list'>\n"
     ]
    },
    {
     "data": {
      "text/plain": [
       "['Other social sciences',\n",
       " 'Social sciences',\n",
       " 'Mental and Social Health Services and Allied Professions',\n",
       " 'Public administration and other social service professions',\n",
       " 'Social work',\n",
       " 'Sociology']"
      ]
     },
     "execution_count": 33,
     "metadata": {},
     "output_type": "execute_result"
    }
   ],
   "source": [
    "q = 'soc'\n",
    "\n",
    "job_names = list(job_name_df['education_groups'].unique())\n",
    "\n",
    "print(type(job_names))\n",
    "query = [s for s in job_names if q.lower() in s.lower()]\n",
    "query"
   ]
  },
  {
   "cell_type": "code",
   "execution_count": 40,
   "metadata": {},
   "outputs": [],
   "source": [
    "def find_closest_match(usr_input,name_list):\n",
    "\n",
    "    highest = process.extract(usr_input,name_list)[0:3]\n",
    "    top3matches = [x[0] for x in highest]\n",
    "\n",
    "    return top3matches"
   ]
  },
  {
   "cell_type": "code",
   "execution_count": 42,
   "metadata": {},
   "outputs": [
    {
     "data": {
      "text/plain": [
       "['Mechanical Engineering Related Technologies/Technicians',\n",
       " 'Other engineering related fields',\n",
       " 'Electrical and Electronic Engineering Technologies/Technicians']"
      ]
     },
     "execution_count": 42,
     "metadata": {},
     "output_type": "execute_result"
    }
   ],
   "source": [
    "edu_names = list(job_name_df['education_groups'].unique())\n",
    "close_match = find_closest_match('enginering',edu_names)\n",
    "close_match"
   ]
  },
  {
   "cell_type": "code",
   "execution_count": null,
   "metadata": {},
   "outputs": [],
   "source": []
  }
 ],
 "metadata": {
  "kernelspec": {
   "display_name": "insight",
   "language": "python",
   "name": "insight"
  },
  "language_info": {
   "codemirror_mode": {
    "name": "ipython",
    "version": 3
   },
   "file_extension": ".py",
   "mimetype": "text/x-python",
   "name": "python",
   "nbconvert_exporter": "python",
   "pygments_lexer": "ipython3",
   "version": "3.7.3"
  }
 },
 "nbformat": 4,
 "nbformat_minor": 4
}
