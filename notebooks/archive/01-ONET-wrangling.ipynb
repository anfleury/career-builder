{
 "cells": [
  {
   "cell_type": "code",
   "execution_count": 1,
   "metadata": {},
   "outputs": [],
   "source": [
    "#Import modules\n",
    "import os\n",
    "import numpy\n",
    "import psycopg2\n",
    "import numpy as np\n",
    "import pandas as pd\n",
    "from sqlalchemy import create_engine\n",
    "from sqlalchemy_utils import database_exists, create_database"
   ]
  },
  {
   "cell_type": "code",
   "execution_count": 2,
   "metadata": {},
   "outputs": [],
   "source": [
    "data_path = '/Users/amanda/Documents/Projects/insight/data/raw/onet-skills-db/'\n",
    "\n",
    "#Load ONet Data\n",
    "df_Skills = pd.read_excel(os.path.join(data_path,'Skills.xlsx'))\n",
    "df_AltTitles = pd.read_excel(os.path.join(data_path,'Alternate Titles.xlsx'))\n",
    "df_WorkAct = pd.read_excel(os.path.join(data_path,'Work Activities.xlsx'))\n",
    "df_DWARef = pd.read_excel(os.path.join(data_path,'DWA Reference.xlsx'))\n",
    "df_IWA = pd.read_excel(os.path.join(data_path,'DWA Reference.xlsx'))"
   ]
  },
  {
   "cell_type": "code",
   "execution_count": 4,
   "metadata": {},
   "outputs": [],
   "source": [
    "#Build matrix for analysis\n",
    "jobsList = df_Skills['Title'].unique()\n",
    "skillsList = df_Skills['Element Name'].unique()\n",
    "\n",
    "#Make a matrix for the scores\n",
    "skillsMat = numpy.zeros((len(jobsList),len(skillsList)))\n",
    "for i in range(len(jobsList)):\n",
    "    for j in range(len(skillsList)):\n",
    "        skillsMat[i,j] = df_Skills[(df_Skills['Title']==jobsList[i]) & (df_Skills['Element Name']==skillsList[j]) & (df_Skills['Scale ID']=='IM')]['Data Value']\n",
    "        \n",
    "#Make a matrix of the scores        \n",
    "actsList = df_WorkAct['Element Name'].unique()\n",
    "actsMat = numpy.zeros((len(jobsList),len(actsList)))\n",
    "outList = []\n",
    "for i in range(len(jobsList)):\n",
    "    for j in range(len(actsList)):\n",
    "        actsMat[i,j] = df_WorkAct[(df_WorkAct['Title']==jobsList[i]) & (df_WorkAct['Element Name']==actsList[j]) & (df_WorkAct['Scale ID']=='IM')]['Data Value']"
   ]
  },
  {
   "cell_type": "code",
   "execution_count": 5,
   "metadata": {},
   "outputs": [
    {
     "name": "stdout",
     "output_type": "stream",
     "text": [
      "postgres://amanda@localhost/onet-skills-db\n",
      "True\n"
     ]
    }
   ],
   "source": [
    "#Create dataframe with desired info\n",
    "df_write_skills = pd.DataFrame(skillsMat,columns=skillsList)\n",
    "df_write_skills['title'] = jobsList\n",
    "df_write_acts = pd.DataFrame(actsMat,columns=actsList)\n",
    "df_write_acts['title'] = jobsList\n",
    "\n",
    "#Write to database\n",
    "#Create or load database\n",
    "dbname = 'onet-skills-db'\n",
    "username = 'amanda' # change this to your username\n",
    "## 'engine' is a connection to a database\n",
    "## Here, we're using postgres, but sqlalchemy can connect to other things too.\n",
    "engine = create_engine('postgres://%s@localhost/%s'%(username,dbname))\n",
    "print(engine.url)\n",
    "## create a database (if it doesn't exist)\n",
    "if not database_exists(engine.url):\n",
    "    create_database(engine.url)\n",
    "print(database_exists(engine.url))\n",
    "\n",
    "#Write to tables\n",
    "df_write_skills.to_sql('skills_table',engine,if_exists='replace')\n",
    "df_write_acts.to_sql('acts_table',engine,if_exists='replace')\n",
    "df_IWA.to_sql('iwa_table',engine,if_exists='replace')\n",
    "df_DWARef.to_sql('dwa_table',engine,if_exists='replace')\n",
    "df_AltTitles[['O*NET-SOC Code','Title','Alternate Title']].to_sql('alttitles_table',engine,if_exists='replace')"
   ]
  },
  {
   "cell_type": "code",
   "execution_count": null,
   "metadata": {},
   "outputs": [],
   "source": []
  }
 ],
 "metadata": {
  "kernelspec": {
   "display_name": "insight",
   "language": "python",
   "name": "insight"
  },
  "language_info": {
   "codemirror_mode": {
    "name": "ipython",
    "version": 3
   },
   "file_extension": ".py",
   "mimetype": "text/x-python",
   "name": "python",
   "nbconvert_exporter": "python",
   "pygments_lexer": "ipython3",
   "version": "3.7.3"
  }
 },
 "nbformat": 4,
 "nbformat_minor": 4
}
